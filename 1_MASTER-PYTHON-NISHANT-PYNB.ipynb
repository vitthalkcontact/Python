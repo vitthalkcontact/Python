{
 "cells": [
  {
   "cell_type": "markdown",
   "metadata": {},
   "source": [
    "# CLASS-1: 12 OCTOBER 2019"
   ]
  },
  {
   "cell_type": "markdown",
   "metadata": {},
   "source": [
    "# Introduction"
   ]
  },
  {
   "cell_type": "markdown",
   "metadata": {},
   "source": [
    "```\n",
    "Python-2 and Python-3\n",
    "Why Python-3\n",
    "```"
   ]
  },
  {
   "cell_type": "code",
   "execution_count": 1,
   "metadata": {},
   "outputs": [
    {
     "name": "stdout",
     "output_type": "stream",
     "text": [
      "1005\n"
     ]
    }
   ],
   "source": [
    "# Identifier or Variable\n",
    "# Assignment operator\n",
    "# List\n",
    "# Find All transactions less than 50\n",
    "# find maximum from below list\n",
    "numbers = [-5,78,-999,55,1005,750,586,987,457,-1005]\n",
    "\n",
    "maximum_number = numbers[0] # fetching the first element\n",
    "for current_number in numbers:\n",
    "    if current_number > maximum_number:\n",
    "        maximum_number = current_number\n",
    "print(maximum_number)"
   ]
  },
  {
   "cell_type": "markdown",
   "metadata": {},
   "source": [
    "# Arithmetic Operators"
   ]
  },
  {
   "cell_type": "markdown",
   "metadata": {},
   "source": [
    "```\n",
    "+ - * /\n",
    "\n",
    "// ** %\n",
    "\n",
    "```"
   ]
  },
  {
   "cell_type": "code",
   "execution_count": 9,
   "metadata": {},
   "outputs": [
    {
     "data": {
      "text/plain": [
       "2.142857142857143"
      ]
     },
     "execution_count": 9,
     "metadata": {},
     "output_type": "execute_result"
    }
   ],
   "source": [
    "15/7 # Always return float"
   ]
  },
  {
   "cell_type": "code",
   "execution_count": 10,
   "metadata": {},
   "outputs": [
    {
     "data": {
      "text/plain": [
       "2"
      ]
     },
     "execution_count": 10,
     "metadata": {},
     "output_type": "execute_result"
    }
   ],
   "source": [
    "15//7 # called floor division. Always return int if both are int"
   ]
  },
  {
   "cell_type": "code",
   "execution_count": 11,
   "metadata": {},
   "outputs": [
    {
     "data": {
      "text/plain": [
       "2.0"
      ]
     },
     "execution_count": 11,
     "metadata": {},
     "output_type": "execute_result"
    }
   ],
   "source": [
    "15.0//7 # Return float if any one or both are float"
   ]
  },
  {
   "cell_type": "code",
   "execution_count": 12,
   "metadata": {},
   "outputs": [
    {
     "data": {
      "text/plain": [
       "1"
      ]
     },
     "execution_count": 12,
     "metadata": {},
     "output_type": "execute_result"
    }
   ],
   "source": [
    "15%7 # called modulus. Returns remainder"
   ]
  },
  {
   "cell_type": "code",
   "execution_count": 13,
   "metadata": {},
   "outputs": [
    {
     "data": {
      "text/plain": [
       "8"
      ]
     },
     "execution_count": 13,
     "metadata": {},
     "output_type": "execute_result"
    }
   ],
   "source": [
    "2**3"
   ]
  },
  {
   "cell_type": "markdown",
   "metadata": {},
   "source": [
    "# Assignment Operators"
   ]
  },
  {
   "cell_type": "code",
   "execution_count": 16,
   "metadata": {},
   "outputs": [
    {
     "name": "stdout",
     "output_type": "stream",
     "text": [
      "0\n"
     ]
    }
   ],
   "source": [
    "x = 10\n",
    "# x = x + 1  # these two lines mean same thing\n",
    "# x += 1 # these two lines mean same thing\n",
    "# x -= 1\n",
    "# x *= 1\n",
    "# x /= 5\n",
    "# x //= 5\n",
    "x %= 5\n",
    "print(x)"
   ]
  },
  {
   "cell_type": "markdown",
   "metadata": {},
   "source": [
    "# comparision operators (Results are either True or False)"
   ]
  },
  {
   "cell_type": "markdown",
   "metadata": {},
   "source": [
    " ```\n",
    "    > < >= <= != == is, is not\n",
    "```"
   ]
  },
  {
   "cell_type": "code",
   "execution_count": 17,
   "metadata": {},
   "outputs": [
    {
     "data": {
      "text/plain": [
       "False"
      ]
     },
     "execution_count": 17,
     "metadata": {},
     "output_type": "execute_result"
    }
   ],
   "source": [
    "5>6"
   ]
  },
  {
   "cell_type": "code",
   "execution_count": 18,
   "metadata": {},
   "outputs": [
    {
     "data": {
      "text/plain": [
       "False"
      ]
     },
     "execution_count": 18,
     "metadata": {},
     "output_type": "execute_result"
    }
   ],
   "source": [
    "5 == 10"
   ]
  },
  {
   "cell_type": "code",
   "execution_count": 19,
   "metadata": {},
   "outputs": [
    {
     "data": {
      "text/plain": [
       "True"
      ]
     },
     "execution_count": 19,
     "metadata": {},
     "output_type": "execute_result"
    }
   ],
   "source": [
    "10 <= 100"
   ]
  },
  {
   "cell_type": "code",
   "execution_count": 20,
   "metadata": {},
   "outputs": [
    {
     "name": "stdout",
     "output_type": "stream",
     "text": [
      "True\n"
     ]
    }
   ],
   "source": [
    "print(10.0 == 10) # Object or Valuec comparison operator "
   ]
  },
  {
   "cell_type": "code",
   "execution_count": 21,
   "metadata": {},
   "outputs": [
    {
     "name": "stdout",
     "output_type": "stream",
     "text": [
      "False\n"
     ]
    }
   ],
   "source": [
    "print (10.0 is 10) # location or address comparison operator"
   ]
  },
  {
   "cell_type": "code",
   "execution_count": 22,
   "metadata": {},
   "outputs": [
    {
     "name": "stdout",
     "output_type": "stream",
     "text": [
      "False\n"
     ]
    }
   ],
   "source": [
    "print(10.0 != 10)"
   ]
  },
  {
   "cell_type": "code",
   "execution_count": 25,
   "metadata": {},
   "outputs": [
    {
     "name": "stdout",
     "output_type": "stream",
     "text": [
      "True\n"
     ]
    }
   ],
   "source": [
    "print(10 != 100)"
   ]
  },
  {
   "cell_type": "markdown",
   "metadata": {},
   "source": [
    "# Logical operator"
   ]
  },
  {
   "cell_type": "markdown",
   "metadata": {},
   "source": [
    "### logical operator\n",
    "```\n",
    "and \n",
    "or \n",
    "not\n",
    "```\n",
    "```\n",
    "and : True only when both conditions are true\n",
    "or : True when any one is true\n",
    "not :\n",
    "```"
   ]
  },
  {
   "cell_type": "code",
   "execution_count": 27,
   "metadata": {},
   "outputs": [
    {
     "name": "stdout",
     "output_type": "stream",
     "text": [
      "pass\n"
     ]
    }
   ],
   "source": [
    "#marks = 75\n",
    "#print pass only if marks is greater than 35 and less than 90\n",
    "\n",
    "marks = 75\n",
    "if marks > 35 and marks < 90:\n",
    "    print('pass')"
   ]
  },
  {
   "cell_type": "markdown",
   "metadata": {},
   "source": [
    "# membership operator"
   ]
  },
  {
   "cell_type": "markdown",
   "metadata": {},
   "source": [
    "```\n",
    "in \n",
    "not in\n",
    "```"
   ]
  },
  {
   "cell_type": "code",
   "execution_count": 29,
   "metadata": {},
   "outputs": [
    {
     "name": "stdout",
     "output_type": "stream",
     "text": [
      "Found\n"
     ]
    }
   ],
   "source": [
    "student_marks = [55,65,78,82,57,72,57,95]\n",
    "for current_marks in student_marks:\n",
    "    if current_marks == 82:\n",
    "        print(\"Found\")"
   ]
  },
  {
   "cell_type": "code",
   "execution_count": 30,
   "metadata": {},
   "outputs": [
    {
     "data": {
      "text/plain": [
       "False"
      ]
     },
     "execution_count": 30,
     "metadata": {},
     "output_type": "execute_result"
    }
   ],
   "source": [
    "86 in student_marks # in operator"
   ]
  },
  {
   "cell_type": "code",
   "execution_count": 31,
   "metadata": {},
   "outputs": [
    {
     "data": {
      "text/plain": [
       "True"
      ]
     },
     "execution_count": 31,
     "metadata": {},
     "output_type": "execute_result"
    }
   ],
   "source": [
    "86 not in student_marks"
   ]
  },
  {
   "cell_type": "markdown",
   "metadata": {},
   "source": [
    "# ASSIGNMENT"
   ]
  },
  {
   "cell_type": "markdown",
   "metadata": {},
   "source": [
    "### Problems to Solve"
   ]
  },
  {
   "cell_type": "markdown",
   "metadata": {},
   "source": [
    "# Take input from user and print it"
   ]
  },
  {
   "cell_type": "code",
   "execution_count": 33,
   "metadata": {},
   "outputs": [
    {
     "name": "stdout",
     "output_type": "stream",
     "text": [
      "Enter the statement to be printed: This is python programming language learning\n",
      "This is python programming language learning\n"
     ]
    }
   ],
   "source": [
    "user_input = input(\"Enter the statement to be printed: \")\n",
    "print(user_input)"
   ]
  },
  {
   "cell_type": "markdown",
   "metadata": {},
   "source": [
    "# Take input from user twice, store it in two variable, and print their addition"
   ]
  },
  {
   "cell_type": "code",
   "execution_count": 34,
   "metadata": {},
   "outputs": [
    {
     "name": "stdout",
     "output_type": "stream",
     "text": [
      "Enter an integer number-1: 10\n",
      "Enter an integer number-2: 20\n",
      "30\n"
     ]
    }
   ],
   "source": [
    "num1 = int(input(\"Enter an integer number-1: \"))\n",
    "num2 = int(input(\"Enter an integer number-2: \"))\n",
    "addition = num1 + num2\n",
    "print(addition)"
   ]
  },
  {
   "cell_type": "code",
   "execution_count": 35,
   "metadata": {},
   "outputs": [
    {
     "name": "stdout",
     "output_type": "stream",
     "text": [
      "Enter an integer number-1: 10\n",
      "Enter an integer number-2: 20\n",
      "30\n"
     ]
    }
   ],
   "source": [
    "num1 = float(input(\"Enter an integer number-1: \"))\n",
    "num2 = float(input(\"Enter an integer number-2: \"))\n",
    "addition = num1 + num2\n",
    "# print(addition)\n",
    "print(int(addition))"
   ]
  },
  {
   "cell_type": "code",
   "execution_count": 38,
   "metadata": {},
   "outputs": [
    {
     "name": "stdout",
     "output_type": "stream",
     "text": [
      "Enter an integer number-1: 10\n",
      "Enter an integer number-2: 20\n",
      "30.0\n"
     ]
    }
   ],
   "source": [
    "num1 = float(int(input(\"Enter an integer number-1: \")))\n",
    "num2 = float(int(input(\"Enter an integer number-2: \")))\n",
    "addition = num1 + num2\n",
    "print(addition)"
   ]
  },
  {
   "cell_type": "code",
   "execution_count": 41,
   "metadata": {},
   "outputs": [
    {
     "name": "stdout",
     "output_type": "stream",
     "text": [
      "Enter an integer number-1: 10.0\n",
      "Enter an integer number-2: 20.0\n",
      "30\n"
     ]
    }
   ],
   "source": [
    "num1 = float(input(\"Enter an integer number-1: \"))\n",
    "num2 = float(input(\"Enter an integer number-2: \"))\n",
    "addition = num1 + num2\n",
    "# print(addition)\n",
    "print(int(addition))"
   ]
  },
  {
   "cell_type": "markdown",
   "metadata": {},
   "source": [
    "# Take input from user twice, store it in two variables, and print the maximum between them."
   ]
  },
  {
   "cell_type": "code",
   "execution_count": 42,
   "metadata": {},
   "outputs": [
    {
     "name": "stdout",
     "output_type": "stream",
     "text": [
      "Enter an integer number-1: 40\n",
      "Enter an integer number-2: 60\n",
      "Greater number is:  60\n"
     ]
    }
   ],
   "source": [
    "num1 = int(input(\"Enter an integer number-1: \"))\n",
    "num2 = int(input(\"Enter an integer number-2: \"))\n",
    "if num1 > num2:\n",
    "    print(\"Greater number is: \",num1)\n",
    "else:\n",
    "    print(\"Greater number is: \",num2)"
   ]
  },
  {
   "cell_type": "code",
   "execution_count": 43,
   "metadata": {},
   "outputs": [
    {
     "name": "stdout",
     "output_type": "stream",
     "text": [
      "Enter an integer number-1: 100\n",
      "Enter an integer number-2: 30\n",
      "Greater number is: 100\n"
     ]
    }
   ],
   "source": [
    "num1 = int(input(\"Enter an integer number-1: \"))\n",
    "num2 = int(input(\"Enter an integer number-2: \"))\n",
    "if num1 > num2:\n",
    "    print(\"Greater number is: {}\".format(num1))\n",
    "else:\n",
    "    print(\"Greater number is: {}\".format(num2))"
   ]
  },
  {
   "cell_type": "markdown",
   "metadata": {},
   "source": [
    "# CLASS-1: 12 OCTOBER 2019"
   ]
  }
 ],
 "metadata": {
  "kernelspec": {
   "display_name": "Python 3",
   "language": "python",
   "name": "python3"
  },
  "language_info": {
   "codemirror_mode": {
    "name": "ipython",
    "version": 3
   },
   "file_extension": ".py",
   "mimetype": "text/x-python",
   "name": "python",
   "nbconvert_exporter": "python",
   "pygments_lexer": "ipython3",
   "version": "3.7.4"
  }
 },
 "nbformat": 4,
 "nbformat_minor": 2
}
