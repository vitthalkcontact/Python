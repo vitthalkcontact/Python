{
 "cells": [
  {
   "cell_type": "markdown",
   "metadata": {},
   "source": [
    "### Basics from Different data types (List, String and Dictionary)"
   ]
  },
  {
   "cell_type": "markdown",
   "metadata": {},
   "source": [
    "#### 1. Create a list which contains a number from 1 to 10"
   ]
  },
  {
   "cell_type": "code",
   "execution_count": 1,
   "metadata": {
    "ExecuteTime": {
     "end_time": "2019-03-25T04:54:19.820320Z",
     "start_time": "2019-03-25T04:54:19.812319Z"
    }
   },
   "outputs": [
    {
     "name": "stdout",
     "output_type": "stream",
     "text": [
      "[1, 2, 3, 4, 5, 6, 7, 8, 9, 10]\n"
     ]
    }
   ],
   "source": [
    "l1 = [1,2,3,4,5,6,7,8,9,10]\n",
    "print(l1)"
   ]
  },
  {
   "cell_type": "markdown",
   "metadata": {},
   "source": [
    "#### 2. Using slice Create a list which contains middle 5 numbers in a given list of any 50 numbers"
   ]
  },
  {
   "cell_type": "code",
   "execution_count": 7,
   "metadata": {
    "ExecuteTime": {
     "end_time": "2019-03-25T04:56:45.049760Z",
     "start_time": "2019-03-25T04:56:45.044762Z"
    }
   },
   "outputs": [
    {
     "name": "stdout",
     "output_type": "stream",
     "text": [
      "[25, 26, 27]\n"
     ]
    }
   ],
   "source": [
    "l2 = list(range(50))\n",
    "middle_val = int(len(l2)/2)\n",
    "middle_numbers = l2[middle_val:middle_val+3]\n",
    "print(middle_numbers)"
   ]
  },
  {
   "cell_type": "markdown",
   "metadata": {},
   "source": [
    "#### 3. Using slicing filter even and odd number"
   ]
  },
  {
   "cell_type": "code",
   "execution_count": 10,
   "metadata": {
    "ExecuteTime": {
     "end_time": "2019-03-25T04:57:44.012259Z",
     "start_time": "2019-03-25T04:57:44.007259Z"
    }
   },
   "outputs": [
    {
     "name": "stdout",
     "output_type": "stream",
     "text": [
      "even [0, 2, 4, 6, 8, 10, 12, 14, 16, 18]\n",
      "odd [1, 3, 5, 7, 9, 11, 13, 15, 17, 19]\n"
     ]
    }
   ],
   "source": [
    "l3 = list(range(20))\n",
    "even = l3[::2]\n",
    "odd = l3[1::2]\n",
    "print(\"even\",even)\n",
    "print(\"odd\",odd)"
   ]
  },
  {
   "cell_type": "markdown",
   "metadata": {},
   "source": [
    "#### 4. Write a Python program to add key to any given dictionary"
   ]
  },
  {
   "cell_type": "code",
   "execution_count": 12,
   "metadata": {
    "ExecuteTime": {
     "end_time": "2019-03-25T04:58:19.063585Z",
     "start_time": "2019-03-25T04:58:19.058614Z"
    }
   },
   "outputs": [
    {
     "name": "stdout",
     "output_type": "stream",
     "text": [
      "{'A': 2}\n",
      "{'A': 2, 'B': 30}\n"
     ]
    }
   ],
   "source": [
    "d1 = {\"A\":2}\n",
    "print(d1)\n",
    "d1[\"B\"] = 30\n",
    "print(d1)"
   ]
  },
  {
   "cell_type": "markdown",
   "metadata": {},
   "source": [
    "#### 5. Write a Python program to concatenate following dictionaries to create a new one.\n",
    "\n",
    "Sample Dictionary :\n",
    "dict1={1:10, 2:20}\n",
    "dict2={3:30, 4:40}\n",
    "dict3={5:50,6:60}"
   ]
  },
  {
   "cell_type": "code",
   "execution_count": 19,
   "metadata": {
    "ExecuteTime": {
     "end_time": "2019-03-25T04:59:54.546898Z",
     "start_time": "2019-03-25T04:59:54.539907Z"
    }
   },
   "outputs": [
    {
     "name": "stdout",
     "output_type": "stream",
     "text": [
      "{1: 10, 2: 20, 3: 30, 4: 40, 5: 50, 6: 60}\n"
     ]
    }
   ],
   "source": [
    "dict1={1:10, 2:20}\n",
    "dict2={3:30, 4:40}\n",
    "dict3={5:50,6:60}\n",
    "dict1.update(dict2)\n",
    "dict1.update(dict3)\n",
    "print(dict1)"
   ]
  },
  {
   "cell_type": "markdown",
   "metadata": {},
   "source": [
    "#### 6. Write a Python program to check a list is empty or not."
   ]
  },
  {
   "cell_type": "code",
   "execution_count": 21,
   "metadata": {
    "ExecuteTime": {
     "end_time": "2019-03-25T05:00:37.719272Z",
     "start_time": "2019-03-25T05:00:37.713296Z"
    }
   },
   "outputs": [
    {
     "name": "stdout",
     "output_type": "stream",
     "text": [
      "List is empty\n"
     ]
    }
   ],
   "source": [
    "l4 = []\n",
    "if len(l4) == 0:\n",
    "    print(\"List is empty\")\n",
    "else:\n",
    "    print(\"List is NOT empty\")"
   ]
  },
  {
   "cell_type": "markdown",
   "metadata": {},
   "source": [
    "#### 7. Write a Python program to find the second largest number in a list [10,30,20,4,7,2,8,3]"
   ]
  },
  {
   "cell_type": "code",
   "execution_count": 1,
   "metadata": {
    "ExecuteTime": {
     "end_time": "2020-01-13T04:44:04.421659Z",
     "start_time": "2020-01-13T04:44:04.415702Z"
    }
   },
   "outputs": [
    {
     "name": "stdout",
     "output_type": "stream",
     "text": [
      "Second largest number:: 20\n"
     ]
    }
   ],
   "source": [
    "l5 = [10,30,20,4,7,2,8,3]\n",
    "l5.sort()\n",
    "print(\"Second largest number::\",l5[-2])"
   ]
  },
  {
   "cell_type": "markdown",
   "metadata": {},
   "source": [
    "## or"
   ]
  },
  {
   "cell_type": "code",
   "execution_count": 2,
   "metadata": {
    "ExecuteTime": {
     "end_time": "2020-01-13T04:44:16.028049Z",
     "start_time": "2020-01-13T04:44:16.022047Z"
    }
   },
   "outputs": [
    {
     "name": "stdout",
     "output_type": "stream",
     "text": [
      "Second largest number:: 20\n"
     ]
    }
   ],
   "source": [
    "l6 =  [10,30,20,4,7,2,8,3]\n",
    "l6.sort(reverse=True)\n",
    "print(\"Second largest number::\",l6[1])"
   ]
  },
  {
   "cell_type": "markdown",
   "metadata": {},
   "source": [
    "#### 8. Write a Python program to get the input integer value from user to generate a list of values from 0 till the entered number by user (make sure that entered number is included in the list)"
   ]
  },
  {
   "cell_type": "code",
   "execution_count": 35,
   "metadata": {
    "ExecuteTime": {
     "end_time": "2019-03-25T05:04:58.588703Z",
     "start_time": "2019-03-25T05:04:56.744693Z"
    }
   },
   "outputs": [
    {
     "name": "stdout",
     "output_type": "stream",
     "text": [
      "Input any number...10\n",
      "[0, 1, 2, 3, 4, 5, 6, 7, 8, 9, 10]\n"
     ]
    }
   ],
   "source": [
    "ip = int(input(\"Input any number...\"))\n",
    "print(list(range(ip+1)))"
   ]
  },
  {
   "cell_type": "markdown",
   "metadata": {},
   "source": [
    "#### 9. Write a Python program to add new Key,Value pair in {\"A\":2,\"B\":3} dictionary. Get the input \"KEY\" and \"VALUE\" from user and add to the dictionary.\n",
    "If entered KEY is existing then dont overwrite existing KEY:VALUE but print some warning message else add as new KEY/VALUE pair"
   ]
  },
  {
   "cell_type": "code",
   "execution_count": 40,
   "metadata": {
    "ExecuteTime": {
     "end_time": "2019-03-25T05:08:51.383387Z",
     "start_time": "2019-03-25T05:08:47.332524Z"
    }
   },
   "outputs": [
    {
     "name": "stdout",
     "output_type": "stream",
     "text": [
      "Enter any KEYB\n",
      "Enter any VALUE3\n",
      "B key is already existing in{'A': 1, 'B': 3, 'C': 10}\n",
      "New dictionary is:: {'A': 1, 'B': 3, 'C': 10}\n"
     ]
    }
   ],
   "source": [
    "tmp = {\"A\":1,\"B\":3,\"C\":10}\n",
    "k = input(\"Enter any KEY\")\n",
    "v = input(\"Enter any VALUE\")\n",
    "keys = tmp.keys()\n",
    "if k in keys:\n",
    "    print(str(k)+\" key is already existing in\"+str(tmp))\n",
    "else:\n",
    "    tmp[k] = v\n",
    "print(\"New dictionary is::\",tmp)"
   ]
  },
  {
   "cell_type": "markdown",
   "metadata": {
    "ExecuteTime": {
     "end_time": "2018-09-23T15:00:41.260812Z",
     "start_time": "2018-09-23T15:00:41.245212Z"
    }
   },
   "source": [
    "#### 10. Write a Python program to replace every 2nd value to zero in the given list from 0 to 19"
   ]
  },
  {
   "cell_type": "code",
   "execution_count": 45,
   "metadata": {
    "ExecuteTime": {
     "end_time": "2019-03-25T05:11:11.895460Z",
     "start_time": "2019-03-25T05:11:11.889460Z"
    }
   },
   "outputs": [
    {
     "name": "stdout",
     "output_type": "stream",
     "text": [
      "[1, 0, 2, 0, 3, 0, 9, 0, 7, 0, 3]\n"
     ]
    }
   ],
   "source": [
    "l7 = [1,5,2,6,3,8,9,4,7,8,3]\n",
    "for i in range(len(l7)):\n",
    "    if i%2!=0:\n",
    "        l7[i] = 0\n",
    "print(l7)"
   ]
  },
  {
   "cell_type": "markdown",
   "metadata": {},
   "source": [
    "#### 11. Using list comprehension, create a list of even and odd numbers between 1 to 100 and make sure that number is greater than 20 and less than 77"
   ]
  },
  {
   "cell_type": "code",
   "execution_count": 46,
   "metadata": {
    "ExecuteTime": {
     "end_time": "2019-03-25T05:14:17.053092Z",
     "start_time": "2019-03-25T05:14:17.046090Z"
    }
   },
   "outputs": [
    {
     "name": "stdout",
     "output_type": "stream",
     "text": [
      "[21, 22, 23, 24, 25, 26, 27, 28, 29, 30, 31, 32, 33, 34, 35, 36, 37, 38, 39, 40, 41, 42, 43, 44, 45, 46, 47, 48, 49, 50, 51, 52, 53, 54, 55, 56, 57, 58, 59, 60, 61, 62, 63, 64, 65, 66, 67, 68, 69, 70, 71, 72, 73, 74, 75, 76]\n"
     ]
    }
   ],
   "source": [
    "tmp1 = [var for var in range(100) if var >20 and var <77]\n",
    "print(tmp1)"
   ]
  },
  {
   "cell_type": "markdown",
   "metadata": {},
   "source": [
    "#### 12. multiply Each item of list1 with list2 elements. Where L1 = range(10), L2 = range(11,21). Store the result in new list. "
   ]
  },
  {
   "cell_type": "code",
   "execution_count": 47,
   "metadata": {
    "ExecuteTime": {
     "end_time": "2019-03-25T05:16:18.655286Z",
     "start_time": "2019-03-25T05:16:18.649279Z"
    }
   },
   "outputs": [
    {
     "name": "stdout",
     "output_type": "stream",
     "text": [
      "New list is :: [0, 12, 26, 42, 60, 80, 102, 126, 152, 180]\n"
     ]
    }
   ],
   "source": [
    "L1 = list(range(10))\n",
    "L2 = list(range(11,21))\n",
    "new_list = []\n",
    "for i in range(len(L1)):\n",
    "    tmp = L1[i]*L2[i]\n",
    "    new_list.append(tmp)\n",
    "print(\"New list is ::\",new_list)"
   ]
  },
  {
   "cell_type": "markdown",
   "metadata": {},
   "source": [
    "#### 13. Using iter function print only even and odd numbers of a list between 1 to 50\n",
    "Note: Iter function I'll explain in next class, however you can explore if interested."
   ]
  },
  {
   "cell_type": "code",
   "execution_count": 48,
   "metadata": {
    "ExecuteTime": {
     "end_time": "2019-03-25T05:17:39.207625Z",
     "start_time": "2019-03-25T05:17:39.196654Z"
    }
   },
   "outputs": [
    {
     "name": "stdout",
     "output_type": "stream",
     "text": [
      "Even number:: 0\n",
      "Odd number:: 1\n",
      "Even number:: 2\n",
      "Odd number:: 3\n",
      "Even number:: 4\n",
      "Odd number:: 5\n",
      "Even number:: 6\n",
      "Odd number:: 7\n",
      "Even number:: 8\n",
      "Odd number:: 9\n",
      "Even number:: 10\n",
      "Odd number:: 11\n",
      "Even number:: 12\n",
      "Odd number:: 13\n",
      "Even number:: 14\n",
      "Odd number:: 15\n",
      "Even number:: 16\n",
      "Odd number:: 17\n",
      "Even number:: 18\n",
      "Odd number:: 19\n",
      "Even number:: 20\n",
      "Odd number:: 21\n",
      "Even number:: 22\n",
      "Odd number:: 23\n",
      "Even number:: 24\n",
      "Odd number:: 25\n",
      "Even number:: 26\n",
      "Odd number:: 27\n",
      "Even number:: 28\n",
      "Odd number:: 29\n",
      "Even number:: 30\n",
      "Odd number:: 31\n",
      "Even number:: 32\n",
      "Odd number:: 33\n",
      "Even number:: 34\n",
      "Odd number:: 35\n",
      "Even number:: 36\n",
      "Odd number:: 37\n",
      "Even number:: 38\n",
      "Odd number:: 39\n",
      "Even number:: 40\n",
      "Odd number:: 41\n",
      "Even number:: 42\n",
      "Odd number:: 43\n",
      "Even number:: 44\n",
      "Odd number:: 45\n",
      "Even number:: 46\n",
      "Odd number:: 47\n",
      "Even number:: 48\n",
      "Odd number:: 49\n"
     ]
    }
   ],
   "source": [
    "tmp2 = list(range(50))\n",
    "itr = iter(tmp2)\n",
    "for num in itr:\n",
    "    if num%2 ==0:\n",
    "        print(\"Even number::\",num)\n",
    "    else:\n",
    "        print(\"Odd number::\",num)"
   ]
  },
  {
   "cell_type": "markdown",
   "metadata": {},
   "source": [
    "#### 14. Write a Python program to count the number of characters in a string: 'google.com'\n",
    "O/p should be in the form of dictionary and each char should be used as key and their number of occurrences should be value"
   ]
  },
  {
   "cell_type": "code",
   "execution_count": 51,
   "metadata": {
    "ExecuteTime": {
     "end_time": "2019-03-25T05:19:43.498957Z",
     "start_time": "2019-03-25T05:19:43.492970Z"
    }
   },
   "outputs": [
    {
     "name": "stdout",
     "output_type": "stream",
     "text": [
      "google.com:: {'g': 2, 'o': 3, 'l': 1, 'e': 1, '.': 1, 'c': 1, 'm': 1}\n"
     ]
    }
   ],
   "source": [
    "tmp3 = \"google.com\"\n",
    "d5 = {ch:tmp3.count(ch) for ch in tmp3}\n",
    "print(\"google.com::\",d5)"
   ]
  },
  {
   "cell_type": "markdown",
   "metadata": {},
   "source": [
    "#### 15. Write a Python program to create a list by concatenating a given list which range from 1 to n. \n",
    "Sample list : ['p', 'q']\n",
    "n =5\n",
    "Output should be : ['p1', 'q1', 'p2', 'q2', 'p3', 'q3', 'p4', 'q4', 'p5', 'q5']"
   ]
  },
  {
   "cell_type": "code",
   "execution_count": 56,
   "metadata": {
    "ExecuteTime": {
     "end_time": "2019-03-25T05:25:24.396017Z",
     "start_time": "2019-03-25T05:25:24.388014Z"
    }
   },
   "outputs": [
    {
     "data": {
      "text/plain": [
       "['p1', 'q1', 'p2', 'q2', 'p3', 'q3', 'p4', 'q4', 'p5', 'q5']"
      ]
     },
     "execution_count": 56,
     "metadata": {},
     "output_type": "execute_result"
    }
   ],
   "source": [
    "l8 = [\"p\",\"q\"]\n",
    "n = 5\n",
    "new_list1 = []\n",
    "for i in range(n):\n",
    "    new_list1.append(l8[0]+str(i+1))\n",
    "    new_list1.append(l8[1]+str(i+1))\n",
    "new_list1"
   ]
  },
  {
   "cell_type": "markdown",
   "metadata": {},
   "source": [
    "#### 16.Write a Python program that accepts a string from user (use input() function),calculate and return the number of upper case letters and lower case letters count as dictionary.\n",
    "\n",
    "using inbuilt functions or using ASCII value (we can work on this solution in class if you are not able to work on it)."
   ]
  },
  {
   "cell_type": "code",
   "execution_count": 58,
   "metadata": {
    "ExecuteTime": {
     "end_time": "2019-03-25T05:28:09.294555Z",
     "start_time": "2019-03-25T05:28:04.759688Z"
    }
   },
   "outputs": [
    {
     "name": "stdout",
     "output_type": "stream",
     "text": [
      "Enter random alphbets...sdfgsfgSDFGGFHRFHFH345345\n",
      "Upper_lower case count is :: {'Lower_Case': 7, 'Upper_Case': 12}\n"
     ]
    }
   ],
   "source": [
    "randomChar = input(\"Enter random alphbets...\")\n",
    "upper = 0\n",
    "lower = 0\n",
    "upper_lower = {}\n",
    "for ch in randomChar:\n",
    "    if ch.isupper():\n",
    "        upper += 1\n",
    "        upper_lower[\"Upper_Case\"] = upper\n",
    "    elif ch.islower():\n",
    "        lower += 1\n",
    "        upper_lower[\"Lower_Case\"] = lower\n",
    "print(\"Upper_lower case count is ::\",upper_lower)\n",
    "        "
   ]
  },
  {
   "cell_type": "markdown",
   "metadata": {},
   "source": [
    "#### 17.Write a Python program that accepts a hyphen-separated sequence of words as input and prints the words in a hyphen-separated sequence after sorting them alphabetically.\n",
    "\n",
    "Sample Items : green-red-yellow-black-white\n",
    "\n",
    "Expected Result : black-green-red-white-yellow"
   ]
  },
  {
   "cell_type": "code",
   "execution_count": 63,
   "metadata": {
    "ExecuteTime": {
     "end_time": "2019-03-25T05:30:01.199766Z",
     "start_time": "2019-03-25T05:30:01.195765Z"
    }
   },
   "outputs": [
    {
     "name": "stdout",
     "output_type": "stream",
     "text": [
      "Sorted hyphen separated string:: black-green-red-white-yellow\n"
     ]
    }
   ],
   "source": [
    "samp = \"green-red-yellow-black-white\"\n",
    "tmp4 = samp.split(\"-\")\n",
    "tmp4.sort()\n",
    "final_op = \"-\".join(tmp4)\n",
    "print(\"Sorted hyphen separated string::\",final_op)"
   ]
  },
  {
   "cell_type": "markdown",
   "metadata": {},
   "source": [
    "#### 18. Using list comprehension, create a string of binary values of each letter of word in a given sentence-> \"I am student of Data Science\"\n",
    "\n",
    "e.g: if a = \"Hello world\" then output should be '1001000 1100101 1101100 1101100 1101111 100000 1010111 1101111 1110010 1101100 1100100\"\n"
   ]
  },
  {
   "cell_type": "code",
   "execution_count": 1,
   "metadata": {
    "ExecuteTime": {
     "end_time": "2019-07-25T07:00:10.702322Z",
     "start_time": "2019-07-25T07:00:10.688320Z"
    }
   },
   "outputs": [
    {
     "data": {
      "text/plain": [
       "'1001001 100000 1100001 1101101 100000 1110011 1110100 1110101 1100100 1100101 1101110 1110100 100000 1101111 1100110 100000 1000100 1100001 1110100 1100001 100000 1010011 1100011 1101001 1100101 1101110 1100011 1100101'"
      ]
     },
     "execution_count": 1,
     "metadata": {},
     "output_type": "execute_result"
    }
   ],
   "source": [
    "a = \"I am student of Data Science\"\n",
    "\" \".join([bin(ord(char))[2:] for char in a]) # [2:] is to remove initial 0 and b from binary data"
   ]
  }
 ],
 "metadata": {
  "kernelspec": {
   "display_name": "Python 3",
   "language": "python",
   "name": "python3"
  },
  "language_info": {
   "codemirror_mode": {
    "name": "ipython",
    "version": 3
   },
   "file_extension": ".py",
   "mimetype": "text/x-python",
   "name": "python",
   "nbconvert_exporter": "python",
   "pygments_lexer": "ipython3",
   "version": "3.7.4"
  },
  "latex_envs": {
   "LaTeX_envs_menu_present": true,
   "autoclose": false,
   "autocomplete": true,
   "bibliofile": "biblio.bib",
   "cite_by": "apalike",
   "current_citInitial": 1,
   "eqLabelWithNumbers": true,
   "eqNumInitial": 1,
   "hotkeys": {
    "equation": "Ctrl-E",
    "itemize": "Ctrl-I"
   },
   "labels_anchors": false,
   "latex_user_defs": false,
   "report_style_numbering": false,
   "user_envs_cfg": false
  },
  "toc": {
   "base_numbering": 1,
   "nav_menu": {},
   "number_sections": true,
   "sideBar": true,
   "skip_h1_title": false,
   "title_cell": "Table of Contents",
   "title_sidebar": "Contents",
   "toc_cell": false,
   "toc_position": {},
   "toc_section_display": true,
   "toc_window_display": false
  },
  "varInspector": {
   "cols": {
    "lenName": 16,
    "lenType": 16,
    "lenVar": 40
   },
   "kernels_config": {
    "python": {
     "delete_cmd_postfix": "",
     "delete_cmd_prefix": "del ",
     "library": "var_list.py",
     "varRefreshCmd": "print(var_dic_list())"
    },
    "r": {
     "delete_cmd_postfix": ") ",
     "delete_cmd_prefix": "rm(",
     "library": "var_list.r",
     "varRefreshCmd": "cat(var_dic_list()) "
    }
   },
   "types_to_exclude": [
    "module",
    "function",
    "builtin_function_or_method",
    "instance",
    "_Feature"
   ],
   "window_display": false
  }
 },
 "nbformat": 4,
 "nbformat_minor": 4
}
