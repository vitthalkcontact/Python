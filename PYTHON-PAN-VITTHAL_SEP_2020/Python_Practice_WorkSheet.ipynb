{
 "cells": [
  {
   "cell_type": "markdown",
   "metadata": {},
   "source": [
    "### Write a function that takes a string of braces, and determines if the order of the braces is valid. It should return true if the string is valid, and false if it's invalid.\n",
    "\n",
    "All input strings will be nonempty, and will only consist of parentheses, brackets and curly braces: ()[]{}.\n",
    "What is considered Valid?\n",
    "\n",
    "A string of braces is considered valid if all braces are matched with the correct brace.\n",
    "Examples\n",
    "\n",
    "\"(){}[]\"   =>  True\n",
    "\"([{}])\"   =>  True\n",
    "\"(}\"       =>  False\n",
    "\"[(])\"     =>  False\n",
    "\"[({})](]\" =>  False\n",
    "\n"
   ]
  },
  {
   "cell_type": "markdown",
   "metadata": {},
   "source": [
    "### Build Tower\n",
    "\n",
    "Build Tower by the following given argument:\n",
    "number of floors (integer and always greater than 0).\n",
    "\n",
    "for example, a tower of 3 floors looks like below\n",
    "\n",
    "[\n",
    "  '  *  ', \n",
    "  ' *** ', \n",
    "  '*****'\n",
    "]\n",
    "\n",
    "and a tower of 6 floors looks like below\n",
    "\n",
    "[\n",
    "  '     *     ', \n",
    "  '    ***    ', \n",
    "  '   *****   ', \n",
    "  '  *******  ', \n",
    "  ' ********* ', \n",
    "  '***********'\n",
    "]"
   ]
  },
  {
   "cell_type": "markdown",
   "metadata": {},
   "source": [
    "### The rgb() method is incomplete. Complete the method so that passing in RGB decimal values will result in a hexadecimal representation being returned. The valid decimal values for RGB are 0 - 255. Any (r,g,b) argument values that fall out of that range should be rounded to the closest valid value.\n",
    "\n",
    "The following are examples of expected output values:\n",
    "\n",
    "rgb(255, 255, 255) # returns FFFFFF\n",
    "rgb(255, 255, 300) # returns FFFFFF\n",
    "rgb(0,0,0) # returns 000000\n",
    "rgb(148, 0, 211) # returns 9400D3"
   ]
  },
  {
   "cell_type": "markdown",
   "metadata": {},
   "source": [
    "### Return the number (count) of vowels in the given string.\n",
    "\n",
    "We will consider a, e, i, o, and u as vowels.\n",
    "\n",
    "The input string will only consist of lower case letters and/or spaces.\n"
   ]
  },
  {
   "cell_type": "markdown",
   "metadata": {},
   "source": [
    "### ATM machines allow 4 or 6 digit PIN codes and PIN codes cannot contain anything but exactly 4 digits or exactly 6 digits.\n",
    "\n",
    "If the function is passed a valid PIN string, return true, else return false.\n",
    "\n",
    "eg:\n",
    "\n",
    "validate_pin(\"1234\") == True\n",
    "validate_pin(\"12345\") == False\n",
    "validate_pin(\"a234\") == False"
   ]
  },
  {
   "cell_type": "markdown",
   "metadata": {},
   "source": [
    "### Implement a function that adds two numbers together and returns their sum in binary. The conversion can be done before, or after the addition.\n",
    "\n",
    "The binary number returned should be a string.\n"
   ]
  },
  {
   "cell_type": "markdown",
   "metadata": {},
   "source": [
    "### Complete the square sum function so that it squares each number passed into it and then sums the results together.\n",
    "\n",
    "For example, for [1, 2, 2] it should return 9 because 1^2 + 2^2 + 2^2 = 9.\n"
   ]
  },
  {
   "cell_type": "markdown",
   "metadata": {},
   "source": [
    "### you are asked to square every digit of a number.\n",
    "\n",
    "For example, if we run 9119 through the function, 811181 will come out, because 92 is 81 and 12 is 1.\n",
    "\n",
    "Note: The function accepts an integer and returns an integer"
   ]
  },
  {
   "cell_type": "markdown",
   "metadata": {},
   "source": [
    "### If we list all the natural numbers below 10 that are multiples of 3 or 5, we get 3, 5, 6 and 9. The sum of these multiples is 23.\n",
    "\n",
    "Finish the solution so that it returns the sum of all the multiples of 3 or 5 below the number passed in. "
   ]
  },
  {
   "cell_type": "markdown",
   "metadata": {},
   "source": [
    "### A Narcissistic Number is a number which is the sum of its own digits, each raised to the power of the number of digits in a given base. In this, we will restrict ourselves to decimal (base 10).\n",
    "\n",
    "For example, take 153 (3 digits):\n",
    "\n",
    "    1^3 + 5^3 + 3^3 = 1 + 125 + 27 = 153\n",
    "\n",
    "and 1634 (4 digits):\n",
    "\n",
    "    1^4 + 6^4 + 3^4 + 4^4 = 1 + 1296 + 81 + 256 = 1634\n",
    "\n",
    "The Challenge:\n",
    "\n",
    "Your code must return true or false depending upon whether the given number is a Narcissistic number in base 10."
   ]
  },
  {
   "cell_type": "markdown",
   "metadata": {},
   "source": [
    "### The maximum sum subarray problem consists in finding the maximum sum of a contiguous subsequence in an array or list of integers:\n",
    "\n",
    "maxSequence([-2, 1, -3, 4, -1, 2, 1, -5, 4])\n",
    "should be 6: [4, -1, 2, 1]\n",
    "\n",
    "Easy case is when the list is made up of only positive numbers and the maximum sum is the sum of the whole array. If the list is made up of only negative numbers, return 0 instead.\n",
    "\n",
    "Empty list is considered to have zero greatest sum. Note that the empty list or array is also a valid sublist/subarray.\n"
   ]
  },
  {
   "cell_type": "markdown",
   "metadata": {},
   "source": [
    "### In this problem you are required to, given a string, replace every letter with its position in the alphabet.\n",
    "\n",
    "If anything in the text isn't a letter, ignore it and don't return it.\n",
    "\n",
    "\"a\" = 1, \"b\" = 2, etc.\n",
    "Example\n",
    "\n",
    "alphabet_position(\"The sunset sets at twelve o' clock.\")\n",
    "\n",
    "Should return \"20 8 5 19 21 14 19 5 20 19 5 20 19 1 20 20 23 5 12 22 5 15 3 12 15 3 11\" (as a string)"
   ]
  },
  {
   "cell_type": "markdown",
   "metadata": {},
   "source": [
    "### Array inversion indicates how far the array is from being sorted.\n",
    "\n",
    "Inversions are pairs of elements in array, that are out of order.\n",
    "Examples\n",
    "\n",
    "countInversions([1,2,3,4]) // 0 inversions\n",
    "\n",
    "countInversions([1,3,2,4]) // 1 inversion: 2 and 3\n",
    "\n",
    "countInversions([4,1,2,3]) // 3 inversions: 4 and 1, 4 and 2, 4 and 3\n",
    "\n",
    "countInversions([4,3,2,1]) // 6 inversions: 4 and 3, 4 and 2, 4 and 1, 3 and 2, 3 and 1, 2 and 1\n",
    "\n",
    "Goal\n",
    "\n",
    "The goal is to come up with a function that can calculate inversions for any arbitrary array\n"
   ]
  },
  {
   "cell_type": "markdown",
   "metadata": {},
   "source": [
    "### Strip Comments\n",
    "Complete the solution so that it strips all text that follows any of a set of comment markers passed in. Any whitespace at the end of the line should also be stripped out.\n",
    "\n",
    "Example:\n",
    "\n",
    "Given an input string of:\n",
    "\n",
    "apples, pears # and bananas\n",
    "grapes\n",
    "bananas !apples\n",
    "\n",
    "The output expected would be:\n",
    "\n",
    "apples, pears\n",
    "grapes\n",
    "bananas\n",
    "\n",
    "The code would be called like so:\n",
    "\n",
    "result = solution(\"apples, pears # and bananas\\ngrapes\\nbananas !apples\", [\"#\", \"!\"])\n",
    "#result should == \"apples, pears\\ngrapes\\nbananas\"\n"
   ]
  },
  {
   "cell_type": "markdown",
   "metadata": {},
   "source": [
    "### Modify the kebabize function so that it converts a camel case string into a kebab case.\n",
    "\n",
    "kebabize('camelsHaveThreeHumps') // camels-have-three-humps\n",
    "\n",
    "kebabize('camelsHave3Humps') // camels-have-humps\n"
   ]
  },
  {
   "cell_type": "markdown",
   "metadata": {},
   "source": [
    "### There is an array with some numbers. All numbers are equal except for one. Try to find it!\n",
    "\n",
    "find_uniq([ 1, 1, 1, 2, 1, 1 ]) == 2\n",
    "find_uniq([ 0, 0, 0.55, 0, 0 ]) == 0.55\n",
    "\n",
    "It’s guaranteed that array contains at least 3 numbers.\n",
    "\n",
    "The tests contain some very huge arrays, so think about performance."
   ]
  },
  {
   "cell_type": "markdown",
   "metadata": {},
   "source": [
    "### Given a lowercase string that has alphabetic characters only and no spaces, return the highest value of consonant substrings. Consonants are any letters of the alpahabet except \"aeiou\".\n",
    "\n",
    "We shall assign the following values: a = 1, b = 2, c = 3, .... z = 26.\n",
    "\n",
    "For example, for the word \"zodiacs\", let's cross out the vowels. We get: \"z o d ia cs\"\n",
    "\n",
    "-- The consonant substrings are: \"z\", \"d\" and \"cs\" and the values are z = 26, d = 4 and cs = 3 + 19 = 22. The highest is 26.\n",
    "solve(\"zodiacs\") = 26\n",
    "\n",
    "For the word \"strength\", solve(\"strength\") = 57\n",
    "-- The consonant substrings are: \"str\" and \"ngth\" with values \"str\" = 19 + 20 + 18 = 57 and \"ngth\" = 14 + 7 + 20 + 8 = 49. The highest is 57."
   ]
  },
  {
   "cell_type": "markdown",
   "metadata": {},
   "source": [
    "### Create a function that accepts dimensions, of Rows x Columns, as parameters in order to create a multiplication table sized according to the given dimensions. **The return value of the function must be an array, and the numbers must be Fixnums, NOT strings.\n",
    "\n",
    "Example:\n",
    "\n",
    "multiplication_table(3,3)\n",
    "\n",
    "1 2 3\n",
    "2 4 6\n",
    "3 6 9\n",
    "\n",
    "-->[[1,2,3],[2,4,6],[3,6,9]]\n",
    "\n",
    "Each value on the table should be equal to the value of multiplying the number in its first row times the number in its first column.\n"
   ]
  },
  {
   "cell_type": "markdown",
   "metadata": {},
   "source": [
    "### Divisors of 42 are : 1, 2, 3, 6, 7, 14, 21, 42. These divisors squared are: 1, 4, 9, 36, 49, 196, 441, 1764. The sum of the squared divisors is 2500 which is 50 * 50, a square!\n",
    "\n",
    "Given two integers m, n (1 <= m <= n) we want to find all integers between m and n whose sum of squared divisors is itself a square. 42 is such a number.\n",
    "\n",
    "The result will be an array of arrays or of tuples (in C an array of Pair) or a string, each subarray having two elements, first the number whose squared divisors is a square and then the sum of the squared divisors.\n",
    "\n",
    "#Examples:\n",
    "\n",
    "list_squared(1, 250) --> [[1, 1], [42, 2500], [246, 84100]]\n",
    "list_squared(42, 250) --> [[42, 2500], [246, 84100]]"
   ]
  },
  {
   "cell_type": "markdown",
   "metadata": {},
   "source": [
    "### Given a number, return a string with dash'-'marks before and after each odd integer, but do not begin or end the string with a dash mark.\n",
    "\n",
    "Ex:\n",
    "\n",
    "dashatize(274) -> '2-7-4'\n",
    "dashatize(6815) -> '68-1-5'"
   ]
  },
  {
   "cell_type": "markdown",
   "metadata": {},
   "source": [
    "### A string is considered to be in title case if each word in the string is either (a) capitalised (that is, only the first letter of the word is in upper case) or (b) considered to be an exception and put entirely into lower case unless it is the first word, which is always capitalised.\n",
    "\n",
    "Write a function that will convert a string into title case, given an optional list of exceptions (minor words). The list of minor words will be given as a string with each word separated by a space. Your function should ignore the case of the minor words string -- it should behave in the same way even if the case of the minor word string is changed.\n",
    "\n",
    "###Arguments (Haskell)\n",
    "\n",
    "    First argument: space-delimited list of minor words that must always be lowercase except for the first word in the string.\n",
    "    Second argument: the original string to be converted.\n"
   ]
  },
  {
   "cell_type": "markdown",
   "metadata": {},
   "source": [
    "### The marketing team is spending way too much time typing in hashtags.\n",
    "Let's help them with our own Hashtag Generator!\n",
    "\n",
    "Here's the deal:\n",
    "\n",
    "    It must start with a hashtag (#).\n",
    "    All words must have their first letter capitalized.\n",
    "    If the final result is longer than 140 chars it must return false.\n",
    "    If the input or the result is an empty string it must return false.\n",
    "\n",
    "Examples\n",
    "\n",
    "\" Hello there thanks for trying my Kata\"  =>  \"#HelloThereThanksForTryingMyKata\"\n",
    "\"    Hello     World   \"                  =>  \"#HelloWorld\"\n",
    "\"\"                                        =>  false"
   ]
  }
 ],
 "metadata": {
  "kernelspec": {
   "display_name": "Python 3",
   "language": "python",
   "name": "python3"
  },
  "language_info": {
   "codemirror_mode": {
    "name": "ipython",
    "version": 3
   },
   "file_extension": ".py",
   "mimetype": "text/x-python",
   "name": "python",
   "nbconvert_exporter": "python",
   "pygments_lexer": "ipython3",
   "version": "3.7.4"
  },
  "latex_envs": {
   "LaTeX_envs_menu_present": true,
   "autoclose": false,
   "autocomplete": true,
   "bibliofile": "biblio.bib",
   "cite_by": "apalike",
   "current_citInitial": 1,
   "eqLabelWithNumbers": true,
   "eqNumInitial": 1,
   "hotkeys": {
    "equation": "Ctrl-E",
    "itemize": "Ctrl-I"
   },
   "labels_anchors": false,
   "latex_user_defs": false,
   "report_style_numbering": false,
   "user_envs_cfg": false
  },
  "toc": {
   "base_numbering": 1,
   "nav_menu": {},
   "number_sections": true,
   "sideBar": true,
   "skip_h1_title": false,
   "title_cell": "Table of Contents",
   "title_sidebar": "Contents",
   "toc_cell": false,
   "toc_position": {},
   "toc_section_display": true,
   "toc_window_display": false
  },
  "varInspector": {
   "cols": {
    "lenName": 16,
    "lenType": 16,
    "lenVar": 40
   },
   "kernels_config": {
    "python": {
     "delete_cmd_postfix": "",
     "delete_cmd_prefix": "del ",
     "library": "var_list.py",
     "varRefreshCmd": "print(var_dic_list())"
    },
    "r": {
     "delete_cmd_postfix": ") ",
     "delete_cmd_prefix": "rm(",
     "library": "var_list.r",
     "varRefreshCmd": "cat(var_dic_list()) "
    }
   },
   "types_to_exclude": [
    "module",
    "function",
    "builtin_function_or_method",
    "instance",
    "_Feature"
   ],
   "window_display": false
  }
 },
 "nbformat": 4,
 "nbformat_minor": 4
}
