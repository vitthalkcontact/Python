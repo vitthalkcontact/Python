{
 "cells": [
  {
   "cell_type": "markdown",
   "metadata": {},
   "source": [
    "# conditions and loops "
   ]
  },
  {
   "cell_type": "code",
   "execution_count": 4,
   "metadata": {},
   "outputs": [
    {
     "name": "stdout",
     "output_type": "stream",
     "text": [
      "5\n",
      "4\n",
      "5 is greater than 4\n"
     ]
    }
   ],
   "source": [
    "## simple if- condition\n",
    "\n",
    "# syntax of if - condition\n",
    "            # if():\n",
    "            #     statements\n",
    "\n",
    "        \n",
    "## WAP to take two integer inputs from user and print\n",
    "#a suitable message when first number is greater than second number.\n",
    "\n",
    "### \n",
    "num1 = int(input())\n",
    "num2 = int(input())\n",
    "\n",
    "if (num1>num2):\n",
    "    print('{} is greater than {}'.format(num1,num2))\n"
   ]
  },
  {
   "cell_type": "code",
   "execution_count": null,
   "metadata": {},
   "outputs": [],
   "source": [
    "## simple if-else: condition\n",
    "\n",
    "# syntax of if - else: condition\n",
    "            # if():\n",
    "            #     statement(s)\n",
    "            # else:\n",
    "            #     default statement(s)\n",
    "\n",
    "        \n",
    "## WAP to take two integer inputs from user and print\n",
    "# a suitable message when first number is greater than second number\n",
    "# otherwise print re-enter the sequence.\n",
    "\n",
    "### \n",
    "num1 = int(input())\n",
    "num2 = int(input())\n",
    "\n",
    "if (num1>num2):\n",
    "    print('{} is greater than {}'.format(num1,num2))\n",
    "else:\n",
    "    print('condition not satisfied. please re-enter the sequence')\n"
   ]
  },
  {
   "cell_type": "code",
   "execution_count": 6,
   "metadata": {},
   "outputs": [
    {
     "name": "stdout",
     "output_type": "stream",
     "text": [
      "number1 is lesser than number2\n"
     ]
    }
   ],
   "source": [
    "## nested if-else: condition\n",
    "\n",
    "# syntax of if - else: condition\n",
    "            # if(condition1):\n",
    "            #     statement1(s)\n",
    "            # elif(condition2):\n",
    "            #     statement1(s)\n",
    "            # elif(condition3):\n",
    "            #     statement3(s)\n",
    "            #....\n",
    "            # else:\n",
    "            #     default statement(s)\n",
    "\n",
    "        \n",
    "#### WAP to print suitable messages when:\n",
    "# 1) number1 > number2\n",
    "# 2) number1 < number2\n",
    "# 3) number1 &  number2 are equals\n",
    "# 4) otherwise default message.\n",
    "\n",
    "### \n",
    "num1 = 5 \n",
    "num2 = 6\n",
    "\n",
    "if (num1 > num2):\n",
    "    print('''number1 is greater than number2''')\n",
    "elif (num1 < num2):\n",
    "    print('''number1 is lesser than number2''')\n",
    "elif (num1 == num2):\n",
    "    print('''number1 and number2 are equal''')\n",
    "else:\n",
    "    print('Invalid inputs!!!')"
   ]
  },
  {
   "cell_type": "code",
   "execution_count": 7,
   "metadata": {},
   "outputs": [],
   "source": [
    "## WAP to assign grades to the student based on the scores \n",
    "# obtained in the exam. The grades are allocated as follows:\n",
    "# Grade ‘A’ if scores between 90-100\n",
    "# Grade ‘B’ if scores between 80-89\n",
    "# Grade ‘C’ if score between 70-79\n",
    "# Grade ‘D’ if score between 60-69\n",
    "# Grade ‘E’ if score between 50-59\n",
    "# Otherwise, Grade ‘F’\n"
   ]
  },
  {
   "cell_type": "code",
   "execution_count": 10,
   "metadata": {},
   "outputs": [
    {
     "name": "stdout",
     "output_type": "stream",
     "text": [
      "Kindly enter your aggregate score:90\n",
      "Grade A\n"
     ]
    }
   ],
   "source": [
    "score = int(input('Kindly enter your aggregate score:'))\n",
    "\n",
    "if ((score <= 100) and (score >= 90 )):\n",
    "    print('Grade A')\n",
    "elif ((score <= 80) and (score >= 89 )):\n",
    "    print('Grade B')\n",
    "elif ((score <= 70) and (score >= 79 )):\n",
    "    print('Grade C')\n",
    "elif ((score <= 60) and (score >= 69 )):\n",
    "    print('Grade D')\n",
    "elif ((score <= 50) and (score >= 59 )):\n",
    "    print('Grade E')\n",
    "else:\n",
    "    print('Grade F')"
   ]
  },
  {
   "cell_type": "markdown",
   "metadata": {},
   "source": [
    "## loops \n",
    "   - while loop\n",
    "   - for loop"
   ]
  },
  {
   "cell_type": "code",
   "execution_count": null,
   "metadata": {},
   "outputs": [],
   "source": [
    "## \n",
    "<initialisation>\n",
    "while <condition True>:\n",
    "    <task(s)>\n",
    "    <update on the condition controlling varible>\n"
   ]
  },
  {
   "cell_type": "code",
   "execution_count": 16,
   "metadata": {},
   "outputs": [
    {
     "name": "stdout",
     "output_type": "stream",
     "text": [
      "1\n",
      "2\n",
      "3\n",
      "4\n",
      "5\n",
      "while loop completed\n"
     ]
    }
   ],
   "source": [
    "##\n",
    "i = 1\n",
    "while(i <= 5):\n",
    "    print(i)  ## print i\n",
    "    i +=1 ## increment i\n",
    "print('while loop completed')"
   ]
  },
  {
   "cell_type": "code",
   "execution_count": 22,
   "metadata": {},
   "outputs": [
    {
     "name": "stdout",
     "output_type": "stream",
     "text": [
      "10\n",
      "8\n",
      "6\n",
      "4\n",
      "2\n",
      "loop completed\n"
     ]
    }
   ],
   "source": [
    "### WAP to print 10 to 1 using while loop.\n",
    "i  = 10\n",
    "\n",
    "while(i >=1):\n",
    "    print(i)\n",
    "    i -=2\n",
    "print('loop completed')"
   ]
  },
  {
   "cell_type": "code",
   "execution_count": null,
   "metadata": {},
   "outputs": [],
   "source": [
    "\n",
    "i  = 10\n",
    "\n",
    "while(True):\n",
    "    print(i)\n",
    "    i -=2\n",
    "print('loop completed')"
   ]
  },
  {
   "cell_type": "code",
   "execution_count": 23,
   "metadata": {},
   "outputs": [],
   "source": [
    "### for loop\n",
    "\n",
    "###\n",
    "\n",
    "for(condition):\n",
    "    <statements>\n",
    "\n"
   ]
  },
  {
   "cell_type": "code",
   "execution_count": null,
   "metadata": {
    "scrolled": false
   },
   "outputs": [],
   "source": [
    "### WAP to print message 'EVEN' when number is even or 'ODD' when number is \n",
    "# odd in the given list/collection.\n",
    "\n",
    "for i in [2,3,4,5,6,7,8,9,10]:\n",
    "    if(i%2==0): ## even\n",
    "        print('Even')\n",
    "    else:\n",
    "        print('Odd')"
   ]
  },
  {
   "cell_type": "code",
   "execution_count": null,
   "metadata": {},
   "outputs": [],
   "source": [
    "### WAP to print message 'EVEN' when number is even or 'ODD' when number is \n",
    "# odd in the given list/collection.\n",
    "\n",
    "for i in list(range(1,11)):\n",
    "    if(i%2==0): ## even\n",
    "        print('Even')\n",
    "    else:\n",
    "        print('Odd')"
   ]
  },
  {
   "cell_type": "markdown",
   "metadata": {},
   "source": [
    "# break and continue\n",
    "  - break: terminates innermost loop\n",
    "  - continue: skips the current execution and proceeds with the next item in the loop."
   ]
  },
  {
   "cell_type": "code",
   "execution_count": null,
   "metadata": {},
   "outputs": [],
   "source": [
    "### WAP to print message 'EVEN' when number is even or 'ODD' when number is \n",
    "# odd in the given list/collection AND\n",
    "# exit the loop when zero is encounter."
   ]
  },
  {
   "cell_type": "code",
   "execution_count": 40,
   "metadata": {},
   "outputs": [
    {
     "name": "stdout",
     "output_type": "stream",
     "text": [
      "2\n",
      "3\n",
      "4\n",
      "5\n",
      "6\n",
      "7\n",
      "exiting loop\n",
      "loop completed\n"
     ]
    }
   ],
   "source": [
    "for i in [2,3,4,5,6,7,0,8,9,10]:\n",
    "    if(i==0):\n",
    "        print('exiting loop')\n",
    "        break\n",
    "    elif(i%2==0): ## even\n",
    "        print(i)\n",
    "    elif(i%2!=0):\n",
    "        print(i)\n",
    "        \n",
    "print('loop completed')"
   ]
  },
  {
   "cell_type": "code",
   "execution_count": 42,
   "metadata": {},
   "outputs": [
    {
     "name": "stdout",
     "output_type": "stream",
     "text": [
      "2\n",
      "3\n",
      "4\n",
      "5\n",
      "6\n",
      "7\n",
      "8\n",
      "9\n",
      "10\n",
      "loop completed\n"
     ]
    }
   ],
   "source": [
    "for i in [2,3,4,5,6,7,0,8,9,10]:\n",
    "    if(i==0):\n",
    "        continue\n",
    "        print('exiting loop')\n",
    "    elif(i%2==0): ## even\n",
    "        print(i)\n",
    "    elif(i%2!=0):\n",
    "        print(i)\n",
    "        \n",
    "print('loop completed')"
   ]
  },
  {
   "cell_type": "code",
   "execution_count": 47,
   "metadata": {},
   "outputs": [
    {
     "name": "stdout",
     "output_type": "stream",
     "text": [
      "1\n",
      "3\n",
      "4\n",
      "5\n",
      "6\n",
      "7\n",
      "8\n",
      "9\n",
      "10\n"
     ]
    }
   ],
   "source": [
    "### WAP to print 1 to 10 except 2 using both for loop and while loop:\n",
    "\n",
    "i = 1\n",
    "while(i<=10):\n",
    "    if i == 2:\n",
    "        i = i +1 \n",
    "        continue\n",
    "    print(i)\n",
    "    i = i + 1"
   ]
  },
  {
   "cell_type": "code",
   "execution_count": 43,
   "metadata": {},
   "outputs": [
    {
     "name": "stdout",
     "output_type": "stream",
     "text": [
      "1\n",
      "3\n",
      "4\n",
      "5\n",
      "6\n",
      "7\n",
      "8\n",
      "9\n",
      "10\n"
     ]
    }
   ],
   "source": [
    "for i in range(1,11):\n",
    "    if i == 2:\n",
    "        continue\n",
    "    print(i)"
   ]
  },
  {
   "cell_type": "code",
   "execution_count": 61,
   "metadata": {},
   "outputs": [
    {
     "name": "stdout",
     "output_type": "stream",
     "text": [
      "Enter integer:4\n",
      "4\n",
      "Enter integer:char\n"
     ]
    }
   ],
   "source": [
    "### WAP to read integer numbers from user and print them on the consol.\n",
    "### exit with the suitable message \n",
    "### when user enters anything other than integers.\n",
    "# char_ = input('Enter integer:')\n",
    "# print(type(int(char_)))\n",
    "while (True):\n",
    "    char_ = input('Enter integer:')\n",
    "    if (char_.isnumeric()== False):\n",
    "        break\n",
    "    else: \n",
    "        print(char_)\n",
    "        \n",
    "#         temp = int(char_)\n",
    "    #     print(type(temp))\n",
    "#         if (type(temp)!=int):\n",
    "#             break\n",
    "\n"
   ]
  },
  {
   "cell_type": "code",
   "execution_count": 62,
   "metadata": {},
   "outputs": [
    {
     "name": "stdout",
     "output_type": "stream",
     "text": [
      "Enter integer:5\n"
     ]
    }
   ],
   "source": [
    "char_ = input('Enter integer:')"
   ]
  },
  {
   "cell_type": "code",
   "execution_count": null,
   "metadata": {},
   "outputs": [],
   "source": [
    "char_."
   ]
  },
  {
   "cell_type": "code",
   "execution_count": null,
   "metadata": {},
   "outputs": [],
   "source": []
  },
  {
   "cell_type": "code",
   "execution_count": null,
   "metadata": {},
   "outputs": [],
   "source": []
  }
 ],
 "metadata": {
  "kernelspec": {
   "display_name": "Python 3",
   "language": "python",
   "name": "python3"
  },
  "language_info": {
   "codemirror_mode": {
    "name": "ipython",
    "version": 3
   },
   "file_extension": ".py",
   "mimetype": "text/x-python",
   "name": "python",
   "nbconvert_exporter": "python",
   "pygments_lexer": "ipython3",
   "version": "3.7.3"
  }
 },
 "nbformat": 4,
 "nbformat_minor": 2
}
