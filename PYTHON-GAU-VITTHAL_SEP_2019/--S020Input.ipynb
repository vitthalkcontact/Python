{
 "cells": [
  {
   "cell_type": "code",
   "execution_count": 1,
   "metadata": {},
   "outputs": [
    {
     "name": "stdout",
     "output_type": "stream",
     "text": [
      "<class 'int'>\n",
      "<class 'str'>\n",
      "<class 'str'>\n",
      "<class 'float'>\n",
      "<class 'int'>\n"
     ]
    }
   ],
   "source": [
    "print(type(10))\n",
    "print(type('10'))\n",
    "print(type(\"10\"))\n",
    "print(type(0.0))\n",
    "print(type(0))"
   ]
  },
  {
   "cell_type": "markdown",
   "metadata": {},
   "source": [
    "## Operators"
   ]
  },
  {
   "cell_type": "code",
   "execution_count": 2,
   "metadata": {},
   "outputs": [
    {
     "name": "stdout",
     "output_type": "stream",
     "text": [
      "5\n",
      "2.5\n",
      "2\n",
      "1\n",
      "1\n",
      "2\n",
      "2.0\n",
      "25\n"
     ]
    }
   ],
   "source": [
    "print(2+3)\n",
    "print(5/2)\n",
    "print(2%3)\n",
    "print(4%3)\n",
    "print(19%3)\n",
    "print(5//2)# int division\n",
    "print(5//2.0)\n",
    "print(5**2)"
   ]
  },
  {
   "cell_type": "code",
   "execution_count": 3,
   "metadata": {},
   "outputs": [
    {
     "name": "stdout",
     "output_type": "stream",
     "text": [
      "False\n",
      "True\n",
      "False\n",
      "True\n",
      "True\n",
      "False\n",
      "0b1000\n",
      " 0b110\n",
      "0b1110\n",
      "14\n"
     ]
    }
   ],
   "source": [
    "print(1>2)\n",
    "print(1<2)\n",
    "print(2<2)\n",
    "print(2<=2)\n",
    "print(2==2)\n",
    "print(2!=2)\n",
    "\n",
    "\n",
    "\n",
    "\n",
    "#| & << >> ^\n",
    "\n",
    "print(bin(8))\n",
    "print('', bin(6))\n",
    "print(bin(8|6))\n",
    "print(8|6)"
   ]
  },
  {
   "cell_type": "code",
   "execution_count": 4,
   "metadata": {},
   "outputs": [
    {
     "name": "stdout",
     "output_type": "stream",
     "text": [
      "1.7099759466766968\n",
      "2.0\n"
     ]
    }
   ],
   "source": [
    "print(5**(1/3))\n",
    "print(4**0.5)"
   ]
  },
  {
   "cell_type": "code",
   "execution_count": 5,
   "metadata": {},
   "outputs": [
    {
     "name": "stdin",
     "output_type": "stream",
     "text": [
      " reed\n"
     ]
    },
    {
     "name": "stdout",
     "output_type": "stream",
     "text": [
      "YOu entered:  reed <class 'str'>\n"
     ]
    }
   ],
   "source": [
    "s = input()\n",
    "print('YOu entered: ', s, type(s))"
   ]
  },
  {
   "cell_type": "code",
   "execution_count": 6,
   "metadata": {},
   "outputs": [
    {
     "name": "stdout",
     "output_type": "stream",
     "text": [
      "0\n",
      "10\n",
      "10\n",
      "10 10 <class 'str'> <class 'int'> '10' 10\n"
     ]
    }
   ],
   "source": [
    "i = int() # int looks like a function.. but it is a class\n",
    "print(i)\n",
    "i = int(10)\n",
    "print(i)\n",
    "i = int(10.5)\n",
    "print(i)\n",
    "\n",
    "s = '10'\n",
    "i = int(s)\n",
    "print(s, i, type(s), type(i), repr(s), repr(i))"
   ]
  },
  {
   "cell_type": "code",
   "execution_count": 7,
   "metadata": {},
   "outputs": [
    {
     "name": "stdout",
     "output_type": "stream",
     "text": [
      "''\n"
     ]
    }
   ],
   "source": [
    "s = ''\n",
    "print(repr(s))"
   ]
  },
  {
   "cell_type": "code",
   "execution_count": 8,
   "metadata": {},
   "outputs": [
    {
     "name": "stdout",
     "output_type": "stream",
     "text": [
      "True\n",
      "False\n",
      "True\n",
      "True\n",
      "False\n",
      "True\n",
      "False\n"
     ]
    }
   ],
   "source": [
    "print(bool(1))\n",
    "print(bool(0))\n",
    "print(bool(-1))\n",
    "print(bool('abcd'))\n",
    "print(bool(''))\n",
    "print(bool(' '))\n",
    "print(bool(None))"
   ]
  },
  {
   "cell_type": "code",
   "execution_count": 9,
   "metadata": {},
   "outputs": [
    {
     "name": "stdout",
     "output_type": "stream",
     "text": [
      "6\n",
      "7\n",
      "0\n"
     ]
    }
   ],
   "source": [
    "print(len('ab\\ncde'))\n",
    "print(len(r'ab\\ncde'))\n",
    "print(len(''))"
   ]
  },
  {
   "cell_type": "code",
   "execution_count": 10,
   "metadata": {},
   "outputs": [
    {
     "name": "stdout",
     "output_type": "stream",
     "text": [
      "1\n",
      "0\n",
      "'True'\n",
      "'False'\n"
     ]
    }
   ],
   "source": [
    "print(int(True))\n",
    "print(int(False))\n",
    "print( repr(str(True)) )\n",
    "print( repr(str(False)) )"
   ]
  },
  {
   "cell_type": "code",
   "execution_count": 11,
   "metadata": {},
   "outputs": [
    {
     "name": "stdout",
     "output_type": "stream",
     "text": [
      "abcdpqr\n",
      "abcdabcdabcd\n"
     ]
    }
   ],
   "source": [
    "s = 'abcd' + 'pqr'\n",
    "print(s)\n",
    "s = 'abcd' * 3\n",
    "print(s)"
   ]
  },
  {
   "cell_type": "code",
   "execution_count": 12,
   "metadata": {},
   "outputs": [
    {
     "name": "stdin",
     "output_type": "stream",
     "text": [
      "Enter a number 10\n"
     ]
    },
    {
     "name": "stdout",
     "output_type": "stream",
     "text": [
      "square of entered number is : 100.0\n"
     ]
    }
   ],
   "source": [
    "# WAP to input a no. and print its square\n",
    "n=float (input(\"Enter a number\") )\n",
    "print(\"square of entered number is :\", n*n)"
   ]
  },
  {
   "cell_type": "code",
   "execution_count": 53,
   "metadata": {},
   "outputs": [
    {
     "name": "stdout",
     "output_type": "stream",
     "text": [
      "Enter x: 10\n",
      "Enter y: 20\n",
      "100000000000000000000\n"
     ]
    }
   ],
   "source": [
    "# WAP to input x and y and print x^y\n",
    "x = int(input('Enter x: '))\n",
    "y = input('Enter y: ')\n",
    "y  = int(y)\n",
    "\n",
    "print(x**y)"
   ]
  },
  {
   "cell_type": "code",
   "execution_count": 62,
   "metadata": {},
   "outputs": [
    {
     "name": "stdout",
     "output_type": "stream",
     "text": [
      "65\n",
      "97\n",
      "66\n",
      "90\n",
      "48\n",
      "32\n",
      "10\n",
      "False\n"
     ]
    }
   ],
   "source": [
    "print( ord('A') ) # ASCII: 7-8 : 1byte : 256\n",
    "print( ord('a') ) # ASCII\n",
    "print( ord('B') )\n",
    "print( ord('Z') ) \n",
    "print( ord('0') )\n",
    "print( ord(' ') ) \n",
    "print( ord('\\n') ) \n",
    "print('a' < 'A')"
   ]
  },
  {
   "cell_type": "code",
   "execution_count": 63,
   "metadata": {},
   "outputs": [
    {
     "name": "stdout",
     "output_type": "stream",
     "text": [
      "Z\n"
     ]
    }
   ],
   "source": [
    "print(chr(90))"
   ]
  },
  {
   "cell_type": "code",
   "execution_count": null,
   "metadata": {},
   "outputs": [],
   "source": []
  },
  {
   "cell_type": "code",
   "execution_count": null,
   "metadata": {},
   "outputs": [],
   "source": []
  },
  {
   "cell_type": "code",
   "execution_count": null,
   "metadata": {},
   "outputs": [],
   "source": []
  }
 ],
 "metadata": {
  "kernelspec": {
   "display_name": "Python 3",
   "language": "python",
   "name": "python3"
  },
  "language_info": {
   "codemirror_mode": {
    "name": "ipython",
    "version": 3
   },
   "file_extension": ".py",
   "mimetype": "text/x-python",
   "name": "python",
   "nbconvert_exporter": "python",
   "pygments_lexer": "ipython3",
   "version": "3.7.4"
  }
 },
 "nbformat": 4,
 "nbformat_minor": 4
}
