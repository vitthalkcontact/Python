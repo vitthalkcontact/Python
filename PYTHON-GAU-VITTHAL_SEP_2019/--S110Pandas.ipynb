{
 "cells": [
  {
   "cell_type": "code",
   "execution_count": 7,
   "metadata": {},
   "outputs": [],
   "source": [
    "import pandas as pd\n",
    "import numpy as np"
   ]
  },
  {
   "cell_type": "code",
   "execution_count": 2,
   "metadata": {},
   "outputs": [
    {
     "name": "stdout",
     "output_type": "stream",
     "text": [
      "['Categorical', 'CategoricalDtype', 'CategoricalIndex', 'DataFrame', 'DateOffset', 'DatetimeIndex', 'DatetimeTZDtype', 'ExcelFile', 'ExcelWriter', 'Float64Index', 'Grouper', 'HDFStore', 'Index', 'IndexSlice', 'Int16Dtype', 'Int32Dtype', 'Int64Dtype', 'Int64Index', 'Int8Dtype', 'Interval', 'IntervalDtype', 'IntervalIndex', 'MultiIndex', 'NaT', 'Panel', 'Period', 'PeriodDtype', 'PeriodIndex', 'RangeIndex', 'Series', 'SparseArray', 'SparseDataFrame', 'SparseDtype', 'SparseSeries', 'TimeGrouper', 'Timedelta', 'TimedeltaIndex', 'Timestamp', 'UInt16Dtype', 'UInt32Dtype', 'UInt64Dtype', 'UInt64Index', 'UInt8Dtype', '__builtins__', '__cached__', '__doc__', '__docformat__', '__file__', '__git_version__', '__loader__', '__name__', '__package__', '__path__', '__spec__', '__version__', '_hashtable', '_lib', '_libs', '_np_version_under1p13', '_np_version_under1p14', '_np_version_under1p15', '_np_version_under1p16', '_np_version_under1p17', '_tslib', '_version', 'api', 'array', 'arrays', 'bdate_range', 'compat', 'concat', 'core', 'crosstab', 'cut', 'date_range', 'datetime', 'describe_option', 'errors', 'eval', 'factorize', 'get_dummies', 'get_option', 'infer_freq', 'interval_range', 'io', 'isna', 'isnull', 'lreshape', 'melt', 'merge', 'merge_asof', 'merge_ordered', 'notna', 'notnull', 'np', 'offsets', 'option_context', 'options', 'pandas', 'period_range', 'pivot', 'pivot_table', 'plotting', 'qcut', 'read_clipboard', 'read_csv', 'read_excel', 'read_feather', 'read_fwf', 'read_gbq', 'read_hdf', 'read_html', 'read_json', 'read_msgpack', 'read_parquet', 'read_pickle', 'read_sas', 'read_sql', 'read_sql_query', 'read_sql_table', 'read_stata', 'read_table', 'reset_option', 'set_eng_float_format', 'set_option', 'show_versions', 'test', 'testing', 'timedelta_range', 'to_datetime', 'to_msgpack', 'to_numeric', 'to_pickle', 'to_timedelta', 'tseries', 'unique', 'util', 'value_counts', 'wide_to_long']\n"
     ]
    }
   ],
   "source": [
    "print(dir(pd))"
   ]
  },
  {
   "cell_type": "code",
   "execution_count": 17,
   "metadata": {},
   "outputs": [
    {
     "name": "stdout",
     "output_type": "stream",
     "text": [
      "a    10.0\n",
      "b    11.0\n",
      "c    12.0\n",
      "d    13.0\n",
      "e    14.0\n",
      "dtype: float32\n",
      "float32\n",
      "4\n",
      "5\n",
      "(5,)\n",
      "60.0\n",
      "a    100.0\n",
      "b    110.0\n",
      "c    120.0\n",
      "d    130.0\n",
      "e    140.0\n",
      "dtype: float32\n",
      "10.0\n",
      "['T', '_AXIS_ALIASES', '_AXIS_IALIASES', '_AXIS_LEN', '_AXIS_NAMES', '_AXIS_NUMBERS', '_AXIS_ORDERS', '_AXIS_REVERSED', '_AXIS_SLICEMAP', '__abs__', '__add__', '__and__', '__array__', '__array_prepare__', '__array_priority__', '__array_wrap__', '__bool__', '__bytes__', '__class__', '__contains__', '__copy__', '__deepcopy__', '__delattr__', '__delitem__', '__dict__', '__dir__', '__div__', '__divmod__', '__doc__', '__eq__', '__finalize__', '__float__', '__floordiv__', '__format__', '__ge__', '__getattr__', '__getattribute__', '__getitem__', '__getstate__', '__gt__', '__hash__', '__iadd__', '__iand__', '__ifloordiv__', '__imod__', '__imul__', '__init__', '__init_subclass__', '__int__', '__invert__', '__ior__', '__ipow__', '__isub__', '__iter__', '__itruediv__', '__ixor__', '__le__', '__len__', '__long__', '__lt__', '__matmul__', '__mod__', '__module__', '__mul__', '__ne__', '__neg__', '__new__', '__nonzero__', '__or__', '__pos__', '__pow__', '__radd__', '__rand__', '__rdiv__', '__rdivmod__', '__reduce__', '__reduce_ex__', '__repr__', '__rfloordiv__', '__rmatmul__', '__rmod__', '__rmul__', '__ror__', '__round__', '__rpow__', '__rsub__', '__rtruediv__', '__rxor__', '__setattr__', '__setitem__', '__setstate__', '__sizeof__', '__str__', '__sub__', '__subclasshook__', '__truediv__', '__unicode__', '__weakref__', '__xor__', '_accessors', '_add_numeric_operations', '_add_series_only_operations', '_add_series_or_dataframe_operations', '_agg_by_level', '_agg_examples_doc', '_agg_see_also_doc', '_aggregate', '_aggregate_multiple_funcs', '_align_frame', '_align_series', '_binop', '_box_item_values', '_builtin_table', '_can_hold_na', '_check_inplace_setting', '_check_is_chained_assignment_possible', '_check_label_or_level_ambiguity', '_check_percentile', '_check_setitem_copy', '_clear_item_cache', '_clip_with_one_bound', '_clip_with_scalar', '_consolidate', '_consolidate_inplace', '_construct_axes_dict', '_construct_axes_dict_for_slice', '_construct_axes_dict_from', '_construct_axes_from_arguments', '_constructor', '_constructor_expanddim', '_constructor_sliced', '_convert', '_create_indexer', '_cython_table', '_deprecations', '_dir_additions', '_dir_deletions', '_drop_axis', '_drop_labels_or_levels', '_expand_axes', '_find_valid_index', '_formatting_values', '_from_axes', '_get_axis', '_get_axis_name', '_get_axis_number', '_get_axis_resolvers', '_get_block_manager_axis', '_get_bool_data', '_get_cacher', '_get_index_resolvers', '_get_item_cache', '_get_label_or_level_values', '_get_numeric_data', '_get_value', '_get_values', '_get_values_tuple', '_get_with', '_gotitem', '_iget_item_cache', '_index', '_indexed_same', '_info_axis', '_info_axis_name', '_info_axis_number', '_init_dict', '_init_mgr', '_internal_names', '_internal_names_set', '_is_builtin_func', '_is_cached', '_is_copy', '_is_cython_func', '_is_datelike_mixed_type', '_is_homogeneous_type', '_is_label_or_level_reference', '_is_label_reference', '_is_level_reference', '_is_mixed_type', '_is_numeric_mixed_type', '_is_view', '_ix', '_ixs', '_map_values', '_maybe_cache_changed', '_maybe_update_cacher', '_metadata', '_ndarray_values', '_needs_reindex_multi', '_obj_with_exclusions', '_protect_consolidate', '_reduce', '_reindex_axes', '_reindex_indexer', '_reindex_multi', '_reindex_with_indexers', '_repr_data_resource_', '_repr_latex_', '_reset_cache', '_reset_cacher', '_selected_obj', '_selection', '_selection_list', '_selection_name', '_set_as_cached', '_set_axis', '_set_axis_name', '_set_is_copy', '_set_item', '_set_labels', '_set_name', '_set_subtyp', '_set_value', '_set_values', '_set_with', '_set_with_engine', '_setup_axes', '_shallow_copy', '_slice', '_stat_axis', '_stat_axis_name', '_stat_axis_number', '_take', '_to_dict_of_blocks', '_try_aggregate_string_function', '_typ', '_unpickle_series_compat', '_update_inplace', '_validate_dtype', '_values', '_where', '_xs', 'a', 'abs', 'add', 'add_prefix', 'add_suffix', 'agg', 'aggregate', 'align', 'all', 'any', 'append', 'apply', 'argmax', 'argmin', 'argsort', 'array', 'as_matrix', 'asfreq', 'asof', 'astype', 'at', 'at_time', 'autocorr', 'axes', 'b', 'base', 'between', 'between_time', 'bfill', 'bool', 'c', 'clip', 'clip_lower', 'clip_upper', 'combine', 'combine_first', 'compound', 'compress', 'copy', 'corr', 'count', 'cov', 'cummax', 'cummin', 'cumprod', 'cumsum', 'd', 'data', 'describe', 'diff', 'div', 'divide', 'divmod', 'dot', 'drop', 'drop_duplicates', 'droplevel', 'dropna', 'dtype', 'dtypes', 'duplicated', 'e', 'empty', 'eq', 'equals', 'ewm', 'expanding', 'factorize', 'ffill', 'fillna', 'filter', 'first', 'first_valid_index', 'flags', 'floordiv', 'from_array', 'ftype', 'ftypes', 'ge', 'get', 'get_dtype_counts', 'get_ftype_counts', 'get_values', 'groupby', 'gt', 'hasnans', 'head', 'hist', 'iat', 'idxmax', 'idxmin', 'iloc', 'imag', 'index', 'infer_objects', 'interpolate', 'is_monotonic', 'is_monotonic_decreasing', 'is_monotonic_increasing', 'is_unique', 'isin', 'isna', 'isnull', 'item', 'items', 'itemsize', 'iteritems', 'ix', 'keys', 'kurt', 'kurtosis', 'last', 'last_valid_index', 'le', 'loc', 'lt', 'mad', 'map', 'mask', 'max', 'mean', 'median', 'memory_usage', 'min', 'mod', 'mode', 'mul', 'multiply', 'name', 'nbytes', 'ndim', 'ne', 'nlargest', 'nonzero', 'notna', 'notnull', 'nsmallest', 'nunique', 'pct_change', 'pipe', 'plot', 'pop', 'pow', 'prod', 'product', 'ptp', 'put', 'quantile', 'radd', 'rank', 'ravel', 'rdiv', 'rdivmod', 'real', 'reindex', 'reindex_axis', 'reindex_like', 'rename', 'rename_axis', 'reorder_levels', 'repeat', 'replace', 'resample', 'reset_index', 'rfloordiv', 'rmod', 'rmul', 'rolling', 'round', 'rpow', 'rsub', 'rtruediv', 'sample', 'searchsorted', 'select', 'sem', 'set_axis', 'shape', 'shift', 'size', 'skew', 'slice_shift', 'sort_index', 'sort_values', 'squeeze', 'std', 'strides', 'sub', 'subtract', 'sum', 'swapaxes', 'swaplevel', 'tail', 'take', 'timetuple', 'to_clipboard', 'to_csv', 'to_dense', 'to_dict', 'to_excel', 'to_frame', 'to_hdf', 'to_json', 'to_latex', 'to_list', 'to_msgpack', 'to_numpy', 'to_period', 'to_pickle', 'to_sparse', 'to_sql', 'to_string', 'to_timestamp', 'to_xarray', 'transform', 'transpose', 'truediv', 'truncate', 'tshift', 'tz_convert', 'tz_localize', 'unique', 'unstack', 'update', 'value_counts', 'values', 'var', 'view', 'where', 'xs']\n"
     ]
    },
    {
     "name": "stderr",
     "output_type": "stream",
     "text": [
      "C:\\ProgramData\\Anaconda3\\lib\\site-packages\\ipykernel_launcher.py:4: FutureWarning: Series.itemsize is deprecated and will be removed in a future version\n",
      "  after removing the cwd from sys.path.\n"
     ]
    }
   ],
   "source": [
    "s = pd.Series(np.arange(10,15), index = list('abcde'), dtype = 'float32')\n",
    "print(s)\n",
    "print(s.dtype)\n",
    "print(s.itemsize)\n",
    "print(s.size)\n",
    "print(s.shape)\n",
    "print(s.sum())\n",
    "print( s*10 )\n",
    "print(dir(s))"
   ]
  },
  {
   "cell_type": "code",
   "execution_count": 29,
   "metadata": {},
   "outputs": [
    {
     "name": "stdout",
     "output_type": "stream",
     "text": [
      "a    10.0\n",
      "b    11.0\n",
      "c    12.0\n",
      "d    13.0\n",
      "e    14.0\n",
      "dtype: float32\n",
      "\n",
      "b    11.0\n",
      "c    12.0\n",
      "d    13.0\n",
      "e    14.0\n",
      "dtype: float32\n",
      "a    10.0\n",
      "b    11.0\n",
      "c    12.0\n",
      "dtype: float32\n",
      "\n",
      "10.0\n",
      "a    10.0\n",
      "b    11.0\n",
      "c    12.0\n",
      "dtype: float32\n"
     ]
    }
   ],
   "source": [
    "s = pd.Series(np.arange(10,15), index = list('abcde'), dtype = 'float32')\n",
    "print(s)\n",
    "print()\n",
    "print( s['b':])\n",
    "print( s[:'c'])\n",
    "print()\n",
    "print( s.loc['a'] )\n",
    "print( s.iloc[0:3] )"
   ]
  },
  {
   "cell_type": "code",
   "execution_count": 32,
   "metadata": {},
   "outputs": [
    {
     "data": {
      "text/plain": [
       "'E:\\\\LINKS\\\\Desktop\\\\workspace\\\\weekday2019_09_05'"
      ]
     },
     "execution_count": 32,
     "metadata": {},
     "output_type": "execute_result"
    }
   ],
   "source": [
    "%pwd"
   ]
  },
  {
   "cell_type": "code",
   "execution_count": 4,
   "metadata": {},
   "outputs": [
    {
     "data": {
      "application/javascript": [
       "\n",
       "        if (window._pyforest_update_imports_cell) { window._pyforest_update_imports_cell('import pandas as pd'); }\n",
       "    "
      ],
      "text/plain": [
       "<IPython.core.display.Javascript object>"
      ]
     },
     "metadata": {},
     "output_type": "display_data"
    },
    {
     "name": "stdout",
     "output_type": "stream",
     "text": [
      "<class 'pandas.core.frame.DataFrame'>\n",
      "   Unnamed: 0  pclass  survived  \\\n",
      "0           0       1         1   \n",
      "1           1       1         1   \n",
      "2           2       1         0   \n",
      "3           3       1         0   \n",
      "4           4       1         0   \n",
      "\n",
      "                                              name  gender      age  sibsp  \\\n",
      "0                    Allen, Miss. Elisabeth Walton  female  29.0000      0   \n",
      "1                   Allison, Master. Hudson Trevor    male   0.9167      1   \n",
      "2                     Allison, Miss. Helen Loraine  female   2.0000      1   \n",
      "3             Allison, Mr. Hudson Joshua Creighton    male  30.0000      1   \n",
      "4  Allison, Mrs. Hudson J C (Bessie Waldo Daniels)  female  25.0000      1   \n",
      "\n",
      "   parch  ticket      fare    cabin embarked boat   body  \\\n",
      "0      0   24160  $211.34        B5        S    2    NaN   \n",
      "1      2  113781  $151.55   C22 C26        S   11    NaN   \n",
      "2      2  113781  $151.55   C22 C26        S  NaN    NaN   \n",
      "3      2  113781  $151.55   C22 C26        S  NaN  135.0   \n",
      "4      2  113781  $151.55   C22 C26        S  NaN    NaN   \n",
      "\n",
      "                         home.dest  \n",
      "0                     St Louis, MO  \n",
      "1  Montreal, PQ / Chesterville, ON  \n",
      "2  Montreal, PQ / Chesterville, ON  \n",
      "3  Montreal, PQ / Chesterville, ON  \n",
      "4  Montreal, PQ / Chesterville, ON  \n"
     ]
    }
   ],
   "source": [
    "df = pd.read_csv('titanic_dataset.csv')\n",
    "print(type(df))\n",
    "print(df.head())"
   ]
  },
  {
   "cell_type": "code",
   "execution_count": 5,
   "metadata": {},
   "outputs": [
    {
     "data": {
      "application/javascript": [
       "\n",
       "        if (window._pyforest_update_imports_cell) { window._pyforest_update_imports_cell('import pandas as pd'); }\n",
       "    "
      ],
      "text/plain": [
       "<IPython.core.display.Javascript object>"
      ]
     },
     "metadata": {},
     "output_type": "display_data"
    },
    {
     "data": {
      "application/javascript": [
       "\n",
       "        if (window._pyforest_update_imports_cell) { window._pyforest_update_imports_cell('import numpy as np\\nimport pandas as pd'); }\n",
       "    "
      ],
      "text/plain": [
       "<IPython.core.display.Javascript object>"
      ]
     },
     "metadata": {},
     "output_type": "display_data"
    },
    {
     "name": "stdout",
     "output_type": "stream",
     "text": [
      "    AA   BB   CC   DD\n",
      "0  109  105  110  125\n",
      "1  133  141  149  139\n",
      "2  115  142  142  143\n",
      "3  105  108  146  100\n",
      "4  131  134  110  148\n",
      "5  144  113  132  120\n",
      "6  140  117  147  149\n",
      "7  128  105  136  103\n",
      "8  112  139  105  116\n",
      "9  108  143  144  101\n",
      "    AA   BB   CC   DD\n",
      "0  109  105  110  125\n",
      "1  133  141  149  139\n",
      "    AA   BB   CC   DD\n",
      "7  128  105  136  103\n",
      "8  112  139  105  116\n",
      "9  108  143  144  101\n",
      "AA    int32\n",
      "BB    int32\n",
      "CC    int32\n",
      "DD    int32\n",
      "dtype: object\n",
      "RangeIndex(start=0, stop=10, step=1)\n",
      "Index(['AA', 'BB', 'CC', 'DD'], dtype='object')\n"
     ]
    }
   ],
   "source": [
    "df = pd.DataFrame( np.random.randint(100,150, 40).reshape(10,4), columns = ['AA','BB','CC', 'DD'] )\n",
    "print(df)\n",
    "print(df.head(2))\n",
    "print(df.tail(3))\n",
    "print(df.dtypes)\n",
    "print(df.index)\n",
    "print(df.columns)"
   ]
  },
  {
   "cell_type": "code",
   "execution_count": 6,
   "metadata": {},
   "outputs": [
    {
     "name": "stdout",
     "output_type": "stream",
     "text": [
      "Unnamed: 0      int64\n",
      "pclass          int64\n",
      "survived        int64\n",
      "name           object\n",
      "gender         object\n",
      "age           float64\n",
      "sibsp           int64\n",
      "parch           int64\n",
      "ticket         object\n",
      "fare           object\n",
      "cabin          object\n",
      "embarked       object\n",
      "boat           object\n",
      "body          float64\n",
      "home.dest      object\n",
      "dtype: object\n"
     ]
    }
   ],
   "source": [
    "print(df1.dtypes)"
   ]
  },
  {
   "cell_type": "code",
   "execution_count": 7,
   "metadata": {},
   "outputs": [
    {
     "name": "stdout",
     "output_type": "stream",
     "text": [
      "         Unnamed: 0       pclass     survived                  name gender  \\\n",
      "count   1309.000000  1309.000000  1309.000000                  1309   1309   \n",
      "unique          NaN          NaN          NaN                  1307      2   \n",
      "top             NaN          NaN          NaN  Connolly, Miss. Kate   male   \n",
      "freq            NaN          NaN          NaN                     2    843   \n",
      "mean     654.000000     2.294882     0.381971                   NaN    NaN   \n",
      "std      378.020061     0.837836     0.486055                   NaN    NaN   \n",
      "min        0.000000     1.000000     0.000000                   NaN    NaN   \n",
      "25%      327.000000     2.000000     0.000000                   NaN    NaN   \n",
      "50%      654.000000     3.000000     0.000000                   NaN    NaN   \n",
      "75%      981.000000     3.000000     1.000000                   NaN    NaN   \n",
      "max     1308.000000     3.000000     1.000000                   NaN    NaN   \n",
      "\n",
      "                age        sibsp        parch    ticket    fare        cabin  \\\n",
      "count   1046.000000  1309.000000  1309.000000      1309    1308          295   \n",
      "unique          NaN          NaN          NaN       929     263          186   \n",
      "top             NaN          NaN          NaN  CA. 2343  $8.05   C23 C25 C27   \n",
      "freq            NaN          NaN          NaN        11      60            6   \n",
      "mean      29.881135     0.498854     0.385027       NaN     NaN          NaN   \n",
      "std       14.413500     1.041658     0.865560       NaN     NaN          NaN   \n",
      "min        0.166700     0.000000     0.000000       NaN     NaN          NaN   \n",
      "25%       21.000000     0.000000     0.000000       NaN     NaN          NaN   \n",
      "50%       28.000000     0.000000     0.000000       NaN     NaN          NaN   \n",
      "75%       39.000000     1.000000     0.000000       NaN     NaN          NaN   \n",
      "max       80.000000     8.000000     9.000000       NaN     NaN          NaN   \n",
      "\n",
      "       embarked boat        body     home.dest  \n",
      "count      1307  486  121.000000           745  \n",
      "unique        3   27         NaN           369  \n",
      "top           S   13         NaN  New York, NY  \n",
      "freq        914   39         NaN            64  \n",
      "mean        NaN  NaN  160.809917           NaN  \n",
      "std         NaN  NaN   97.696922           NaN  \n",
      "min         NaN  NaN    1.000000           NaN  \n",
      "25%         NaN  NaN   72.000000           NaN  \n",
      "50%         NaN  NaN  155.000000           NaN  \n",
      "75%         NaN  NaN  256.000000           NaN  \n",
      "max         NaN  NaN  328.000000           NaN  \n",
      "Index(['Unnamed: 0', 'pclass', 'survived', 'name', 'gender', 'age', 'sibsp',\n",
      "       'parch', 'ticket', 'fare', 'cabin', 'embarked', 'boat', 'body',\n",
      "       'home.dest'],\n",
      "      dtype='object')\n",
      "Unnamed: 0      int64\n",
      "pclass          int64\n",
      "survived        int64\n",
      "name           object\n",
      "gender         object\n",
      "age           float64\n",
      "sibsp           int64\n",
      "parch           int64\n",
      "ticket         object\n",
      "fare           object\n",
      "cabin          object\n",
      "embarked       object\n",
      "boat           object\n",
      "body          float64\n",
      "home.dest      object\n",
      "dtype: object\n"
     ]
    }
   ],
   "source": [
    "print(df1.describe(include= 'all'))\n",
    "print(df1.columns)\n",
    "print(df1.dtypes)"
   ]
  },
  {
   "cell_type": "code",
   "execution_count": 8,
   "metadata": {},
   "outputs": [
    {
     "name": "stdout",
     "output_type": "stream",
     "text": [
      "    AA   BB   CC   DD\n",
      "0  109  105  110  125\n",
      "1  133  141  149  139\n",
      "2  115  142  142  143\n",
      "3  105  108  146  100\n",
      "4  131  134  110  148\n",
      "5  144  113  132  120\n",
      "6  140  117  147  149\n",
      "7  128  105  136  103\n",
      "8  112  139  105  116\n",
      "9  108  143  144  101\n",
      "0    109\n",
      "1    133\n",
      "2    115\n",
      "3    105\n",
      "4    131\n",
      "5    144\n",
      "6    140\n",
      "7    128\n",
      "8    112\n",
      "9    108\n",
      "Name: AA, dtype: int32\n"
     ]
    }
   ],
   "source": [
    "print(df)\n",
    "\n",
    "# print(df[0])\n",
    "print( df['AA'])"
   ]
  },
  {
   "cell_type": "code",
   "execution_count": 9,
   "metadata": {},
   "outputs": [
    {
     "name": "stdout",
     "output_type": "stream",
     "text": [
      "    AA   BB   CC   DD\n",
      "4  131  134  110  148\n",
      "5  144  113  132  120\n",
      "6  140  117  147  149\n",
      "7  128  105  136  103\n",
      "8  112  139  105  116\n",
      "9  108  143  144  101\n",
      "AA    109\n",
      "BB    105\n",
      "CC    110\n",
      "DD    125\n",
      "Name: 0, dtype: int32\n",
      "    AA   BB   CC   DD\n",
      "0  109  105  110  125\n",
      "1  133  141  149  139\n",
      "2  115  142  142  143\n",
      "3  105  108  146  100\n",
      "0    109\n",
      "1    133\n",
      "2    115\n",
      "3    105\n",
      "4    131\n",
      "5    144\n",
      "6    140\n",
      "7    128\n",
      "8    112\n",
      "9    108\n",
      "Name: AA, dtype: int32\n"
     ]
    }
   ],
   "source": [
    "print( df[4:])\n",
    "\n",
    "print( df.loc[0])\n",
    "print( df.loc[0:3])\n",
    "\n",
    "print(df.AA)"
   ]
  },
  {
   "cell_type": "code",
   "execution_count": 10,
   "metadata": {},
   "outputs": [
    {
     "name": "stdout",
     "output_type": "stream",
     "text": [
      "    BB   CC   DD\n",
      "0  105  110  125\n",
      "1  141  149  139\n",
      "2  142  142  143\n",
      "3  108  146  100\n",
      "4  134  110  148\n",
      "5  113  132  120\n",
      "6  117  147  149\n",
      "7  105  136  103\n",
      "8  139  105  116\n",
      "9  143  144  101\n",
      "    AA   BB   CC\n",
      "0  109  105  110\n",
      "1  133  141  149\n",
      "2  115  142  142\n",
      "3  105  108  146\n",
      "4  131  134  110\n",
      "5  144  113  132\n",
      "6  140  117  147\n",
      "7  128  105  136\n",
      "8  112  139  105\n",
      "9  108  143  144\n"
     ]
    },
    {
     "data": {
      "application/javascript": [
       "\n",
       "        if (window._pyforest_update_imports_cell) { window._pyforest_update_imports_cell('import numpy as np\\nimport pandas as pd'); }\n",
       "    "
      ],
      "text/plain": [
       "<IPython.core.display.Javascript object>"
      ]
     },
     "metadata": {},
     "output_type": "display_data"
    },
    {
     "name": "stdout",
     "output_type": "stream",
     "text": [
      "    AA   BB   CC   DD    P\n",
      "0  109  105  110  125  1.0\n",
      "1  133  141  149  139  2.0\n",
      "2  115  142  142  143  3.0\n",
      "3  105  108  146  100  4.0\n",
      "4  131  134  110  148  NaN\n",
      "5  144  113  132  120  NaN\n",
      "6  140  117  147  149  NaN\n",
      "7  128  105  136  103  NaN\n",
      "8  112  139  105  116  NaN\n",
      "9  108  143  144  101  NaN\n",
      "AA    False\n",
      "BB    False\n",
      "CC    False\n",
      "DD    False\n",
      "P      True\n",
      "dtype: bool\n"
     ]
    }
   ],
   "source": [
    "\n",
    "print( df.loc[:  , 'BB':])\n",
    "print( df.loc[:  , :'CC'])\n",
    "\n",
    "df['P'] = pd.Series([1,2,3,4])\n",
    "print(df)\n",
    "\n",
    "# if any column has missing data\n",
    "print(df.isna().any())"
   ]
  },
  {
   "cell_type": "code",
   "execution_count": 11,
   "metadata": {},
   "outputs": [
    {
     "name": "stdout",
     "output_type": "stream",
     "text": [
      "(1309, 15)\n",
      "<class 'pandas.core.series.Series'>\n",
      "Unnamed: 0     0.000000\n",
      "pclass         0.000000\n",
      "survived       0.000000\n",
      "name           0.000000\n",
      "gender         0.000000\n",
      "age           20.091673\n",
      "sibsp          0.000000\n",
      "parch          0.000000\n",
      "ticket         0.000000\n",
      "fare           0.076394\n",
      "cabin         77.463713\n",
      "embarked       0.152788\n",
      "boat          62.872422\n",
      "body          90.756303\n",
      "home.dest     43.086325\n",
      "dtype: float64\n"
     ]
    }
   ],
   "source": [
    "print(df1.shape)\n",
    "\n",
    "s = df1.isna().sum()\n",
    "print(type(s))\n",
    "print(s/df1.shape[0] * 100)\n"
   ]
  },
  {
   "cell_type": "code",
   "execution_count": 12,
   "metadata": {},
   "outputs": [
    {
     "name": "stdout",
     "output_type": "stream",
     "text": [
      "AA    1225.0\n",
      "BB    1247.0\n",
      "CC    1321.0\n",
      "DD    1244.0\n",
      "P       10.0\n",
      "dtype: float64\n",
      "AA    1225.0\n",
      "BB    1247.0\n",
      "CC    1321.0\n",
      "DD    1244.0\n",
      "P       10.0\n",
      "dtype: float64\n",
      "0    450.0\n",
      "1    564.0\n",
      "2    545.0\n",
      "3    463.0\n",
      "4    523.0\n",
      "5    509.0\n",
      "6    553.0\n",
      "7    472.0\n",
      "8    472.0\n",
      "9    496.0\n",
      "dtype: float64\n"
     ]
    }
   ],
   "source": [
    "print(df.sum())\n",
    "print(df.sum(axis = 0))\n",
    "print(df.sum(axis = 1))\n"
   ]
  },
  {
   "cell_type": "code",
   "execution_count": 13,
   "metadata": {},
   "outputs": [
    {
     "name": "stdout",
     "output_type": "stream",
     "text": [
      "    AA   BB   CC   DD    P\n",
      "0  109  105  110  125  1.0\n",
      "1  133  141  149  139  2.0\n",
      "2  115  142  142  143  3.0\n",
      "3  105  108  146  100  4.0\n",
      "4  131  134  110  148  NaN\n",
      "<class 'pandas.core.frame.DataFrame'>\n",
      "    AA   BB   CC\n",
      "0  109  105  110\n",
      "1  133  141  149\n",
      "2  115  142  142\n",
      "3  105  108  146\n",
      "4  131  134  110\n",
      "5  144  113  132\n",
      "6  140  117  147\n",
      "7  128  105  136\n",
      "8  112  139  105\n",
      "9  108  143  144\n"
     ]
    }
   ],
   "source": [
    "print(df.head())\n",
    "r = df.iloc[:, :3]\n",
    "print(type(r), r, sep = '\\n')\n",
    "df['S'] = r.sum(axis = 1)"
   ]
  },
  {
   "cell_type": "code",
   "execution_count": 14,
   "metadata": {},
   "outputs": [
    {
     "name": "stdout",
     "output_type": "stream",
     "text": [
      "    AA   BB   CC   DD    P    S\n",
      "0  109  105  110  125  1.0  324\n",
      "1  133  141  149  139  2.0  423\n",
      "2  115  142  142  143  3.0  399\n",
      "3  105  108  146  100  4.0  359\n",
      "4  131  134  110  148  NaN  375\n"
     ]
    }
   ],
   "source": [
    "print(df.head())"
   ]
  },
  {
   "cell_type": "code",
   "execution_count": 15,
   "metadata": {},
   "outputs": [
    {
     "data": {
      "application/javascript": [
       "\n",
       "        if (window._pyforest_update_imports_cell) { window._pyforest_update_imports_cell('import numpy as np\\nimport pandas as pd'); }\n",
       "    "
      ],
      "text/plain": [
       "<IPython.core.display.Javascript object>"
      ]
     },
     "metadata": {},
     "output_type": "display_data"
    },
    {
     "data": {
      "application/javascript": [
       "\n",
       "        if (window._pyforest_update_imports_cell) { window._pyforest_update_imports_cell('import numpy as np\\nimport pandas as pd'); }\n",
       "    "
      ],
      "text/plain": [
       "<IPython.core.display.Javascript object>"
      ]
     },
     "metadata": {},
     "output_type": "display_data"
    },
    {
     "name": "stdout",
     "output_type": "stream",
     "text": [
      "      A   B  c\n",
      "0   133   1  A\n",
      "1   125   2  B\n",
      "2   191   3  C\n",
      "3   131   4  D\n",
      "4   105   5  E\n",
      "5   131   6  F\n",
      "6   114   7  G\n",
      "7   154   8  H\n",
      "8   105   9  I\n",
      "9   113  10  J\n",
      "10  152  11  K\n",
      "11  155  12  L\n",
      "12  199  13  M\n",
      "13  197  14  N\n",
      "14  136  15  O\n",
      "15  166  16  P\n",
      "16  149  17  Q\n",
      "17  128  18  R\n",
      "18  174  19  S\n",
      "19  182  20  T\n"
     ]
    }
   ],
   "source": [
    "# to create a Dataframe containing 3 columns wiht 20 rows.\n",
    "# 'A' : random numbers from 100-200\n",
    "# 'B' : numbers from 1-20\n",
    "# 'C' : first 20 capital alphabets\n",
    "\n",
    "df3 = pd.DataFrame()\n",
    "df3['A'] = np.random.randint(100,200,20)\n",
    "df3['B'] = range(1,21)\n",
    "df3['c'] = [ chr(x) for x in range(65, 85)]\n",
    "print(df3)"
   ]
  },
  {
   "cell_type": "code",
   "execution_count": 16,
   "metadata": {},
   "outputs": [
    {
     "data": {
      "application/javascript": [
       "\n",
       "        if (window._pyforest_update_imports_cell) { window._pyforest_update_imports_cell('import numpy as np\\nimport pandas as pd'); }\n",
       "    "
      ],
      "text/plain": [
       "<IPython.core.display.Javascript object>"
      ]
     },
     "metadata": {},
     "output_type": "display_data"
    },
    {
     "data": {
      "application/javascript": [
       "\n",
       "        if (window._pyforest_update_imports_cell) { window._pyforest_update_imports_cell('import numpy as np\\nimport pandas as pd'); }\n",
       "    "
      ],
      "text/plain": [
       "<IPython.core.display.Javascript object>"
      ]
     },
     "metadata": {},
     "output_type": "display_data"
    },
    {
     "name": "stdout",
     "output_type": "stream",
     "text": [
      "      A  C   B    D\n",
      "0   143  A   1  100\n",
      "1   122  B   2  100\n",
      "2   150  C   3  100\n",
      "3   145  D   4  100\n",
      "4   106  E   5  100\n",
      "5   173  F   6  100\n",
      "6   187  G   7  100\n",
      "7   116  H   8  100\n",
      "8   170  I   9  100\n",
      "9   113  J  10  100\n",
      "10  112  K  11  100\n",
      "11  191  L  12  100\n",
      "12  107  M  13  100\n",
      "13  164  N  14  100\n",
      "14  135  O  15  100\n",
      "15  152  P  16  100\n",
      "16  156  Q  17  100\n",
      "17  132  R  18  100\n",
      "18  198  S  19  100\n",
      "19  133  T  20  100\n"
     ]
    }
   ],
   "source": [
    "# to create a Dataframe containing 3 columns wiht 20 rows.\n",
    "# 'A' : random numbers from 100-200\n",
    "# 'B' : numbers from 1-20\n",
    "# 'C' : first 20 capital alphabets\n",
    "import string\n",
    "\n",
    "df3 = pd.DataFrame( {'A': np.random.randint(100,200,20), \\\n",
    "                     'C': list(string.ascii_uppercase[:20]), \\\n",
    "                     'B': range(1,21), 'D': 100})\n",
    "\n",
    "print(df3)"
   ]
  },
  {
   "cell_type": "code",
   "execution_count": 17,
   "metadata": {},
   "outputs": [
    {
     "data": {
      "text/plain": [
       "191    1\n",
       "152    1\n",
       "133    1\n",
       "198    1\n",
       "135    1\n",
       "106    1\n",
       "107    1\n",
       "173    1\n",
       "143    1\n",
       "112    1\n",
       "145    1\n",
       "116    1\n",
       "132    1\n",
       "150    1\n",
       "113    1\n",
       "170    1\n",
       "122    1\n",
       "187    1\n",
       "156    1\n",
       "164    1\n",
       "Name: A, dtype: int64"
      ]
     },
     "execution_count": 17,
     "metadata": {},
     "output_type": "execute_result"
    }
   ],
   "source": [
    "df3.A.value_counts()"
   ]
  },
  {
   "cell_type": "code",
   "execution_count": 19,
   "metadata": {},
   "outputs": [
    {
     "data": {
      "text/plain": [
       "<matplotlib.axes._subplots.AxesSubplot at 0x1b404f46b88>"
      ]
     },
     "execution_count": 19,
     "metadata": {},
     "output_type": "execute_result"
    },
    {
     "data": {
      "image/png": "[encoded data removed]",
      "text/plain": [
       "<Figure size 432x288 with 1 Axes>"
      ]
     },
     "metadata": {
      "needs_background": "light"
     },
     "output_type": "display_data"
    }
   ],
   "source": [
    "import matplotlib.pyplot as plt\n",
    "df1.pclass.value_counts().plot(kind = 'bar')"
   ]
  },
  {
   "cell_type": "code",
   "execution_count": 20,
   "metadata": {},
   "outputs": [
    {
     "data": {
      "image/png": "[encoded data removed]",
      "text/plain": [
       "<Figure size 432x288 with 1 Axes>"
      ]
     },
     "metadata": {
      "needs_background": "light"
     },
     "output_type": "display_data"
    },
    {
     "name": "stdout",
     "output_type": "stream",
     "text": [
      "None\n"
     ]
    }
   ],
   "source": [
    "\n",
    "df1.gender.value_counts().plot(kind = 'bar')\n",
    "print(plt.show())"
   ]
  },
  {
   "cell_type": "code",
   "execution_count": 21,
   "metadata": {},
   "outputs": [
    {
     "name": "stdout",
     "output_type": "stream",
     "text": [
      "[1 2 3]\n"
     ]
    }
   ],
   "source": [
    "print( df1.pclass.unique() )"
   ]
  },
  {
   "cell_type": "code",
   "execution_count": null,
   "metadata": {},
   "outputs": [],
   "source": []
  }
 ],
 "metadata": {
  "kernelspec": {
   "display_name": "Python 3",
   "language": "python",
   "name": "python3"
  },
  "language_info": {
   "codemirror_mode": {
    "name": "ipython",
    "version": 3
   },
   "file_extension": ".py",
   "mimetype": "text/x-python",
   "name": "python",
   "nbconvert_exporter": "python",
   "pygments_lexer": "ipython3",
   "version": "3.7.4"
  }
 },
 "nbformat": 4,
 "nbformat_minor": 4
}
