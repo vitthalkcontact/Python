{
 "cells": [
  {
   "cell_type": "code",
   "execution_count": 1,
   "metadata": {},
   "outputs": [
    {
     "name": "stdout",
     "output_type": "stream",
     "text": [
      "['GradientBoostingClassifier', 'GradientBoostingRegressor', 'In', 'LazyImport', 'OneHotEncoder', 'Out', 'Path', 'RandomForestClassifier', 'RandomForestRegressor', 'SparkContext', 'TSNE', 'TfidfVectorizer', '_', '__', '___', '__builtin__', '__builtins__', '__cached__', '__doc__', '__loader__', '__name__', '__package__', '__path__', '__spec__', '_dh', '_i', '_i1', '_ih', '_ii', '_iii', '_importable', '_imports', '_oh', 'active_imports', 'alt', 'bokeh', 'dash', 'dd', 'dt', 'exit', 'gensim', 'get_ipython', 'get_user_symbols', 'glob', 'go', 'install_extensions', 'install_labextension', 'install_nbextension', 'keras', 'lazy_imports', 'load_workbook', 'mpl', 'nltk', 'np', 'os', 'pd', 'pickle', 'plt', 'px', 'py', 'pydot', 'pyforest', 'quit', 're', 'sklearn', 'sns', 'spacy', 'statistics', 'svm', 'sys', 'tf', 'tqdm', 'train_test_split', 'user_specific_imports', 'user_symbols', 'utils']\n"
     ]
    }
   ],
   "source": [
    "print(dir())"
   ]
  },
  {
   "cell_type": "code",
   "execution_count": 2,
   "metadata": {},
   "outputs": [
    {
     "name": "stdout",
     "output_type": "stream",
     "text": [
      "['GradientBoostingClassifier', 'GradientBoostingRegressor', 'In', 'LazyImport', 'OneHotEncoder', 'Out', 'Path', 'RandomForestClassifier', 'RandomForestRegressor', 'SparkContext', 'TSNE', 'TfidfVectorizer', '_', '__', '___', '__builtin__', '__builtins__', '__cached__', '__doc__', '__loader__', '__name__', '__package__', '__path__', '__spec__', '_dh', '_i', '_i1', '_i2', '_ih', '_ii', '_iii', '_importable', '_imports', '_oh', 'active_imports', 'alt', 'bokeh', 'dash', 'dd', 'dt', 'exit', 'gensim', 'get_ipython', 'get_user_symbols', 'glob', 'go', 'install_extensions', 'install_labextension', 'install_nbextension', 'keras', 'lazy_imports', 'load_workbook', 'mpl', 'nltk', 'np', 'os', 'pd', 'pickle', 'plt', 'px', 'py', 'pydot', 'pyforest', 'quit', 'randint', 're', 'sklearn', 'sns', 'spacy', 'statistics', 'svm', 'sys', 'tf', 'tqdm', 'train_test_split', 'user_specific_imports', 'user_symbols', 'utils']\n"
     ]
    }
   ],
   "source": [
    "from random import randint\n",
    "print(dir())"
   ]
  },
  {
   "cell_type": "code",
   "execution_count": 3,
   "metadata": {},
   "outputs": [
    {
     "ename": "NameError",
     "evalue": "name 'random' is not defined",
     "output_type": "error",
     "traceback": [
      "\u001b[1;31m---------------------------------------------------------------------------\u001b[0m",
      "\u001b[1;31mNameError\u001b[0m                                 Traceback (most recent call last)",
      "\u001b[1;32m<ipython-input-3-412707dec4cd>\u001b[0m in \u001b[0;36m<module>\u001b[1;34m\u001b[0m\n\u001b[1;32m----> 1\u001b[1;33m \u001b[0mrandom\u001b[0m\u001b[1;33m.\u001b[0m\u001b[0mrandint\u001b[0m\u001b[1;33m\u001b[0m\u001b[1;33m\u001b[0m\u001b[0m\n\u001b[0m",
      "\u001b[1;31mNameError\u001b[0m: name 'random' is not defined"
     ]
    }
   ],
   "source": [
    "random.randint"
   ]
  },
  {
   "cell_type": "code",
   "execution_count": 4,
   "metadata": {},
   "outputs": [
    {
     "data": {
      "text/plain": [
       "<bound method Random.randint of <random.Random object at 0x000001E5B2AEE078>>"
      ]
     },
     "execution_count": 4,
     "metadata": {},
     "output_type": "execute_result"
    }
   ],
   "source": [
    "randint"
   ]
  }
 ],
 "metadata": {
  "kernelspec": {
   "display_name": "Python 3",
   "language": "python",
   "name": "python3"
  },
  "language_info": {
   "codemirror_mode": {
    "name": "ipython",
    "version": 3
   },
   "file_extension": ".py",
   "mimetype": "text/x-python",
   "name": "python",
   "nbconvert_exporter": "python",
   "pygments_lexer": "ipython3",
   "version": "3.7.4"
  }
 },
 "nbformat": 4,
 "nbformat_minor": 4
}
