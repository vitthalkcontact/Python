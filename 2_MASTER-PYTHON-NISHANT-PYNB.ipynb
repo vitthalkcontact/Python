{
 "cells": [
  {
   "cell_type": "markdown",
   "metadata": {},
   "source": [
    "# CLASS-2: 13 OCTOBER 2019"
   ]
  },
  {
   "cell_type": "markdown",
   "metadata": {},
   "source": [
    "# Conditional statement"
   ]
  },
  {
   "cell_type": "markdown",
   "metadata": {},
   "source": [
    "```\n",
    "if\n",
    "```"
   ]
  },
  {
   "cell_type": "markdown",
   "metadata": {},
   "source": [
    "### generic syntax\n",
    "\n",
    "```\n",
    "if condition:\n",
    "    print(\"\")\n",
    "elif condition:\n",
    "    print(\"\")\n",
    "elif condition:\n",
    "    print(\"\")\n",
    "else:\n",
    "    print(\"\")\n",
    "```"
   ]
  },
  {
   "cell_type": "markdown",
   "metadata": {},
   "source": [
    "# Odd and Even numbers"
   ]
  },
  {
   "cell_type": "code",
   "execution_count": 2,
   "metadata": {},
   "outputs": [
    {
     "name": "stdout",
     "output_type": "stream",
     "text": [
      "Enter a number: 17\n",
      "The entered number is ODD:  17\n"
     ]
    }
   ],
   "source": [
    "number = int(input(\"Enter a number: \"))\n",
    "reminder = number % 2\n",
    "if reminder == 0:\n",
    "    print(\"The entered number is EVEN: \",number)\n",
    "else:\n",
    "    print(\"The entered number is ODD: \",number)"
   ]
  },
  {
   "cell_type": "markdown",
   "metadata": {},
   "source": [
    "# Grading Program\n",
    "```\n",
    "< 35 - fail\n",
    ">= 36 - 75 - pass\n",
    ">= 76 - 100 - distinction\n",
    "```"
   ]
  },
  {
   "cell_type": "code",
   "execution_count": 3,
   "metadata": {},
   "outputs": [
    {
     "name": "stdout",
     "output_type": "stream",
     "text": [
      "enter the mark in integer number: 90\n",
      "Distinction\n"
     ]
    }
   ],
   "source": [
    "marks = int(input(\"enter the mark in integer number: \"))\n",
    "if marks < 0 or marks > 100:\n",
    "    print(\"Invalid input\")\n",
    "elif marks <=35:\n",
    "    print(\"Fail\")\n",
    "# elif marks >=36 and marks <=75:\n",
    "elif marks <=75:\n",
    "    print(\"Pass\")\n",
    "else:\n",
    "    print(\"Distinction\")"
   ]
  },
  {
   "cell_type": "markdown",
   "metadata": {},
   "source": [
    "# Loops\n",
    "```\n",
    "for\n",
    "while\n",
    "```"
   ]
  },
  {
   "cell_type": "markdown",
   "metadata": {},
   "source": [
    "```\n",
    "for - \n",
    "[1,25,25,78,47] - List\n",
    "(15,15,78,98,58) - Tuple\n",
    "{15,16,17,18 } - Set\n",
    "{\"A\":1,\"B\":2} - Dictionary\n",
    "\"Python\" - string\n",
    "```\n",
    "```\n",
    "while\n",
    "```"
   ]
  },
  {
   "cell_type": "markdown",
   "metadata": {},
   "source": [
    "# print multiplication table of 85 upto 15 times"
   ]
  },
  {
   "cell_type": "markdown",
   "metadata": {},
   "source": [
    "#### Not a good coding practice\n",
    "```\n",
    "print(85 * 1)\n",
    "print(85 * 2)\n",
    "print(85 * 3)\n",
    "print(85 * 4)\n",
    "...\n",
    "print(85 * 15)\n",
    "```"
   ]
  },
  {
   "cell_type": "code",
   "execution_count": 5,
   "metadata": {},
   "outputs": [
    {
     "name": "stdout",
     "output_type": "stream",
     "text": [
      "85\n",
      "170\n",
      "255\n",
      "340\n",
      "425\n",
      "510\n",
      "595\n",
      "680\n",
      "765\n",
      "850\n",
      "935\n",
      "1020\n",
      "1105\n",
      "1190\n",
      "1275\n",
      "Mutiplication is over\n"
     ]
    }
   ],
   "source": [
    "count = 1\n",
    "while count <= 15:\n",
    "    print(85*count)\n",
    "    count += 1\n",
    "print(\"Mutiplication is over\")"
   ]
  },
  {
   "cell_type": "code",
   "execution_count": 6,
   "metadata": {},
   "outputs": [
    {
     "name": "stdout",
     "output_type": "stream",
     "text": [
      "85\n",
      "170\n",
      "255\n",
      "340\n",
      "425\n",
      "510\n",
      "595\n",
      "680\n",
      "765\n",
      "850\n",
      "935\n",
      "1020\n",
      "1105\n",
      "1190\n",
      "1275\n",
      "Multiplication is over\n"
     ]
    }
   ],
   "source": [
    "# for var in range(1,16,1):\n",
    "for var in range(1,16):\n",
    "    print(85*var)\n",
    "print(\"Multiplication is over\")"
   ]
  },
  {
   "cell_type": "markdown",
   "metadata": {},
   "source": [
    "# Fibonacci Series\n",
    "```\n",
    "0\n",
    "1\n",
    "1\n",
    "2\n",
    "3\n",
    "5\n",
    "8\n",
    "13\n",
    "21\n",
    "34\n",
    "55\n",
    "89\n",
    "```"
   ]
  },
  {
   "cell_type": "code",
   "execution_count": 7,
   "metadata": {},
   "outputs": [
    {
     "name": "stdout",
     "output_type": "stream",
     "text": [
      "0\n",
      "1\n",
      "1\n",
      "2\n",
      "3\n",
      "5\n",
      "8\n",
      "13\n",
      "21\n",
      "34\n",
      "55\n",
      "89\n"
     ]
    }
   ],
   "source": [
    "# Best coding practice for Fibonacci Series\n",
    "number_a = 0\n",
    "number_b = 1\n",
    "\n",
    "print(number_a)\n",
    "print(number_b)\n",
    "\n",
    "while number_a + number_b < 100:\n",
    "    number_c = number_a + number_b\n",
    "    print(number_c)\n",
    "    \n",
    "    number_a = number_b\n",
    "    number_b = number_c"
   ]
  },
  {
   "cell_type": "markdown",
   "metadata": {},
   "source": [
    "# break, continue and else in loops"
   ]
  },
  {
   "cell_type": "markdown",
   "metadata": {},
   "source": [
    "# in"
   ]
  },
  {
   "cell_type": "code",
   "execution_count": 8,
   "metadata": {},
   "outputs": [
    {
     "data": {
      "text/plain": [
       "False"
      ]
     },
     "execution_count": 8,
     "metadata": {},
     "output_type": "execute_result"
    }
   ],
   "source": [
    "88 in [1,5,6]"
   ]
  },
  {
   "cell_type": "code",
   "execution_count": 9,
   "metadata": {},
   "outputs": [
    {
     "data": {
      "text/plain": [
       "False"
      ]
     },
     "execution_count": 9,
     "metadata": {},
     "output_type": "execute_result"
    }
   ],
   "source": [
    "88 in [\"der\",5,6]"
   ]
  },
  {
   "cell_type": "code",
   "execution_count": 10,
   "metadata": {},
   "outputs": [
    {
     "data": {
      "text/plain": [
       "True"
      ]
     },
     "execution_count": 10,
     "metadata": {},
     "output_type": "execute_result"
    }
   ],
   "source": [
    "\"v\" in \"vtvt\""
   ]
  },
  {
   "cell_type": "code",
   "execution_count": 13,
   "metadata": {},
   "outputs": [
    {
     "data": {
      "text/plain": [
       "False"
      ]
     },
     "execution_count": 13,
     "metadata": {},
     "output_type": "execute_result"
    }
   ],
   "source": [
    "88 in {1,5,6}"
   ]
  },
  {
   "cell_type": "code",
   "execution_count": 14,
   "metadata": {},
   "outputs": [
    {
     "data": {
      "text/plain": [
       "False"
      ]
     },
     "execution_count": 14,
     "metadata": {},
     "output_type": "execute_result"
    }
   ],
   "source": [
    "88 in (1,5,6)"
   ]
  },
  {
   "cell_type": "code",
   "execution_count": 21,
   "metadata": {},
   "outputs": [
    {
     "data": {
      "text/plain": [
       "True"
      ]
     },
     "execution_count": 21,
     "metadata": {},
     "output_type": "execute_result"
    }
   ],
   "source": [
    "\"A\" in {\"A\":1,\"B\":5,\"C\":6}"
   ]
  },
  {
   "cell_type": "code",
   "execution_count": 24,
   "metadata": {},
   "outputs": [
    {
     "data": {
      "text/plain": [
       "False"
      ]
     },
     "execution_count": 24,
     "metadata": {},
     "output_type": "execute_result"
    }
   ],
   "source": [
    "\"D\" in {\"A\":1,\"B\":5,\"C\":6}"
   ]
  },
  {
   "cell_type": "markdown",
   "metadata": {},
   "source": [
    "# continue in loops"
   ]
  },
  {
   "cell_type": "code",
   "execution_count": 25,
   "metadata": {},
   "outputs": [
    {
     "name": "stdout",
     "output_type": "stream",
     "text": [
      "Transfer Bonus to Employee -->  1\n",
      "Transfer Bonus to Employee -->  2\n",
      "Transfer Bonus to Employee -->  3\n",
      "Transfer Bonus to Employee -->  4\n",
      "Transfer Bonus to Employee -->  6\n",
      "Transfer Bonus to Employee -->  9\n",
      "Transfer Bonus to Employee -->  10\n"
     ]
    }
   ],
   "source": [
    "employees = [1,2,3,4,5,6,7,8,9,10]\n",
    "excluded_emp = [5,7,8]\n",
    "\n",
    "for current_emp in employees:\n",
    "    if current_emp in excluded_emp:\n",
    "        continue\n",
    "        \n",
    "    print(\"Transfer Bonus to Employee --> \", current_emp)"
   ]
  },
  {
   "cell_type": "markdown",
   "metadata": {},
   "source": [
    "# break in loops"
   ]
  },
  {
   "cell_type": "code",
   "execution_count": 26,
   "metadata": {},
   "outputs": [
    {
     "name": "stdout",
     "output_type": "stream",
     "text": [
      "Please enter something Hi\n",
      "Hi\n",
      "Please enter something Learnbay\n",
      "Learnbay\n",
      "Please enter something End\n",
      "End\n",
      "Please enter something end\n",
      "end\n",
      "outside while loop\n"
     ]
    }
   ],
   "source": [
    "# keep taking input from user untill he enters end\n",
    "while True:\n",
    "    data = input(\"Please enter something \")\n",
    "    print(data)\n",
    "    \n",
    "    if data == \"end\": # keep taking input from user untill he enters end\n",
    "        break\n",
    "print(\"outside while loop\")"
   ]
  },
  {
   "cell_type": "markdown",
   "metadata": {},
   "source": [
    "# else in loops"
   ]
  },
  {
   "cell_type": "code",
   "execution_count": 27,
   "metadata": {},
   "outputs": [
    {
     "name": "stdout",
     "output_type": "stream",
     "text": [
      "Transfer Bonus to Employee -->  1\n",
      "Transfer Bonus to Employee -->  2\n",
      "Transfer Bonus to Employee -->  3\n",
      "Transfer Bonus to Employee -->  4\n",
      "Transfer Bonus to Employee -->  5\n",
      "Transfer Bonus to Employee -->  6\n",
      "Transfer Bonus to Employee -->  7\n",
      "Transfer Bonus to Employee -->  8\n"
     ]
    }
   ],
   "source": [
    "employees = [1,2,3,4,5,6,7,8,-9,10,0]\n",
    "# employees = [1,2,3,4,5,6,7,8,9,10]\n",
    "\n",
    "for current_emp in employees:\n",
    "    if current_emp <= 0:\n",
    "        break \n",
    "    print(\"Transfer Bonus to Employee --> \", current_emp)\n",
    "else:\n",
    "    print(\"Success Execution, No Faulty Data Found\")"
   ]
  },
  {
   "cell_type": "code",
   "execution_count": 28,
   "metadata": {},
   "outputs": [
    {
     "name": "stdout",
     "output_type": "stream",
     "text": [
      "Transfer Bonus to Employee -->  1\n",
      "Transfer Bonus to Employee -->  2\n",
      "Transfer Bonus to Employee -->  3\n",
      "Transfer Bonus to Employee -->  4\n",
      "Transfer Bonus to Employee -->  5\n",
      "Transfer Bonus to Employee -->  6\n",
      "Transfer Bonus to Employee -->  7\n",
      "Transfer Bonus to Employee -->  8\n",
      "Transfer Bonus to Employee -->  9\n",
      "Transfer Bonus to Employee -->  10\n",
      "Success Execution, No Faulty Data Found\n"
     ]
    }
   ],
   "source": [
    "# employees = [1,2,3,4,5,6,7,8,-9,10,0]\n",
    "employees = [1,2,3,4,5,6,7,8,9,10]\n",
    "\n",
    "for current_emp in employees:\n",
    "    if current_emp <= 0:\n",
    "        break \n",
    "    print(\"Transfer Bonus to Employee --> \", current_emp)\n",
    "else:\n",
    "    print(\"Success Execution, No Faulty Data Found\")"
   ]
  },
  {
   "cell_type": "markdown",
   "metadata": {},
   "source": [
    "# range"
   ]
  },
  {
   "cell_type": "code",
   "execution_count": 29,
   "metadata": {},
   "outputs": [
    {
     "name": "stdout",
     "output_type": "stream",
     "text": [
      "85\n",
      "170\n",
      "255\n",
      "340\n",
      "425\n",
      "510\n",
      "595\n",
      "680\n",
      "765\n",
      "850\n",
      "935\n",
      "1020\n",
      "1105\n",
      "1190\n",
      "1275\n",
      "Mult is over\n"
     ]
    }
   ],
   "source": [
    "count = 1\n",
    "while count <= 15:\n",
    "    print(85*count)\n",
    "    count += 1\n",
    "\n",
    "print(\"Mult is over\")"
   ]
  },
  {
   "cell_type": "code",
   "execution_count": 30,
   "metadata": {},
   "outputs": [
    {
     "name": "stdout",
     "output_type": "stream",
     "text": [
      "2\n",
      "4\n",
      "6\n",
      "8\n",
      "10\n"
     ]
    }
   ],
   "source": [
    "# range - list start to end-1 with step size. All parameters seperated by coma.\n",
    "for each in range(2,11,2):\n",
    "    print(each)"
   ]
  },
  {
   "cell_type": "code",
   "execution_count": 31,
   "metadata": {},
   "outputs": [
    {
     "name": "stdout",
     "output_type": "stream",
     "text": [
      "[10, 12, 14, 16, 18, 20, 22, 24, 26, 28, 30, 32, 34, 36, 38, 40, 42, 44, 46, 48]\n"
     ]
    }
   ],
   "source": [
    "some_list = list(range(10,50,2))\n",
    "print(some_list)"
   ]
  },
  {
   "cell_type": "markdown",
   "metadata": {},
   "source": [
    "# zip and zip longest"
   ]
  },
  {
   "cell_type": "markdown",
   "metadata": {},
   "source": [
    "# Zip"
   ]
  },
  {
   "cell_type": "code",
   "execution_count": 32,
   "metadata": {},
   "outputs": [
    {
     "name": "stdout",
     "output_type": "stream",
     "text": [
      "Qualified\n",
      "Qualified\n"
     ]
    }
   ],
   "source": [
    "science_marks = [54,95,64,64]\n",
    "maths_marks = [58,78,98,57]\n",
    "\n",
    "for marks_1, marks_2 in zip(science_marks, maths_marks):\n",
    "    total = marks_1 + marks_2\n",
    "    \n",
    "    if total > 150:\n",
    "        print(\"Qualified\")"
   ]
  },
  {
   "cell_type": "code",
   "execution_count": 36,
   "metadata": {},
   "outputs": [
    {
     "name": "stdout",
     "output_type": "stream",
     "text": [
      "Not Qualified\n",
      "Qualified\n",
      "Qualified\n",
      "Not Qualified\n"
     ]
    }
   ],
   "source": [
    "science_marks = [54,95,64,64]\n",
    "maths_marks = [58,78,98,57]\n",
    "social_marks = [38,48,68,47]\n",
    "\n",
    "for marks_1,marks_2,marks_3 in zip(science_marks,maths_marks,social_marks):\n",
    "    total =  marks_1 + marks_2 + marks_3\n",
    "    \n",
    "    if total > 200:\n",
    "        print(\"Qualified\")\n",
    "    else:\n",
    "        print(\"Not Qualified\")"
   ]
  },
  {
   "cell_type": "code",
   "execution_count": 37,
   "metadata": {},
   "outputs": [
    {
     "name": "stdout",
     "output_type": "stream",
     "text": [
      "54 58\n",
      "95 78\n",
      "64 98\n",
      "64 57\n"
     ]
    }
   ],
   "source": [
    "science_marks = [54,95,64,64,78]\n",
    "maths_marks = [58,78,98,57]\n",
    "\n",
    "for marks_1, marks_2 in zip(science_marks, maths_marks):\n",
    "    print(marks_1, marks_2)"
   ]
  },
  {
   "cell_type": "code",
   "execution_count": 38,
   "metadata": {},
   "outputs": [],
   "source": [
    "from itertools import zip_longest"
   ]
  },
  {
   "cell_type": "code",
   "execution_count": 42,
   "metadata": {},
   "outputs": [
    {
     "name": "stdout",
     "output_type": "stream",
     "text": [
      "54 58\n",
      "95 78\n",
      "64 98\n",
      "64 57\n"
     ]
    }
   ],
   "source": [
    "science_marks = [54,95,64,64,78,58,78,98]\n",
    "maths_marks = [58,78,98,57]\n",
    "\n",
    "# for marks_1, marks_2 in zip(range(0,10), range(10,25)):\n",
    "for marks_1, marks_2 in zip(science_marks, maths_marks):\n",
    "    print(marks_1, marks_2)"
   ]
  },
  {
   "cell_type": "code",
   "execution_count": 43,
   "metadata": {},
   "outputs": [
    {
     "name": "stdout",
     "output_type": "stream",
     "text": [
      "54 58\n",
      "95 78\n",
      "64 98\n",
      "64 57\n",
      "78 None\n",
      "58 None\n",
      "78 None\n",
      "98 None\n"
     ]
    }
   ],
   "source": [
    "science_marks = [54,95,64,64,78,58,78,98]\n",
    "maths_marks = [58,78,98,57]\n",
    "\n",
    "# for marks_1, marks_2 in zip_longest(range(0,10), range(10,25)):\n",
    "for marks_1, marks_2 in zip_longest(science_marks, maths_marks):\n",
    "    print(marks_1, marks_2)"
   ]
  },
  {
   "cell_type": "code",
   "execution_count": 44,
   "metadata": {},
   "outputs": [
    {
     "name": "stdout",
     "output_type": "stream",
     "text": [
      "0 10\n",
      "1 11\n",
      "2 12\n",
      "3 13\n",
      "4 14\n",
      "5 15\n",
      "6 16\n",
      "7 17\n",
      "8 18\n",
      "9 19\n",
      "None 20\n",
      "None 21\n",
      "None 22\n",
      "None 23\n",
      "None 24\n"
     ]
    }
   ],
   "source": [
    "science_marks = [54,95,64,64,78,58,78,98]\n",
    "maths_marks = [58,78,98,57]\n",
    "\n",
    "for marks_1, marks_2 in zip_longest(range(0,10), range(10,25)):\n",
    "# for marks_1, marks_2 in zip_longest(science_marks, maths_marks):\n",
    "    print(marks_1, marks_2)"
   ]
  },
  {
   "cell_type": "markdown",
   "metadata": {},
   "source": [
    "# Assignment"
   ]
  },
  {
   "cell_type": "markdown",
   "metadata": {},
   "source": [
    "# Take input from user and print multiplication table of the input number using for loop and range."
   ]
  },
  {
   "cell_type": "code",
   "execution_count": 50,
   "metadata": {},
   "outputs": [
    {
     "name": "stdout",
     "output_type": "stream",
     "text": [
      "Enter the interger number: 10\n",
      "10\n",
      "20\n",
      "30\n",
      "40\n",
      "50\n",
      "60\n",
      "70\n",
      "80\n",
      "90\n",
      "100\n"
     ]
    }
   ],
   "source": [
    "user_input = int(input(\"Enter the interger number: \"))\n",
    "for var in range(1,user_input+1):\n",
    "    print(user_input*var)"
   ]
  },
  {
   "cell_type": "code",
   "execution_count": 53,
   "metadata": {},
   "outputs": [
    {
     "name": "stdout",
     "output_type": "stream",
     "text": [
      "Enter the interger number: 10\n",
      "[10, 20, 30, 40, 50, 60, 70, 80, 90, 100]\n"
     ]
    }
   ],
   "source": [
    "user_input = int(input(\"Enter the interger number: \"))\n",
    "final = []\n",
    "for var in range(1,user_input+1):\n",
    "#     vvk = list([user_input*var])\n",
    "    vvk = user_input*var\n",
    "    final.append(vvk)\n",
    "print(final)\n",
    "# final = tuple(final)\n",
    "# print(final)\n",
    "# print(final[2])"
   ]
  },
  {
   "cell_type": "code",
   "execution_count": 54,
   "metadata": {},
   "outputs": [
    {
     "name": "stdout",
     "output_type": "stream",
     "text": [
      "Enter the interger number: 10\n"
     ]
    },
    {
     "data": {
      "text/plain": [
       "[10, 20, 30, 40, 50, 60, 70, 80, 90, 100]"
      ]
     },
     "execution_count": 54,
     "metadata": {},
     "output_type": "execute_result"
    }
   ],
   "source": [
    "user_input = int(input(\"Enter the interger number: \"))\n",
    "final = []\n",
    "for var in range(1,user_input+1):\n",
    "    vvk = user_input*var\n",
    "    final.append(vvk)\n",
    "# print(final)\n",
    "final"
   ]
  },
  {
   "cell_type": "markdown",
   "metadata": {},
   "source": [
    "# Using range function print number from 100 to 1"
   ]
  },
  {
   "cell_type": "code",
   "execution_count": 55,
   "metadata": {},
   "outputs": [
    {
     "name": "stdout",
     "output_type": "stream",
     "text": [
      "[100, 99, 98, 97, 96, 95, 94, 93, 92, 91, 90, 89, 88, 87, 86, 85, 84, 83, 82, 81, 80, 79, 78, 77, 76, 75, 74, 73, 72, 71, 70, 69, 68, 67, 66, 65, 64, 63, 62, 61, 60, 59, 58, 57, 56, 55, 54, 53, 52, 51, 50, 49, 48, 47, 46, 45, 44, 43, 42, 41, 40, 39, 38, 37, 36, 35, 34, 33, 32, 31, 30, 29, 28, 27, 26, 25, 24, 23, 22, 21, 20, 19, 18, 17, 16, 15, 14, 13, 12, 11, 10, 9, 8, 7, 6, 5, 4, 3, 2, 1]\n"
     ]
    }
   ],
   "source": [
    "data = []\n",
    "for num in range(100,0,-1):\n",
    "    data.append(num)\n",
    "print(data)\n",
    "# data"
   ]
  },
  {
   "cell_type": "markdown",
   "metadata": {},
   "source": [
    "# Code to print\n",
    "``` \n",
    "* * * * * \n",
    "* * * * *\n",
    "* * * * *\n",
    "* * * * *\n",
    "```"
   ]
  },
  {
   "cell_type": "code",
   "execution_count": 56,
   "metadata": {},
   "outputs": [
    {
     "name": "stdout",
     "output_type": "stream",
     "text": [
      "* * * * * \n",
      "* * * * * \n",
      "* * * * * \n",
      "* * * * * \n",
      "* * * * * \n"
     ]
    }
   ],
   "source": [
    "for r in range(5):\n",
    "    print(\"* \" * 5)\n",
    "    r += 1"
   ]
  },
  {
   "cell_type": "markdown",
   "metadata": {},
   "source": [
    "#  Code to print\n",
    "```\n",
    "*\n",
    "* *\n",
    "* * *\n",
    "* * * *\n",
    "* * * * *\n",
    "```"
   ]
  },
  {
   "cell_type": "code",
   "execution_count": 57,
   "metadata": {},
   "outputs": [
    {
     "name": "stdout",
     "output_type": "stream",
     "text": [
      "\n",
      "* \n",
      "* * \n",
      "* * * \n",
      "* * * * \n",
      "* * * * * \n"
     ]
    }
   ],
   "source": [
    "for var in range(6):\n",
    "    print(\"* \"*var)"
   ]
  },
  {
   "cell_type": "markdown",
   "metadata": {},
   "source": [
    "# Test for Prime.\n",
    "    - Take input from user, and output True if its prime, False otherwise."
   ]
  },
  {
   "cell_type": "code",
   "execution_count": 71,
   "metadata": {},
   "outputs": [
    {
     "name": "stdout",
     "output_type": "stream",
     "text": [
      "Enter a number: 77\n",
      "77 is noT a prime number\n"
     ]
    }
   ],
   "source": [
    "# Python program to check if given number is prime or not \n",
    "num = int(input(\"Enter a number: \"))\n",
    "if num > 1:\n",
    "    for i in range(2, num//2):\n",
    "        if (num % i) == 0:\n",
    "            print(num, \"is noT a prime number\")\n",
    "            break\n",
    "    else:               #INDENTATION MAINTANING IS CRUCIAL TO GET RIGHT OUTPUT\n",
    "        print(num, \"is a prime number\")\n",
    "else:\n",
    "    print(num, \"is NOT a prime number\")   "
   ]
  },
  {
   "cell_type": "markdown",
   "metadata": {},
   "source": [
    "# All Prime\n",
    "    - Print all prime number between 10 - 500"
   ]
  },
  {
   "cell_type": "code",
   "execution_count": 67,
   "metadata": {},
   "outputs": [
    {
     "name": "stdout",
     "output_type": "stream",
     "text": [
      "Enter the integer value: 10\n",
      "2 None\n",
      "3 True\n",
      "4 False\n",
      "5 True\n",
      "6 False\n",
      "7 True\n",
      "8 False\n",
      "9 True\n"
     ]
    }
   ],
   "source": [
    "number = int(input(\"Enter the integer value: \"))\n",
    "def is_prime(number):\n",
    "    for each in range (2,number):\n",
    "        if number % each == 0:\n",
    "            return False\n",
    "        return True\n",
    "for each in range(2,number):\n",
    "    print(each, is_prime(each))"
   ]
  },
  {
   "cell_type": "code",
   "execution_count": 68,
   "metadata": {},
   "outputs": [
    {
     "name": "stdout",
     "output_type": "stream",
     "text": [
      "Enter a numer: 77\n",
      "77 is noT a prime\n"
     ]
    }
   ],
   "source": [
    "#Individual number prime testing here BREAK statement is crucial\n",
    "number1 = int(input(\"Enter a numer: \"))\n",
    "if number1 > 1:\n",
    "    for i in range(2,number1//2):\n",
    "        if number1 % i == 0:\n",
    "            print(number1,\"is noT a prime\")\n",
    "            break\n",
    "    else:\n",
    "        print(number1,\"is a prime\")\n",
    "else:\n",
    "    print(number1,\"is Not a prime\")"
   ]
  },
  {
   "cell_type": "code",
   "execution_count": 72,
   "metadata": {},
   "outputs": [
    {
     "name": "stdout",
     "output_type": "stream",
     "text": [
      "Enter the integer value: 20\n",
      "10 False\n",
      "11 True\n",
      "12 False\n",
      "13 True\n",
      "14 False\n",
      "15 True\n",
      "16 False\n",
      "17 True\n",
      "18 False\n",
      "19 True\n"
     ]
    }
   ],
   "source": [
    "#Print all prime number between 10 - 500\n",
    "number = int(input(\"Enter the integer value: \"))\n",
    "def is_prime(number):\n",
    "    for each in range(2,number):\n",
    "        if number % each == 0:\n",
    "            return False\n",
    "        return True\n",
    "for test in range(10,number):\n",
    "    print(test, is_prime(test)) "
   ]
  },
  {
   "cell_type": "markdown",
   "metadata": {},
   "source": [
    "# CLASS-2: 13 OCTOBER 2019"
   ]
  }
 ],
 "metadata": {
  "kernelspec": {
   "display_name": "Python 3",
   "language": "python",
   "name": "python3"
  },
  "language_info": {
   "codemirror_mode": {
    "name": "ipython",
    "version": 3
   },
   "file_extension": ".py",
   "mimetype": "text/x-python",
   "name": "python",
   "nbconvert_exporter": "python",
   "pygments_lexer": "ipython3",
   "version": "3.7.4"
  }
 },
 "nbformat": 4,
 "nbformat_minor": 2
}
