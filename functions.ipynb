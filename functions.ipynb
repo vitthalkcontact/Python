{
 "cells": [
  {
   "cell_type": "code",
   "execution_count": null,
   "metadata": {},
   "outputs": [],
   "source": [
    "### \n",
    "def hello_():\n",
    "    return # or pass"
   ]
  },
  {
   "cell_type": "code",
   "execution_count": null,
   "metadata": {},
   "outputs": [],
   "source": [
    "### WAP to print hello 1o time\n",
    "\n",
    "# print('hello!')\n",
    "# print('hello!')\n",
    "# print('hello!')\n",
    "# print('hello!')\n",
    "\n",
    "def hello_():\n",
    "    print('hello!')\n",
    "    \n",
    "hello_()\n",
    "hello_()\n",
    "hello_()\n",
    "hello_()\n"
   ]
  },
  {
   "cell_type": "code",
   "execution_count": null,
   "metadata": {},
   "outputs": [],
   "source": [
    "#### non-pametric function\n",
    "def hello_():\n",
    "    print('hello!')\n",
    "    \n",
    "hello_() ## no arguments\n",
    "\n"
   ]
  },
  {
   "cell_type": "code",
   "execution_count": null,
   "metadata": {},
   "outputs": [],
   "source": [
    "#### pametric function\n",
    "## functio definition\n",
    "def hello_(a):\n",
    "    print('hello ', a, '!')\n",
    "    \n",
    "## caling function\n",
    "hello_('Harry') ## arguments\n",
    "hello_('Rama') ## arguments\n",
    "hello_('Rakesh') ## arguments\n"
   ]
  },
  {
   "cell_type": "code",
   "execution_count": 7,
   "metadata": {},
   "outputs": [
    {
     "name": "stdout",
     "output_type": "stream",
     "text": [
      "6\n",
      "dummy\n",
      "6\n",
      "dummy\n",
      "6\n",
      "dummy\n"
     ]
    }
   ],
   "source": [
    "#### default pametric function\n",
    "## functio definition\n",
    "def add_(a,name, b=3 ):  ## default paramters\n",
    "    print(a+b)\n",
    "    print(name)\n",
    "    \n",
    "## caling function\n",
    "\n",
    "# add_(2,3)\n",
    "# add_(3)### way 1\n",
    "add_(a = 3, name = 'dummy')\n",
    "add_(name = 'dummy', a = 3)\n",
    "add_(3,'dummy')\n",
    "\n",
    "\n",
    "## 1 -> sequence matters\n",
    "## 2 ->\n"
   ]
  },
  {
   "cell_type": "code",
   "execution_count": 8,
   "metadata": {},
   "outputs": [
    {
     "name": "stdout",
     "output_type": "stream",
     "text": [
      "11\n",
      "9\n"
     ]
    }
   ],
   "source": [
    "### return \n",
    "\n",
    "def add_(a,b):\n",
    "    return a+b ### returning single values\n",
    "\n",
    "\n",
    "## function call\n",
    "print(add_(5,6))\n",
    "sum_ = add_(4,5)\n",
    "print(sum_)"
   ]
  },
  {
   "cell_type": "code",
   "execution_count": 12,
   "metadata": {},
   "outputs": [],
   "source": [
    "### WAF to return multiple values: a, b, a+b\n",
    "\n",
    "\n",
    "def add_(a,b):\n",
    "    return (a,b,a+b)           ### returning 3 values\n",
    "\n",
    "\n",
    "## function call\n",
    "## ways 1\n",
    "returned_val = add_(4,5)\n",
    "\n",
    "\n",
    "## ways 2\n",
    "a, b, s = add_(4,4)"
   ]
  },
  {
   "cell_type": "code",
   "execution_count": null,
   "metadata": {},
   "outputs": [],
   "source": []
  },
  {
   "cell_type": "code",
   "execution_count": 27,
   "metadata": {},
   "outputs": [
    {
     "name": "stdout",
     "output_type": "stream",
     "text": [
      "24\n",
      "1\n",
      "120\n",
      "720\n"
     ]
    }
   ],
   "source": [
    "#WAF to find factorial of a number.\n",
    "\n",
    "def factorial_(number):\n",
    "    # tasks\n",
    "    if (number == 0) or (number ==1):\n",
    "        return 1\n",
    "    else:\n",
    "        i = 1 \n",
    "        fac = 1\n",
    "        while i<= number:\n",
    "            fac = fac * i\n",
    "            i = i + 1\n",
    "        return fac\n",
    "\n",
    "print(factorial_(4))\n",
    "print(factorial_(0))\n",
    "print(factorial_(5))\n",
    "print(factorial_(6))"
   ]
  },
  {
   "cell_type": "code",
   "execution_count": 32,
   "metadata": {},
   "outputs": [
    {
     "name": "stdout",
     "output_type": "stream",
     "text": [
      "4\n",
      "3\n",
      "2\n",
      "24\n"
     ]
    }
   ],
   "source": [
    "#WAF to find factorial of a number.\n",
    "\n",
    "def factorial_(number):\n",
    "    # tasks\n",
    "    if (number == 0) or (number ==1):\n",
    "        return 1\n",
    "    else:\n",
    "        print(number)\n",
    "        return number * factorial_(number - 1)  ## recussive function call\n",
    "\n",
    "\n",
    "print(factorial_(4))\n"
   ]
  },
  {
   "cell_type": "code",
   "execution_count": 34,
   "metadata": {},
   "outputs": [
    {
     "name": "stdout",
     "output_type": "stream",
     "text": [
      "7\n",
      "-1\n",
      "Error: Divide by zero\n"
     ]
    }
   ],
   "source": [
    "#WAF to design calculator program using function: +,-,*,/,%\n",
    "\n",
    "def calculator(param1, param2, op):\n",
    "    if op == '+':\n",
    "        return param1+param2\n",
    "    elif op == '-':\n",
    "        return param1-param2\n",
    "    elif op == '*':\n",
    "        return param1*param2\n",
    "    elif op == '/':\n",
    "        if param2 == 0:\n",
    "            return('Error: Divide by zero')\n",
    "        else:\n",
    "            return param1/param2\n",
    "    elif op == '%':\n",
    "        return param1%param1\n",
    "    else:\n",
    "        return ('Invalid operation!!')\n",
    "\n",
    "print(calculator(3,4,'+')) # call\n",
    "print(calculator(3,4,'-'))\n",
    "print(calculator(3,0,'/'))\n",
    "    \n",
    "    \n",
    "    \n",
    "\n",
    "\n",
    "    \n"
   ]
  },
  {
   "cell_type": "markdown",
   "metadata": {},
   "source": [
    "# Lambda function\n",
    "\n",
    "    - anonymous function\n",
    "    - syntax : lambda arguments:expression <output>\n",
    "    - when to use ?: one-time usage, doesn't want to define before calling"
   ]
  },
  {
   "cell_type": "code",
   "execution_count": 37,
   "metadata": {},
   "outputs": [
    {
     "data": {
      "text/plain": [
       "3"
      ]
     },
     "execution_count": 37,
     "metadata": {},
     "output_type": "execute_result"
    }
   ],
   "source": [
    "## WAF to add two numbers using lambda\n",
    "s = lambda a,b:a+b\n",
    "s(1,2)\n"
   ]
  },
  {
   "cell_type": "code",
   "execution_count": 39,
   "metadata": {},
   "outputs": [
    {
     "data": {
      "text/plain": [
       "16"
      ]
     },
     "execution_count": 39,
     "metadata": {},
     "output_type": "execute_result"
    }
   ],
   "source": [
    "## WAF to square a number\n",
    "s = lambda n:n**2\n",
    "s(4)"
   ]
  },
  {
   "cell_type": "code",
   "execution_count": 42,
   "metadata": {},
   "outputs": [
    {
     "name": "stdout",
     "output_type": "stream",
     "text": [
      "1\n",
      "2\n",
      "4\n",
      "8\n",
      "16\n"
     ]
    }
   ],
   "source": [
    "### WAF to generate x**n series\n",
    "\n",
    "def series_(x):\n",
    "    return lambda n:x**n   #a*x+2b*x\n",
    "\n",
    "myfunc = series_(x = 2)\n",
    "print(myfunc(n = 0))\n",
    "print(myfunc(1))\n",
    "print(myfunc(2))\n",
    "print(myfunc(3))\n",
    "print(myfunc(4))"
   ]
  },
  {
   "cell_type": "code",
   "execution_count": 46,
   "metadata": {},
   "outputs": [],
   "source": [
    "# from sys import getsizeof  ##\n",
    "# print(getsizeof([1,2,3,4]))\n",
    "# print(getsizeof((1,2,3,4)))"
   ]
  },
  {
   "cell_type": "code",
   "execution_count": null,
   "metadata": {},
   "outputs": [],
   "source": [
    "###  WAP to filter even numbers from a list:\n",
    "#M1: using loop\n",
    "#M2: using list comprehension/genrator\n",
    "#M3: using lambda function\n",
    "\n",
    "mylist = [1,2,3,4,5,6,7]\n",
    "# even_mylist = \n",
    "\n",
    "\n"
   ]
  },
  {
   "cell_type": "markdown",
   "metadata": {},
   "source": [
    "# Filter, map, reduce"
   ]
  },
  {
   "cell_type": "code",
   "execution_count": 48,
   "metadata": {},
   "outputs": [
    {
     "data": {
      "text/plain": [
       "[0, 2, 4, 6, 8]"
      ]
     },
     "execution_count": 48,
     "metadata": {},
     "output_type": "execute_result"
    }
   ],
   "source": [
    "# filter (funtion, iterable) -> applies filter on given iterables and returns reultant list\n",
    "list(filter(lambda x:x%2==0,range(10)))"
   ]
  },
  {
   "cell_type": "code",
   "execution_count": 49,
   "metadata": {},
   "outputs": [
    {
     "data": {
      "text/plain": [
       "[0, 1, 4, 9, 16, 25, 36, 49, 64, 81]"
      ]
     },
     "execution_count": 49,
     "metadata": {},
     "output_type": "execute_result"
    }
   ],
   "source": [
    "## map function  -> does transformation on your data(iterables)\n",
    "# syntax: map(function, iterables)\n",
    "list(map(lambda x:x**2,range(10)))"
   ]
  },
  {
   "cell_type": "code",
   "execution_count": 56,
   "metadata": {},
   "outputs": [
    {
     "data": {
      "text/plain": [
       "-45"
      ]
     },
     "execution_count": 56,
     "metadata": {},
     "output_type": "execute_result"
    }
   ],
   "source": [
    "## reduce function -> aggregation activities\n",
    "# syntax: reduce(function, iterables)\n",
    "\n",
    "from functools import reduce\n",
    "reduce(lambda x,y:x-y,range(10))\n",
    "\n"
   ]
  },
  {
   "cell_type": "markdown",
   "metadata": {},
   "source": [
    "# Hands on"
   ]
  },
  {
   "cell_type": "code",
   "execution_count": null,
   "metadata": {},
   "outputs": [],
   "source": [
    "# WAF to reverse a string.   \n",
    "\n",
    "\n",
    "# WAF to swap two numbers.\n",
    "\n",
    "\n",
    "# WAF to sort given list.\n"
   ]
  },
  {
   "cell_type": "code",
   "execution_count": null,
   "metadata": {},
   "outputs": [],
   "source": []
  }
 ],
 "metadata": {
  "kernelspec": {
   "display_name": "Python 3",
   "language": "python",
   "name": "python3"
  },
  "language_info": {
   "codemirror_mode": {
    "name": "ipython",
    "version": 3
   },
   "file_extension": ".py",
   "mimetype": "text/x-python",
   "name": "python",
   "nbconvert_exporter": "python",
   "pygments_lexer": "ipython3",
   "version": "3.7.3"
  }
 },
 "nbformat": 4,
 "nbformat_minor": 2
}
