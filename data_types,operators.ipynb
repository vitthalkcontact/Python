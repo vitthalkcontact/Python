{
 "cells": [
  {
   "cell_type": "markdown",
   "metadata": {},
   "source": [
    "# Data Types\n"
   ]
  },
  {
   "cell_type": "code",
   "execution_count": 5,
   "metadata": {},
   "outputs": [],
   "source": [
    "num_int = 1  # integer\n",
    "num_float = 10.12 # floating number\n",
    "message = 'this is message' # blank string"
   ]
  },
  {
   "cell_type": "code",
   "execution_count": 8,
   "metadata": {},
   "outputs": [
    {
     "name": "stdout",
     "output_type": "stream",
     "text": [
      "this is message\n",
      "this is message\n",
      "this is message\n"
     ]
    }
   ],
   "source": [
    "print('this is message')\n",
    "print(\"this is message\")\n",
    "print(\"\"\"this is message\"\"\")"
   ]
  },
  {
   "cell_type": "code",
   "execution_count": 12,
   "metadata": {},
   "outputs": [
    {
     "data": {
      "text/plain": [
       "'this is messagethis is messagethis is messagethis is messagethis is messagethis is messagethis is messagethis is messagethis is messagethis is message'"
      ]
     },
     "execution_count": 12,
     "metadata": {},
     "output_type": "execute_result"
    }
   ],
   "source": [
    "message*10"
   ]
  },
  {
   "cell_type": "code",
   "execution_count": 15,
   "metadata": {},
   "outputs": [
    {
     "name": "stdout",
     "output_type": "stream",
     "text": [
      "<class 'str'>\n",
      "<class 'int'>\n",
      "<class 'float'>\n"
     ]
    }
   ],
   "source": [
    "print(type(message))\n",
    "print(type(num_int))\n",
    "print(type(num_float))"
   ]
  },
  {
   "cell_type": "code",
   "execution_count": 17,
   "metadata": {},
   "outputs": [
    {
     "name": "stdout",
     "output_type": "stream",
     "text": [
      "<class 'bool'>\n"
     ]
    }
   ],
   "source": [
    "#True, False\n",
    "my_bool = True\n",
    "print(type(my_bool))"
   ]
  },
  {
   "cell_type": "code",
   "execution_count": null,
   "metadata": {},
   "outputs": [],
   "source": [
    "## inbuilt functions:\n",
    "# print(),input(),type(),max(),min(),mean(),append(),extend(),reverse()"
   ]
  },
  {
   "cell_type": "code",
   "execution_count": 19,
   "metadata": {},
   "outputs": [],
   "source": [
    "# ### WAP to get two numbers from user using \n",
    "# single input function and display them on the consol."
   ]
  },
  {
   "cell_type": "code",
   "execution_count": 22,
   "metadata": {},
   "outputs": [
    {
     "name": "stdout",
     "output_type": "stream",
     "text": [
      "1 2 3\n"
     ]
    }
   ],
   "source": [
    "dummy = input().split()"
   ]
  },
  {
   "cell_type": "code",
   "execution_count": 25,
   "metadata": {},
   "outputs": [
    {
     "name": "stdout",
     "output_type": "stream",
     "text": [
      "['1', '2', '3']\n"
     ]
    }
   ],
   "source": [
    "print(dummy)"
   ]
  },
  {
   "cell_type": "code",
   "execution_count": null,
   "metadata": {},
   "outputs": [],
   "source": []
  },
  {
   "cell_type": "code",
   "execution_count": null,
   "metadata": {},
   "outputs": [],
   "source": []
  },
  {
   "cell_type": "code",
   "execution_count": null,
   "metadata": {},
   "outputs": [],
   "source": []
  },
  {
   "cell_type": "code",
   "execution_count": null,
   "metadata": {},
   "outputs": [],
   "source": []
  },
  {
   "cell_type": "markdown",
   "metadata": {},
   "source": [
    "# Operators & Operators precedences\n"
   ]
  },
  {
   "cell_type": "code",
   "execution_count": 27,
   "metadata": {},
   "outputs": [
    {
     "name": "stdout",
     "output_type": "stream",
     "text": [
      "3 \n",
      "6\n",
      "Division by single slash: 0.5\n",
      "Division by double slash: 0.0\n",
      "% result: 3.0\n"
     ]
    }
   ],
   "source": [
    "# WAP to take two numbers from user and \n",
    "# display results using '/', '//','%'.\n",
    "\n",
    "num1 = int(input())\n",
    "num2 = float(input())\n",
    "\n",
    "## devide by '/'\n",
    "result1 = num1/num2\n",
    "print('Division by single slash: {}'.format(result1))\n",
    "\n",
    "## devide by '//'\n",
    "result2 = num1//num2\n",
    "print('Division by double slash: {}'.format(result2))\n",
    "\n",
    "## using modulo operator '%'\n",
    "result3 = num1%num2\n",
    "print('% result: {}'.format(result3))"
   ]
  },
  {
   "cell_type": "code",
   "execution_count": 28,
   "metadata": {},
   "outputs": [
    {
     "name": "stdout",
     "output_type": "stream",
     "text": [
      "5\n",
      "10\n",
      "Division by single slash: 0.5\n",
      "Division by double slash: 0.0\n",
      "% result: 5.0\n"
     ]
    }
   ],
   "source": [
    "# WAP to take two numbers from user and \n",
    "# display results using '/', '//','%'.\n",
    "\n",
    "num1 = int(input())\n",
    "num2 = float(input())\n",
    "\n",
    "## devide by '/'\n",
    "# result1 = num1/num2\n",
    "print('Division by single slash: {}'.format(num1/num2))\n",
    "\n",
    "## devide by '//'\n",
    "# result2 = num1//num2\n",
    "print('Division by double slash: {}'.format(num1//num2))\n",
    "\n",
    "## using modulo operator '%'\n",
    "# result3 = num1%num2\n",
    "print('% result: {}'.format(num1%num2))"
   ]
  },
  {
   "cell_type": "markdown",
   "metadata": {},
   "source": [
    "## WAP to take two numbers from user and display results using comparison operators: ==,!=,>,>=,<,<=\n",
    "\n"
   ]
  },
  {
   "cell_type": "code",
   "execution_count": 36,
   "metadata": {},
   "outputs": [
    {
     "name": "stdout",
     "output_type": "stream",
     "text": [
      "6\n",
      "7\n",
      "Please see the results below as follows:\n",
      " == False \n",
      " != True \n",
      " > False \n",
      " >= False \n",
      " < True \n",
      " <= True\n"
     ]
    }
   ],
   "source": [
    "num1 = int(input())\n",
    "num2 = int(input())\n",
    "\n",
    "print('Please see the results below as follows:\\n',\n",
    "      '==',num1==num2,'\\n',\n",
    "     '!=',num1!=num2,'\\n',\n",
    "     '>',num1>num2,'\\n',\n",
    "     '>=',num1>=num2,'\\n',\n",
    "     '<',num1<=num2,'\\n',\n",
    "     '<=',num1<=num2)"
   ]
  },
  {
   "cell_type": "markdown",
   "metadata": {},
   "source": [
    "## WAP to take two numbers from user and display results using logical operators: AND, OR, NOT\n",
    "            - 'and' operator works on two operands\n",
    "            - 'or' operator works on two operands\n",
    "            - 'not' operator works on single operands"
   ]
  },
  {
   "cell_type": "code",
   "execution_count": 38,
   "metadata": {},
   "outputs": [
    {
     "name": "stdout",
     "output_type": "stream",
     "text": [
      "and operator with double operand: False\n",
      "or operator with double operand: True\n",
      "not operator with single operand: False\n",
      "not operator with single operand: True\n",
      "not operator with single operand: True\n",
      "not operator with single operand: False\n",
      "not operator with single operand: True\n"
     ]
    }
   ],
   "source": [
    "num1 = True\n",
    "num2 = False\n",
    "print('and operator with double operand:',num1 and num2)\n",
    "print('or operator with double operand:',num1 or num2)\n",
    "print('not operator with single operand:',not num1 )\n",
    "print('not operator with single operand:',not num2 )\n",
    "print('not operator with single operand:',not (num1 and num2))\n",
    "print('not operator with single operand:',not (num1 or num2))\n",
    "print('not operator with single operand:',not ((num1 and num2) or (not num1)))"
   ]
  },
  {
   "cell_type": "code",
   "execution_count": 39,
   "metadata": {},
   "outputs": [
    {
     "name": "stdout",
     "output_type": "stream",
     "text": [
      "9\n",
      "5\n",
      "0\n",
      "10\n"
     ]
    }
   ],
   "source": [
    "# Assignment operators:\n",
    "\n",
    "num1 = 4\n",
    "num1 = num1 + 2 ## method1 of addition\n",
    "num1 += 3  ## method2 of addition\n",
    "print(num1) ## 9\n",
    "\n",
    "num1 -= 4  \n",
    "print(num1) ## 5\n",
    "\n",
    "num1 *= 0 \n",
    "print(num1) ## 0\n",
    "\n",
    "num1 += 10  ## 10\n",
    "print(num1)"
   ]
  },
  {
   "cell_type": "code",
   "execution_count": 49,
   "metadata": {},
   "outputs": [
    {
     "name": "stdout",
     "output_type": "stream",
     "text": [
      "False\n"
     ]
    }
   ],
   "source": [
    "## identity operators:\n",
    "# is, not is\n",
    "\n",
    "print(5 is 6)"
   ]
  },
  {
   "cell_type": "code",
   "execution_count": 46,
   "metadata": {},
   "outputs": [
    {
     "name": "stdout",
     "output_type": "stream",
     "text": [
      "True\n"
     ]
    }
   ],
   "source": [
    "## membership operators:\n",
    "# in, not in\n",
    "\n",
    "print(5 not in [6,7,8,9,10])"
   ]
  },
  {
   "cell_type": "code",
   "execution_count": 50,
   "metadata": {},
   "outputs": [
    {
     "data": {
      "text/plain": [
       "25"
      ]
     },
     "execution_count": 50,
     "metadata": {},
     "output_type": "execute_result"
    }
   ],
   "source": [
    "5**2"
   ]
  },
  {
   "cell_type": "code",
   "execution_count": null,
   "metadata": {},
   "outputs": [],
   "source": []
  }
 ],
 "metadata": {
  "kernelspec": {
   "display_name": "Python 3",
   "language": "python",
   "name": "python3"
  },
  "language_info": {
   "codemirror_mode": {
    "name": "ipython",
    "version": 3
   },
   "file_extension": ".py",
   "mimetype": "text/x-python",
   "name": "python",
   "nbconvert_exporter": "python",
   "pygments_lexer": "ipython3",
   "version": "3.7.3"
  }
 },
 "nbformat": 4,
 "nbformat_minor": 2
}
