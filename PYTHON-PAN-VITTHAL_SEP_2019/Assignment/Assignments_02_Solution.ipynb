{
 "cells": [
  {
   "cell_type": "markdown",
   "metadata": {},
   "source": [
    "### Functions"
   ]
  },
  {
   "cell_type": "markdown",
   "metadata": {},
   "source": [
    "#### 1.Write a Python function to find the Max of three numbers in a given list [1,7,90,33,67,56,20,39,10,30]"
   ]
  },
  {
   "cell_type": "code",
   "execution_count": 16,
   "metadata": {
    "ExecuteTime": {
     "end_time": "2019-04-02T15:36:12.994817Z",
     "start_time": "2019-04-02T15:36:12.984822Z"
    }
   },
   "outputs": [
    {
     "name": "stdout",
     "output_type": "stream",
     "text": [
      "[77, 55, 44]\n"
     ]
    }
   ],
   "source": [
    "def findMaxThreeNum(list_ip):\n",
    "    list_ip.sort()\n",
    "    return(list_ip[-1:-4:-1])\n",
    "op = findMaxThreeNum([3,5,8,3,7,9,55,22,7,44,77])\n",
    "print(op)"
   ]
  },
  {
   "cell_type": "markdown",
   "metadata": {},
   "source": [
    "### or"
   ]
  },
  {
   "cell_type": "code",
   "execution_count": 17,
   "metadata": {
    "ExecuteTime": {
     "end_time": "2019-04-02T15:36:34.628524Z",
     "start_time": "2019-04-02T15:36:34.621523Z"
    }
   },
   "outputs": [
    {
     "name": "stdout",
     "output_type": "stream",
     "text": [
      "[77, 55, 44]\n"
     ]
    }
   ],
   "source": [
    "def findMaxThreeNum(list_ip):\n",
    "    list_ip.sort()\n",
    "    return(list_ip[-3:][::-1])\n",
    "op = findMaxThreeNum([3,5,8,3,7,9,55,22,7,44,77])\n",
    "print(op)"
   ]
  },
  {
   "cell_type": "markdown",
   "metadata": {
    "ExecuteTime": {
     "end_time": "2019-04-02T15:34:27.281496Z",
     "start_time": "2019-04-02T15:34:27.277503Z"
    }
   },
   "source": [
    "### or"
   ]
  },
  {
   "cell_type": "code",
   "execution_count": 8,
   "metadata": {
    "ExecuteTime": {
     "end_time": "2019-04-02T15:34:51.985065Z",
     "start_time": "2019-04-02T15:34:51.977074Z"
    }
   },
   "outputs": [
    {
     "name": "stdout",
     "output_type": "stream",
     "text": [
      "[77, 55, 44]\n"
     ]
    }
   ],
   "source": [
    "def findMaxThreeNum(list_ip):\n",
    "    list_ip.sort(reverse=True)\n",
    "    return(list_ip[:3])\n",
    "op = findMaxThreeNum([3,5,8,3,7,9,55,22,7,44,77])\n",
    "print(op)"
   ]
  },
  {
   "cell_type": "markdown",
   "metadata": {},
   "source": [
    "#### 2.Write a Python function to calculate the factorial of a number (a non-negative integer). The function accepts the number from user as an argument"
   ]
  },
  {
   "cell_type": "code",
   "execution_count": 24,
   "metadata": {
    "ExecuteTime": {
     "end_time": "2019-04-02T15:38:34.780645Z",
     "start_time": "2019-04-02T15:38:34.773608Z"
    }
   },
   "outputs": [
    {
     "name": "stdout",
     "output_type": "stream",
     "text": [
      "720\n"
     ]
    }
   ],
   "source": [
    "def factorial(n):\n",
    "    if n ==0 or n ==1:\n",
    "        return(1)\n",
    "    else:\n",
    "        tmp = n*factorial(n-1) # Using recursive method\n",
    "    return(tmp)\n",
    "print(factorial(6))"
   ]
  },
  {
   "cell_type": "markdown",
   "metadata": {},
   "source": [
    "#### 3. Write a module that conatins some functions with one line of documentation to generate a \n",
    "- list to reverse numbers for a given list , \n",
    "- generate even number list and \n",
    "- generate odd numbers list \n",
    "\n",
    "use L1 = range(10,100,3)"
   ]
  },
  {
   "cell_type": "markdown",
   "metadata": {},
   "source": [
    "### Do it on your own, we have already done it in class"
   ]
  },
  {
   "cell_type": "markdown",
   "metadata": {},
   "source": [
    "#### 4.Call above written module using “import” in different file and load various available modules and perform the same operations (i.e. generate list of reverse, even and odd numbers)"
   ]
  },
  {
   "cell_type": "markdown",
   "metadata": {},
   "source": [
    "### Do it on your own, we have already done it in class"
   ]
  },
  {
   "cell_type": "markdown",
   "metadata": {},
   "source": [
    "#### 5. Filter Even and odd number from a given list L1 (see above) using lambda function + list comprehension. \n",
    "- I expect line of code no more than 4 to 5 lines"
   ]
  },
  {
   "cell_type": "markdown",
   "metadata": {},
   "source": [
    "### Do it on your own, we have already done it in class"
   ]
  },
  {
   "cell_type": "markdown",
   "metadata": {
    "ExecuteTime": {
     "end_time": "2018-06-10T14:27:52.095007Z",
     "start_time": "2018-06-10T14:27:52.079407Z"
    }
   },
   "source": [
    "## For File IO"
   ]
  },
  {
   "cell_type": "markdown",
   "metadata": {},
   "source": [
    "#### 6. Write a script which opens a text file and read each line and print them along with line number (counter variable to be used).\n"
   ]
  },
  {
   "cell_type": "code",
   "execution_count": 34,
   "metadata": {
    "ExecuteTime": {
     "end_time": "2019-04-02T16:45:35.343659Z",
     "start_time": "2019-04-02T16:45:35.332770Z"
    }
   },
   "outputs": [
    {
     "name": "stdout",
     "output_type": "stream",
     "text": [
      "1 line1\n",
      "\n",
      "2 line2\n",
      "\n",
      "3 line3\n",
      "\n",
      "4 line4\n",
      "\n",
      "5 line1\n",
      "\n",
      "6 line2\n",
      "\n",
      "7 line3\n",
      "\n",
      "8 line4\n",
      "\n"
     ]
    }
   ],
   "source": [
    "cnt = 1\n",
    "with open(\"test1.txt\") as fh:\n",
    "    for line in fh:\n",
    "        print(str(cnt)+\" \"+line)\n",
    "        cnt += 1"
   ]
  },
  {
   "cell_type": "markdown",
   "metadata": {},
   "source": [
    "#### 7. Write a program which opens a text file and read the whole contents and write to different file."
   ]
  },
  {
   "cell_type": "code",
   "execution_count": 35,
   "metadata": {
    "ExecuteTime": {
     "end_time": "2019-04-02T16:47:18.682024Z",
     "start_time": "2019-04-02T16:47:18.671058Z"
    }
   },
   "outputs": [],
   "source": [
    "with open(\"test1.txt\") as fh:\n",
    "    content1 = fh.read()\n",
    "    with open(\"test_new.txt\",\"w\") as fh_new:\n",
    "        fh_new.write(content1)\n",
    "        fh_new.close()"
   ]
  },
  {
   "cell_type": "markdown",
   "metadata": {},
   "source": [
    "## For Exception"
   ]
  },
  {
   "cell_type": "markdown",
   "metadata": {},
   "source": [
    "#### 8. Write a program to write something in a text file which is not existing (and opened in read only mode). Handle the exception gracefully and write the output."
   ]
  },
  {
   "cell_type": "markdown",
   "metadata": {},
   "source": [
    "## For regular expression"
   ]
  },
  {
   "cell_type": "markdown",
   "metadata": {},
   "source": [
    "#### 9.Write a Python program to search 3’letter strings in a given sentence.\n",
    "Sample text : 'The quick brown fox jumps over the lazy dog.'\n",
    "Searched words : 'fox', 'dog'"
   ]
  },
  {
   "cell_type": "code",
   "execution_count": 1,
   "metadata": {
    "ExecuteTime": {
     "end_time": "2019-05-06T05:05:38.529043Z",
     "start_time": "2019-05-06T05:05:38.523047Z"
    }
   },
   "outputs": [
    {
     "name": "stdout",
     "output_type": "stream",
     "text": [
      "['The', 'fox', 'the', 'dog']\n"
     ]
    }
   ],
   "source": [
    "import re\n",
    "sent = \"The quick brown fox jumps over the lazy dog\"\n",
    "op = re.findall(\"\\\\b\\\\w{3}\\\\b\",sent) # Where \\b is to denote the word boundry\n",
    "print(op)\n"
   ]
  },
  {
   "cell_type": "markdown",
   "metadata": {},
   "source": [
    "#### 10.Write a program which takes input from user to enter email ID and return the message if email ID is valid or not"
   ]
  },
  {
   "cell_type": "code",
   "execution_count": 14,
   "metadata": {
    "ExecuteTime": {
     "end_time": "2019-04-03T15:38:38.702256Z",
     "start_time": "2019-04-03T15:38:16.152460Z"
    }
   },
   "outputs": [
    {
     "name": "stdout",
     "output_type": "stream",
     "text": [
      "Enter email id...pk.s_3-ko.r@gmail.co.in\n",
      "Given email id pk.s_3-ko.r@gmail.co.in is valid\n"
     ]
    }
   ],
   "source": [
    "import re\n",
    "def validateEmailID(id):\n",
    "    sObj = re.search(\"[a-z0-9.-_]+@[a-z0-9.-_]+\\w{2,}\",id,re.I)\n",
    "    if sObj:\n",
    "        return(\"Given email id %s is valid\"%(id))\n",
    "    else:\n",
    "        return(\"Given email id %s is NOT valid\"%(id))\n",
    "\n",
    "id = input(\"Enter email id...\")\n",
    "print(validateEmailID(id))"
   ]
  },
  {
   "cell_type": "markdown",
   "metadata": {},
   "source": [
    "#### 11.Write a script which takes input to enter IP address and return a message if IP address is valid or not"
   ]
  },
  {
   "cell_type": "markdown",
   "metadata": {},
   "source": [
    "###### using normal condition"
   ]
  },
  {
   "cell_type": "code",
   "execution_count": 11,
   "metadata": {
    "ExecuteTime": {
     "end_time": "2019-04-03T16:01:35.453751Z",
     "start_time": "2019-04-03T16:01:26.012356Z"
    }
   },
   "outputs": [
    {
     "name": "stdout",
     "output_type": "stream",
     "text": [
      "Enter IPv4 address...45.56.56.89.333\n",
      "[True, True, True, True, False]\n",
      "Given IP address 45.56.56.89.333 is NOT valid\n"
     ]
    }
   ],
   "source": [
    "import re\n",
    "def validateEmailID(ip):\n",
    "    tmp1 = ip.split(\".\")\n",
    "    tmp2 = [True if int(var) >=0 and int(var) <=255 else False for var in tmp1]\n",
    "    print(tmp2)\n",
    "    if len(tmp1) != 4:\n",
    "        return(\"Given IP address %s is NOT valid\"%(ip))\n",
    "    elif False in tmp2:\n",
    "        return(\"Given IP address %s is NOT valid\"%(ip))\n",
    "    else:\n",
    "        return(\"Given IP address %s is valid\"%(ip))\n",
    "\n",
    "ip = input(\"Enter IPv4 address...\")\n",
    "print(validateEmailID(ip))"
   ]
  },
  {
   "cell_type": "markdown",
   "metadata": {},
   "source": [
    "###### Using regex method"
   ]
  },
  {
   "cell_type": "code",
   "execution_count": 18,
   "metadata": {
    "ExecuteTime": {
     "end_time": "2019-04-03T16:30:39.797003Z",
     "start_time": "2019-04-03T16:30:36.124118Z"
    }
   },
   "outputs": [
    {
     "name": "stdout",
     "output_type": "stream",
     "text": [
      "Enter IPv4 address...0.0.1.0\n",
      "Given IP address 0.0.1.0 is valid\n"
     ]
    }
   ],
   "source": [
    "import re\n",
    "def validateEmailID(ip):\n",
    "    flag = []\n",
    "    sObj = re.search(\"(\\d{1,3}\\.\\d{1,3}\\.\\d{1,3}\\.\\d{1,3})\",ip)\n",
    "    if sObj:\n",
    "        tmp = sObj.group(1).split(\".\")\n",
    "        for num in tmp:\n",
    "            if int(num) >=0 and int(num) <=255:\n",
    "                flag.append(True)\n",
    "            else:\n",
    "                flag.append(False)\n",
    "    if False in flag:\n",
    "        return(\"Given IP address %s is NOT valid\"%(ip))\n",
    "    else:\n",
    "        return(\"Given IP address %s is valid\"%(ip))\n",
    "        \n",
    "\n",
    "ip = input(\"Enter IPv4 address...\")\n",
    "print(validateEmailID(ip))"
   ]
  }
 ],
 "metadata": {
  "kernelspec": {
   "display_name": "Python 3",
   "language": "python",
   "name": "python3"
  },
  "language_info": {
   "codemirror_mode": {
    "name": "ipython",
    "version": 3
   },
   "file_extension": ".py",
   "mimetype": "text/x-python",
   "name": "python",
   "nbconvert_exporter": "python",
   "pygments_lexer": "ipython3",
   "version": "3.7.4"
  },
  "latex_envs": {
   "LaTeX_envs_menu_present": true,
   "autoclose": false,
   "autocomplete": true,
   "bibliofile": "biblio.bib",
   "cite_by": "apalike",
   "current_citInitial": 1,
   "eqLabelWithNumbers": true,
   "eqNumInitial": 1,
   "hotkeys": {
    "equation": "Ctrl-E",
    "itemize": "Ctrl-I"
   },
   "labels_anchors": false,
   "latex_user_defs": false,
   "report_style_numbering": false,
   "user_envs_cfg": false
  },
  "toc": {
   "base_numbering": 1,
   "nav_menu": {},
   "number_sections": true,
   "sideBar": true,
   "skip_h1_title": false,
   "title_cell": "Table of Contents",
   "title_sidebar": "Contents",
   "toc_cell": false,
   "toc_position": {},
   "toc_section_display": true,
   "toc_window_display": false
  },
  "varInspector": {
   "cols": {
    "lenName": 16,
    "lenType": 16,
    "lenVar": 40
   },
   "kernels_config": {
    "python": {
     "delete_cmd_postfix": "",
     "delete_cmd_prefix": "del ",
     "library": "var_list.py",
     "varRefreshCmd": "print(var_dic_list())"
    },
    "r": {
     "delete_cmd_postfix": ") ",
     "delete_cmd_prefix": "rm(",
     "library": "var_list.r",
     "varRefreshCmd": "cat(var_dic_list()) "
    }
   },
   "types_to_exclude": [
    "module",
    "function",
    "builtin_function_or_method",
    "instance",
    "_Feature"
   ],
   "window_display": false
  }
 },
 "nbformat": 4,
 "nbformat_minor": 2
}
