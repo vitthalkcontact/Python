{
 "cells": [
  {
   "cell_type": "markdown",
   "metadata": {},
   "source": [
    "## For Exception"
   ]
  },
  {
   "cell_type": "markdown",
   "metadata": {},
   "source": [
    "#### 1. Write a program to write something in a text file which is not existing . Handle the exception gracefully and write some content in file."
   ]
  },
  {
   "cell_type": "markdown",
   "metadata": {},
   "source": [
    "###### Do it on your own"
   ]
  },
  {
   "cell_type": "markdown",
   "metadata": {},
   "source": [
    "## Numpy, Pandas and Matplotlib"
   ]
  },
  {
   "cell_type": "markdown",
   "metadata": {},
   "source": [
    "#### 2. Write a program to generate an array of 30 numbers (1 to 30) of all possible shapes."
   ]
  },
  {
   "cell_type": "code",
   "execution_count": 54,
   "metadata": {
    "ExecuteTime": {
     "end_time": "2019-07-29T11:26:34.820737Z",
     "start_time": "2019-07-29T11:26:34.800637Z"
    },
    "scrolled": true
   },
   "outputs": [
    {
     "name": "stdout",
     "output_type": "stream",
     "text": [
      "For shape:: (3, 12)\n",
      "[[ 0  1  2  3  4  5  6  7  8  9 10 11]\n",
      " [12 13 14 15 16 17 18 19 20 21 22 23]\n",
      " [24 25 26 27 28 29 30 31 32 33 34 35]]\n",
      "####################\n",
      "For shape:: (4, 9)\n",
      "[[ 0  1  2  3  4  5  6  7  8]\n",
      " [ 9 10 11 12 13 14 15 16 17]\n",
      " [18 19 20 21 22 23 24 25 26]\n",
      " [27 28 29 30 31 32 33 34 35]]\n",
      "####################\n",
      "For shape:: (18, 2)\n",
      "[[ 0  1]\n",
      " [ 2  3]\n",
      " [ 4  5]\n",
      " [ 6  7]\n",
      " [ 8  9]\n",
      " [10 11]\n",
      " [12 13]\n",
      " [14 15]\n",
      " [16 17]\n",
      " [18 19]\n",
      " [20 21]\n",
      " [22 23]\n",
      " [24 25]\n",
      " [26 27]\n",
      " [28 29]\n",
      " [30 31]\n",
      " [32 33]\n",
      " [34 35]]\n",
      "####################\n",
      "For shape:: (2, 18)\n",
      "[[ 0  1  2  3  4  5  6  7  8  9 10 11 12 13 14 15 16 17]\n",
      " [18 19 20 21 22 23 24 25 26 27 28 29 30 31 32 33 34 35]]\n",
      "####################\n",
      "For shape:: (6, 6)\n",
      "[[ 0  1  2  3  4  5]\n",
      " [ 6  7  8  9 10 11]\n",
      " [12 13 14 15 16 17]\n",
      " [18 19 20 21 22 23]\n",
      " [24 25 26 27 28 29]\n",
      " [30 31 32 33 34 35]]\n",
      "####################\n",
      "For shape:: (1, 36)\n",
      "[[ 0  1  2  3  4  5  6  7  8  9 10 11 12 13 14 15 16 17 18 19 20 21 22 23\n",
      "  24 25 26 27 28 29 30 31 32 33 34 35]]\n",
      "####################\n",
      "For shape:: (9, 4)\n",
      "[[ 0  1  2  3]\n",
      " [ 4  5  6  7]\n",
      " [ 8  9 10 11]\n",
      " [12 13 14 15]\n",
      " [16 17 18 19]\n",
      " [20 21 22 23]\n",
      " [24 25 26 27]\n",
      " [28 29 30 31]\n",
      " [32 33 34 35]]\n",
      "####################\n",
      "For shape:: (36, 1)\n",
      "[[ 0]\n",
      " [ 1]\n",
      " [ 2]\n",
      " [ 3]\n",
      " [ 4]\n",
      " [ 5]\n",
      " [ 6]\n",
      " [ 7]\n",
      " [ 8]\n",
      " [ 9]\n",
      " [10]\n",
      " [11]\n",
      " [12]\n",
      " [13]\n",
      " [14]\n",
      " [15]\n",
      " [16]\n",
      " [17]\n",
      " [18]\n",
      " [19]\n",
      " [20]\n",
      " [21]\n",
      " [22]\n",
      " [23]\n",
      " [24]\n",
      " [25]\n",
      " [26]\n",
      " [27]\n",
      " [28]\n",
      " [29]\n",
      " [30]\n",
      " [31]\n",
      " [32]\n",
      " [33]\n",
      " [34]\n",
      " [35]]\n",
      "####################\n",
      "For shape:: (12, 3)\n",
      "[[ 0  1  2]\n",
      " [ 3  4  5]\n",
      " [ 6  7  8]\n",
      " [ 9 10 11]\n",
      " [12 13 14]\n",
      " [15 16 17]\n",
      " [18 19 20]\n",
      " [21 22 23]\n",
      " [24 25 26]\n",
      " [27 28 29]\n",
      " [30 31 32]\n",
      " [33 34 35]]\n",
      "####################\n"
     ]
    }
   ],
   "source": [
    "def findPossibleShapes(size):\n",
    "    possible_shapes = []\n",
    "    for i in range(1,size+1):\n",
    "        for j in range(size,1,-1):\n",
    "            if i*j == size:\n",
    "                #print(\"Possible shapes are::\",(i,j))\n",
    "                if i != j:\n",
    "                    possible_shapes.append((i,j))\n",
    "                    possible_shapes.append((j,i))\n",
    "                else:\n",
    "                    possible_shapes.append((i,i))\n",
    "                    \n",
    "    return set(possible_shapes)\n",
    "\n",
    "# print (findPossibleShapes(36))\n",
    "\n",
    "import numpy as np\n",
    "size = 36\n",
    "a = np.arange(size)\n",
    "for shape in findPossibleShapes(size):\n",
    "    #print(shape)\n",
    "    print(\"For shape::\",shape)\n",
    "    print(a.reshape(shape))\n",
    "    print(\"#\"*20)\n",
    "    "
   ]
  },
  {
   "cell_type": "markdown",
   "metadata": {},
   "source": [
    "#### 3. Write a program to genrate an array of random integer numbers between 10 to 50 numbers of all possible shapes."
   ]
  },
  {
   "cell_type": "code",
   "execution_count": 59,
   "metadata": {
    "ExecuteTime": {
     "end_time": "2019-07-29T15:25:16.539788Z",
     "start_time": "2019-07-29T15:25:16.526780Z"
    },
    "scrolled": true
   },
   "outputs": [
    {
     "name": "stdout",
     "output_type": "stream",
     "text": [
      "For shape:: (5, 4)\n",
      "[[46 17 16 41]\n",
      " [27 15 11 39]\n",
      " [27 35 39 20]\n",
      " [10 22 47 33]\n",
      " [37 37 44 15]]\n",
      "####################\n",
      "For shape:: (4, 5)\n",
      "[[46 17 16 41 27]\n",
      " [15 11 39 27 35]\n",
      " [39 20 10 22 47]\n",
      " [33 37 37 44 15]]\n",
      "####################\n",
      "For shape:: (20, 1)\n",
      "[[46]\n",
      " [17]\n",
      " [16]\n",
      " [41]\n",
      " [27]\n",
      " [15]\n",
      " [11]\n",
      " [39]\n",
      " [27]\n",
      " [35]\n",
      " [39]\n",
      " [20]\n",
      " [10]\n",
      " [22]\n",
      " [47]\n",
      " [33]\n",
      " [37]\n",
      " [37]\n",
      " [44]\n",
      " [15]]\n",
      "####################\n",
      "For shape:: (2, 10)\n",
      "[[46 17 16 41 27 15 11 39 27 35]\n",
      " [39 20 10 22 47 33 37 37 44 15]]\n",
      "####################\n",
      "For shape:: (1, 20)\n",
      "[[46 17 16 41 27 15 11 39 27 35 39 20 10 22 47 33 37 37 44 15]]\n",
      "####################\n",
      "For shape:: (10, 2)\n",
      "[[46 17]\n",
      " [16 41]\n",
      " [27 15]\n",
      " [11 39]\n",
      " [27 35]\n",
      " [39 20]\n",
      " [10 22]\n",
      " [47 33]\n",
      " [37 37]\n",
      " [44 15]]\n",
      "####################\n"
     ]
    }
   ],
   "source": [
    "size = 20\n",
    "a = np.random.randint(10,50,size)\n",
    "for shape in findPossibleShapes(size):\n",
    "    #print(shape)\n",
    "    print(\"For shape::\",shape)\n",
    "    print(a.reshape(shape))\n",
    "    print(\"#\"*20)\n",
    "    "
   ]
  },
  {
   "cell_type": "markdown",
   "metadata": {},
   "source": [
    "#### 4. Write a program to generate an array of 100 equally spaced numbers between 1 to 7 numbers of possible shapes.\n",
    "\n",
    "e.g : np.linspace(1,7,100) # from 1 to 7 100 numbers (equally spaced)"
   ]
  },
  {
   "cell_type": "code",
   "execution_count": 58,
   "metadata": {
    "ExecuteTime": {
     "end_time": "2019-07-29T15:25:10.847017Z",
     "start_time": "2019-07-29T15:25:10.838012Z"
    }
   },
   "outputs": [
    {
     "name": "stdout",
     "output_type": "stream",
     "text": [
      "For shape:: (2, 7)\n",
      "[[1.         1.46153846 1.92307692 2.38461538 2.84615385 3.30769231\n",
      "  3.76923077]\n",
      " [4.23076923 4.69230769 5.15384615 5.61538462 6.07692308 6.53846154\n",
      "  7.        ]]\n",
      "####################\n",
      "For shape:: (14, 1)\n",
      "[[1.        ]\n",
      " [1.46153846]\n",
      " [1.92307692]\n",
      " [2.38461538]\n",
      " [2.84615385]\n",
      " [3.30769231]\n",
      " [3.76923077]\n",
      " [4.23076923]\n",
      " [4.69230769]\n",
      " [5.15384615]\n",
      " [5.61538462]\n",
      " [6.07692308]\n",
      " [6.53846154]\n",
      " [7.        ]]\n",
      "####################\n",
      "For shape:: (1, 14)\n",
      "[[1.         1.46153846 1.92307692 2.38461538 2.84615385 3.30769231\n",
      "  3.76923077 4.23076923 4.69230769 5.15384615 5.61538462 6.07692308\n",
      "  6.53846154 7.        ]]\n",
      "####################\n",
      "For shape:: (7, 2)\n",
      "[[1.         1.46153846]\n",
      " [1.92307692 2.38461538]\n",
      " [2.84615385 3.30769231]\n",
      " [3.76923077 4.23076923]\n",
      " [4.69230769 5.15384615]\n",
      " [5.61538462 6.07692308]\n",
      " [6.53846154 7.        ]]\n",
      "####################\n"
     ]
    }
   ],
   "source": [
    "size = 14\n",
    "a = np.linspace(1,7,size)\n",
    "for shape in findPossibleShapes(size):\n",
    "    #print(shape)\n",
    "    print(\"For shape::\",shape)\n",
    "    print(a.reshape(shape))\n",
    "    print(\"#\"*20)\n",
    "    "
   ]
  },
  {
   "cell_type": "markdown",
   "metadata": {},
   "source": [
    "#### 5. Write a program to filter out all the numbers (generated from que.4) which is greater than 3.84 and less than 6.57."
   ]
  },
  {
   "cell_type": "code",
   "execution_count": 62,
   "metadata": {
    "ExecuteTime": {
     "end_time": "2019-07-29T15:26:36.142497Z",
     "start_time": "2019-07-29T15:26:36.134494Z"
    }
   },
   "outputs": [
    {
     "name": "stdout",
     "output_type": "stream",
     "text": [
      "[3.93877551 4.06122449 4.18367347 4.30612245 4.42857143 4.55102041\n",
      " 4.67346939 4.79591837 4.91836735 5.04081633 5.16326531 5.28571429\n",
      " 5.40816327 5.53061224 5.65306122 5.7755102  5.89795918 6.02040816\n",
      " 6.14285714 6.26530612 6.3877551  6.51020408]\n"
     ]
    }
   ],
   "source": [
    "size = 50\n",
    "a = np.linspace(1,7,size)\n",
    "print(a[(a>3.84) & (a<6.57)])"
   ]
  },
  {
   "cell_type": "markdown",
   "metadata": {},
   "source": [
    "#### 6. Write a program to replace first 3 numbers with 100 and middle 3'numbers with 200 and last 3 numbers with 300 in output of que.5"
   ]
  },
  {
   "cell_type": "code",
   "execution_count": 75,
   "metadata": {
    "ExecuteTime": {
     "end_time": "2019-07-29T15:33:36.302022Z",
     "start_time": "2019-07-29T15:33:36.294027Z"
    }
   },
   "outputs": [
    {
     "name": "stdout",
     "output_type": "stream",
     "text": [
      "[  0.           0.           0.           4.30612245   4.42857143\n",
      "   4.55102041   4.67346939   4.79591837   4.91836735   5.04081633\n",
      " 200.         200.         200.           5.53061224   5.65306122\n",
      "   5.7755102    5.89795918   6.02040816   6.14285714 300.\n",
      " 300.         300.        ]\n"
     ]
    }
   ],
   "source": [
    "size = 50\n",
    "a = np.linspace(1,7,size)\n",
    "b = a[(a>3.84) & (a<6.57)]\n",
    "# b[:3] = 100\n",
    "middle_value = int((b.size)/2)\n",
    "b[:3] = 0\n",
    "b[middle_value-1:middle_value+2] = 200\n",
    "b[-3:] = 300\n",
    "print(b)"
   ]
  },
  {
   "cell_type": "markdown",
   "metadata": {},
   "source": [
    "#### 7. Write a program to create a 5x5 matrix of random int numbers between 10 to 100 and\n",
    "- replace upper triangle with zeros and print as a new matrix\n",
    "- replace lower triangle with zeros and print as a new matrix"
   ]
  },
  {
   "cell_type": "markdown",
   "metadata": {},
   "source": [
    "###### Already done in class"
   ]
  },
  {
   "cell_type": "markdown",
   "metadata": {},
   "source": [
    "### Titanic Case Study\n",
    "- Will be covered in case study session"
   ]
  },
  {
   "cell_type": "markdown",
   "metadata": {
    "ExecuteTime": {
     "end_time": "2018-07-15T12:53:38.114102Z",
     "start_time": "2018-07-15T12:53:38.104102Z"
    }
   },
   "source": [
    "\n",
    "#### 8. Continue exercise on Titanic dataset and do followings:\n",
    "- Generate various plots for each features (columns) and tell your conclusion\n",
    "- Perform various grouping of for any 2 colmuns and provide your conclusions by plotting them\n",
    "- Perform various grouping of for any 3 colmuns and provide your conclusions by plotting them\n",
    "- Perform various grouping of for any 4 colmuns and provide your conclusions by plotting them\n",
    "\n",
    "Notes:\n",
    "- provide proper labeling for the data points\n",
    "- provide proper labeling for x and y axis\n",
    "- provide proper title for each graph\n",
    "- Do not create any sublpot more than 4x3 area (12 grapphs and one subplot)\n",
    "\n",
    "\n"
   ]
  }
 ],
 "metadata": {
  "kernelspec": {
   "display_name": "Python 3",
   "language": "python",
   "name": "python3"
  },
  "language_info": {
   "codemirror_mode": {
    "name": "ipython",
    "version": 3
   },
   "file_extension": ".py",
   "mimetype": "text/x-python",
   "name": "python",
   "nbconvert_exporter": "python",
   "pygments_lexer": "ipython3",
   "version": "3.7.4"
  },
  "latex_envs": {
   "LaTeX_envs_menu_present": true,
   "autoclose": false,
   "autocomplete": true,
   "bibliofile": "biblio.bib",
   "cite_by": "apalike",
   "current_citInitial": 1,
   "eqLabelWithNumbers": true,
   "eqNumInitial": 1,
   "hotkeys": {
    "equation": "Ctrl-E",
    "itemize": "Ctrl-I"
   },
   "labels_anchors": false,
   "latex_user_defs": false,
   "report_style_numbering": false,
   "user_envs_cfg": false
  },
  "toc": {
   "base_numbering": 1,
   "nav_menu": {},
   "number_sections": true,
   "sideBar": true,
   "skip_h1_title": false,
   "title_cell": "Table of Contents",
   "title_sidebar": "Contents",
   "toc_cell": false,
   "toc_position": {},
   "toc_section_display": true,
   "toc_window_display": false
  },
  "varInspector": {
   "cols": {
    "lenName": 16,
    "lenType": 16,
    "lenVar": 40
   },
   "kernels_config": {
    "python": {
     "delete_cmd_postfix": "",
     "delete_cmd_prefix": "del ",
     "library": "var_list.py",
     "varRefreshCmd": "print(var_dic_list())"
    },
    "r": {
     "delete_cmd_postfix": ") ",
     "delete_cmd_prefix": "rm(",
     "library": "var_list.r",
     "varRefreshCmd": "cat(var_dic_list()) "
    }
   },
   "types_to_exclude": [
    "module",
    "function",
    "builtin_function_or_method",
    "instance",
    "_Feature"
   ],
   "window_display": false
  }
 },
 "nbformat": 4,
 "nbformat_minor": 2
}
