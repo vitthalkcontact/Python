{
 "cells": [
  {
   "cell_type": "markdown",
   "metadata": {},
   "source": [
    "# File I/O\n",
    "- Definition\n",
    "- Opening file using various modes\n",
    "- Read/Write operations on file\n",
    "- Tell and Seek operations\n",
    "- Some OS related operations\n",
    "- Exercise"
   ]
  },
  {
   "cell_type": "code",
   "execution_count": 1,
   "metadata": {
    "ExecuteTime": {
     "end_time": "2019-10-09T02:56:44.668405Z",
     "start_time": "2019-10-09T02:56:44.661401Z"
    }
   },
   "outputs": [],
   "source": [
    "# Syntax:\n",
    "# open(<file_name>,<mode>,<encoding>)\n",
    "# file_name: Name of file with or without(file must be in root directory) full path\n",
    "# mode: r,w,a,r+,w+,a+,rb,wb,ab,rb+,wb+,ab+\n",
    "#     r: read only (default mode)\n",
    "#     w: write only\n",
    "#     a: append only\n",
    "#     r+ : read+write (file must be present)\n",
    "#     w+: read+write (file will be created always)\n",
    "#     a+: read and append (file will be created if not present)\n",
    "#     rb,wb,ab: read/write in byte format\n",
    "#     rb+,wb+,ab+: read+write,read+append in byte format \n",
    "    \n",
    "# enconding: utf-8/cp1252"
   ]
  },
  {
   "cell_type": "code",
   "execution_count": 2,
   "metadata": {
    "ExecuteTime": {
     "end_time": "2019-10-09T02:58:59.783573Z",
     "start_time": "2019-10-09T02:58:59.769112Z"
    }
   },
   "outputs": [
    {
     "name": "stdout",
     "output_type": "stream",
     "text": [
      "<_io.TextIOWrapper name='test1.txt' mode='r' encoding='cp1252'>\n"
     ]
    }
   ],
   "source": [
    "fh = open(\"test1.txt\")\n",
    "# fh = open(\"test1.txt\",\"r\")\n",
    "# fh = open(r\"C:\\test1.txt\") # r = raw format\n",
    "# fh = open(\"C:\\\\test1.txt\")\n",
    "# fh = open(\"C:/test1.txt\")\n",
    "print(fh)"
   ]
  },
  {
   "cell_type": "code",
   "execution_count": 3,
   "metadata": {
    "ExecuteTime": {
     "end_time": "2019-10-09T03:05:43.423538Z",
     "start_time": "2019-10-09T03:05:43.412545Z"
    }
   },
   "outputs": [
    {
     "name": "stdout",
     "output_type": "stream",
     "text": [
      "['This is Line1\\n', 'This is Line2\\n', 'This is Line3\\n', 'This is Line4\\n', 'This is Line5']\n"
     ]
    }
   ],
   "source": [
    "fh = open(\"test1.txt\")\n",
    "# print(fh.read()) # will read full file in one go\n",
    "# print(fh.read(6)) # 6 is just a number to read those many bytes/characters\n",
    "# print(fh.readline()) # will read one line at a time\n",
    "print(fh.readlines()) # will read all lines in one go and return a list of all lines"
   ]
  },
  {
   "cell_type": "code",
   "execution_count": 4,
   "metadata": {
    "ExecuteTime": {
     "end_time": "2019-10-09T03:08:21.010135Z",
     "start_time": "2019-10-09T03:08:21.002149Z"
    }
   },
   "outputs": [],
   "source": [
    "fh = open(\"test1.txt\")"
   ]
  },
  {
   "cell_type": "code",
   "execution_count": 5,
   "metadata": {
    "ExecuteTime": {
     "end_time": "2019-10-09T03:08:21.642026Z",
     "start_time": "2019-10-09T03:08:21.634939Z"
    }
   },
   "outputs": [
    {
     "name": "stdout",
     "output_type": "stream",
     "text": [
      "This is Line1\n",
      "This is Line2\n",
      "This is Line3\n",
      "This is Line4\n",
      "This is Line5\n"
     ]
    }
   ],
   "source": [
    "print(fh.read())"
   ]
  },
  {
   "cell_type": "markdown",
   "metadata": {},
   "source": [
    "# use of tell() and seek()"
   ]
  },
  {
   "cell_type": "code",
   "execution_count": 6,
   "metadata": {
    "ExecuteTime": {
     "end_time": "2019-10-09T03:10:11.772417Z",
     "start_time": "2019-10-09T03:10:11.762440Z"
    }
   },
   "outputs": [
    {
     "name": "stdout",
     "output_type": "stream",
     "text": [
      "This i\n",
      "6\n",
      "s \n",
      "8\n"
     ]
    }
   ],
   "source": [
    "fh = open(\"test1.txt\")\n",
    "print(fh.read(6))\n",
    "print(fh.tell())\n",
    "print(fh.read(2))\n",
    "print(fh.tell())"
   ]
  },
  {
   "cell_type": "code",
   "execution_count": 7,
   "metadata": {
    "ExecuteTime": {
     "end_time": "2019-10-09T03:11:25.259999Z",
     "start_time": "2019-10-09T03:11:25.251002Z"
    }
   },
   "outputs": [
    {
     "name": "stdout",
     "output_type": "stream",
     "text": [
      "This is Line1\n",
      "This is Line2\n",
      "This is Line3\n",
      "This is Line4\n",
      "This is Line5\n",
      "69\n"
     ]
    }
   ],
   "source": [
    "fh = open(\"test1.txt\")\n",
    "print(fh.read())\n",
    "print(fh.tell())\n",
    "# print(fh.read(2))\n",
    "# print(fh.tell())"
   ]
  },
  {
   "cell_type": "markdown",
   "metadata": {},
   "source": [
    "# seek()"
   ]
  },
  {
   "cell_type": "code",
   "execution_count": 8,
   "metadata": {},
   "outputs": [],
   "source": [
    "# syntax:\n",
    "# seek(<offset>,<pointer_position>)\n",
    "# offset: how many characters to be skipped\n",
    "# pointer_position: \n",
    "#     0: Go to begining of the file (default value)\n",
    "#     1: Current position\n",
    "#     2: From the end of file"
   ]
  },
  {
   "cell_type": "code",
   "execution_count": 9,
   "metadata": {
    "ExecuteTime": {
     "end_time": "2019-10-09T03:16:10.273498Z",
     "start_time": "2019-10-09T03:16:10.264211Z"
    }
   },
   "outputs": [
    {
     "name": "stdout",
     "output_type": "stream",
     "text": [
      "This is\n",
      "Thi\n"
     ]
    }
   ],
   "source": [
    "fh = open(\"test1.txt\")\n",
    "print(fh.read(7))\n",
    "fh.seek(0)\n",
    "print(fh.read(3))"
   ]
  },
  {
   "cell_type": "code",
   "execution_count": 10,
   "metadata": {
    "ExecuteTime": {
     "end_time": "2019-10-09T03:16:31.171296Z",
     "start_time": "2019-10-09T03:16:31.160225Z"
    }
   },
   "outputs": [
    {
     "name": "stdout",
     "output_type": "stream",
     "text": [
      "This is\n",
      "s i\n"
     ]
    }
   ],
   "source": [
    "fh = open(\"test1.txt\")\n",
    "print(fh.read(7))\n",
    "fh.seek(3)\n",
    "print(fh.read(3))"
   ]
  },
  {
   "cell_type": "markdown",
   "metadata": {},
   "source": [
    "### use of 1 and 2 in seek()"
   ]
  },
  {
   "cell_type": "code",
   "execution_count": 11,
   "metadata": {
    "ExecuteTime": {
     "end_time": "2019-10-09T03:18:10.910297Z",
     "start_time": "2019-10-09T03:18:10.892184Z"
    }
   },
   "outputs": [
    {
     "name": "stdout",
     "output_type": "stream",
     "text": [
      "This is \n",
      "Lin\n"
     ]
    }
   ],
   "source": [
    "fh = open(\"test1.txt\")\n",
    "print(fh.read(8))\n",
    "fh.seek(0,1)\n",
    "print(fh.read(3))"
   ]
  },
  {
   "cell_type": "code",
   "execution_count": 12,
   "metadata": {
    "ExecuteTime": {
     "end_time": "2019-10-09T03:19:34.037053Z",
     "start_time": "2019-10-09T03:19:34.025378Z"
    }
   },
   "outputs": [
    {
     "name": "stdout",
     "output_type": "stream",
     "text": [
      "b'This is '\n",
      "b'ne1'\n"
     ]
    }
   ],
   "source": [
    "fh = open(\"test1.txt\",\"rb\")\n",
    "print(fh.read(8))\n",
    "fh.seek(2,1)\n",
    "print(fh.read(3))"
   ]
  },
  {
   "cell_type": "code",
   "execution_count": 28,
   "metadata": {
    "ExecuteTime": {
     "end_time": "2019-10-09T03:22:27.855214Z",
     "start_time": "2019-10-09T03:22:27.845250Z"
    }
   },
   "outputs": [
    {
     "name": "stdout",
     "output_type": "stream",
     "text": [
      "b'This is '\n",
      "b's L'\n"
     ]
    }
   ],
   "source": [
    "fh = open(\"test1.txt\",\"rb\")\n",
    "print(fh.read(8))\n",
    "fh.seek(-2,1)\n",
    "print(fh.read(3))"
   ]
  },
  {
   "cell_type": "markdown",
   "metadata": {},
   "source": [
    "### use of 2 in seek()"
   ]
  },
  {
   "cell_type": "code",
   "execution_count": 15,
   "metadata": {
    "ExecuteTime": {
     "end_time": "2019-10-09T03:23:50.552588Z",
     "start_time": "2019-10-09T03:23:50.537789Z"
    }
   },
   "outputs": [
    {
     "name": "stdout",
     "output_type": "stream",
     "text": [
      "b'This is '\n",
      "b' Li'\n"
     ]
    }
   ],
   "source": [
    "fh = open(\"test1.txt\",\"rb\")\n",
    "print(fh.read(8))\n",
    "fh.seek(-20,2)\n",
    "print(fh.read(3))"
   ]
  },
  {
   "cell_type": "markdown",
   "metadata": {},
   "source": [
    "# Write operation on file"
   ]
  },
  {
   "cell_type": "code",
   "execution_count": 16,
   "metadata": {
    "ExecuteTime": {
     "end_time": "2019-10-09T03:28:29.171212Z",
     "start_time": "2019-10-09T03:28:29.154552Z"
    }
   },
   "outputs": [],
   "source": [
    "fh = open(\"test2.txt\",\"w\")\n",
    "fh.write(\"This is Line1\\n\")\n",
    "fh.write(\"This is Line2\\n\")\n",
    "fh.close() # this is must while opening file in write mode"
   ]
  },
  {
   "cell_type": "markdown",
   "metadata": {},
   "source": [
    "# Use of with statement"
   ]
  },
  {
   "cell_type": "code",
   "execution_count": 17,
   "metadata": {},
   "outputs": [],
   "source": [
    "# syntax:\n",
    "# with open(<file_name>,<mode>) as <fh_object>:\n",
    "#     <preform any file operation here>\n"
   ]
  },
  {
   "cell_type": "code",
   "execution_count": 18,
   "metadata": {
    "ExecuteTime": {
     "end_time": "2019-10-09T03:31:27.032764Z",
     "start_time": "2019-10-09T03:31:27.012294Z"
    }
   },
   "outputs": [
    {
     "name": "stdout",
     "output_type": "stream",
     "text": [
      "False\n",
      "True\n"
     ]
    }
   ],
   "source": [
    "with open(\"test3.text\",\"w\") as fh:\n",
    "    fh.write(\"This is with statement1\\n\")\n",
    "    fh.write(\"This is with statement2\\n\")\n",
    "    print(fh.closed)\n",
    "print(fh.closed)"
   ]
  },
  {
   "cell_type": "markdown",
   "metadata": {},
   "source": [
    "# Some other file attributes"
   ]
  },
  {
   "cell_type": "code",
   "execution_count": 19,
   "metadata": {
    "ExecuteTime": {
     "end_time": "2019-10-09T03:33:01.130123Z",
     "start_time": "2019-10-09T03:33:01.118751Z"
    }
   },
   "outputs": [
    {
     "name": "stdout",
     "output_type": "stream",
     "text": [
      "test1.txt\n",
      "r\n",
      "False\n",
      "cp1252\n"
     ]
    }
   ],
   "source": [
    "fh = open(\"test1.txt\",\"r\")\n",
    "print(fh.name)\n",
    "print(fh.mode)\n",
    "print(fh.closed)\n",
    "print(fh.encoding)"
   ]
  },
  {
   "cell_type": "markdown",
   "metadata": {},
   "source": [
    "# Append in a file"
   ]
  },
  {
   "cell_type": "code",
   "execution_count": 20,
   "metadata": {
    "ExecuteTime": {
     "end_time": "2019-10-09T03:36:03.244947Z",
     "start_time": "2019-10-09T03:36:03.231768Z"
    }
   },
   "outputs": [],
   "source": [
    "fh = open(\"test3.text\",\"a\")\n",
    "fh.write(\"This is using append function1\\n\")\n",
    "fh.write(\"This is using append function2\\n\")\n",
    "fh.close()"
   ]
  },
  {
   "cell_type": "markdown",
   "metadata": {},
   "source": [
    "# Use of OS related functions"
   ]
  },
  {
   "cell_type": "code",
   "execution_count": 21,
   "metadata": {
    "ExecuteTime": {
     "end_time": "2019-10-09T03:38:08.266957Z",
     "start_time": "2019-10-09T03:38:08.261942Z"
    }
   },
   "outputs": [],
   "source": [
    "import os"
   ]
  },
  {
   "cell_type": "code",
   "execution_count": 22,
   "metadata": {
    "ExecuteTime": {
     "end_time": "2019-10-09T03:38:25.462116Z",
     "start_time": "2019-10-09T03:38:25.453004Z"
    }
   },
   "outputs": [
    {
     "data": {
      "text/plain": [
       "'C:\\\\Users\\\\VK\\\\00000-PYTHON\\\\---PANKAJ-PYTHON-LB_EARLIER_2019\\\\-Class09_09_Oct_2019 -FILE-IO_REGEX-DONE'"
      ]
     },
     "execution_count": 22,
     "metadata": {},
     "output_type": "execute_result"
    }
   ],
   "source": [
    "os.getcwd()"
   ]
  },
  {
   "cell_type": "code",
   "execution_count": 23,
   "metadata": {
    "ExecuteTime": {
     "end_time": "2019-10-09T03:38:51.687781Z",
     "start_time": "2019-10-09T03:38:51.682743Z"
    }
   },
   "outputs": [],
   "source": [
    "os.mkdir(\"Test1_dir\")"
   ]
  },
  {
   "cell_type": "code",
   "execution_count": 44,
   "metadata": {
    "ExecuteTime": {
     "end_time": "2019-10-09T03:39:36.257216Z",
     "start_time": "2019-10-09T03:39:36.250972Z"
    }
   },
   "outputs": [],
   "source": [
    "os.chdir(\"C:\\\\Users\\\\psoni\\\\Downloads\\\\09_Oct\\\\Test1_dir\\\\\")"
   ]
  },
  {
   "cell_type": "code",
   "execution_count": 45,
   "metadata": {
    "ExecuteTime": {
     "end_time": "2019-10-09T03:39:41.755074Z",
     "start_time": "2019-10-09T03:39:41.747014Z"
    }
   },
   "outputs": [
    {
     "data": {
      "text/plain": [
       "'C:\\\\Users\\\\psoni\\\\Downloads\\\\09_Oct\\\\Test1_dir'"
      ]
     },
     "execution_count": 45,
     "metadata": {},
     "output_type": "execute_result"
    }
   ],
   "source": [
    "os.getcwd()"
   ]
  },
  {
   "cell_type": "code",
   "execution_count": 46,
   "metadata": {
    "ExecuteTime": {
     "end_time": "2019-10-09T03:39:56.433470Z",
     "start_time": "2019-10-09T03:39:56.427413Z"
    }
   },
   "outputs": [],
   "source": [
    "os.chdir(\"C:\\\\Users\\\\psoni\\\\Downloads\\\\09_Oct\")"
   ]
  },
  {
   "cell_type": "code",
   "execution_count": 24,
   "metadata": {
    "ExecuteTime": {
     "end_time": "2019-10-09T03:40:00.130877Z",
     "start_time": "2019-10-09T03:40:00.123875Z"
    }
   },
   "outputs": [
    {
     "data": {
      "text/plain": [
       "'C:\\\\Users\\\\VK\\\\00000-PYTHON\\\\---PANKAJ-PYTHON-LB_EARLIER_2019\\\\-Class09_09_Oct_2019 -FILE-IO_REGEX-DONE'"
      ]
     },
     "execution_count": 24,
     "metadata": {},
     "output_type": "execute_result"
    }
   ],
   "source": [
    "os.getcwd()"
   ]
  },
  {
   "cell_type": "code",
   "execution_count": 48,
   "metadata": {
    "ExecuteTime": {
     "end_time": "2019-10-09T03:40:29.672703Z",
     "start_time": "2019-10-09T03:40:29.661628Z"
    }
   },
   "outputs": [],
   "source": [
    "os.remove(\"test3.text\")"
   ]
  },
  {
   "cell_type": "code",
   "execution_count": 26,
   "metadata": {
    "ExecuteTime": {
     "end_time": "2019-10-09T03:43:30.777520Z",
     "start_time": "2019-10-09T03:43:29.947985Z"
    }
   },
   "outputs": [
    {
     "name": "stdout",
     "output_type": "stream",
     "text": [
      "\n"
     ]
    }
   ],
   "source": [
    "print(os.popen(\"ls -al\").read())"
   ]
  },
  {
   "cell_type": "markdown",
   "metadata": {},
   "source": [
    "# How to iterate over lines in a file"
   ]
  },
  {
   "cell_type": "code",
   "execution_count": 27,
   "metadata": {
    "ExecuteTime": {
     "end_time": "2019-10-09T03:45:34.221656Z",
     "start_time": "2019-10-09T03:45:34.215717Z"
    }
   },
   "outputs": [],
   "source": [
    "fh = open(\"test1.txt\")"
   ]
  },
  {
   "cell_type": "code",
   "execution_count": 28,
   "metadata": {
    "ExecuteTime": {
     "end_time": "2019-10-09T03:45:34.883979Z",
     "start_time": "2019-10-09T03:45:34.875979Z"
    }
   },
   "outputs": [
    {
     "name": "stdout",
     "output_type": "stream",
     "text": [
      "This is Line1\n",
      "\n",
      "This is Line2\n",
      "\n",
      "This is Line3\n",
      "\n",
      "This is Line4\n",
      "\n",
      "This is Line5\n"
     ]
    }
   ],
   "source": [
    "for line in fh:\n",
    "    print(line)"
   ]
  },
  {
   "cell_type": "code",
   "execution_count": null,
   "metadata": {},
   "outputs": [],
   "source": []
  }
 ],
 "metadata": {
  "kernelspec": {
   "display_name": "Python 3",
   "language": "python",
   "name": "python3"
  },
  "language_info": {
   "codemirror_mode": {
    "name": "ipython",
    "version": 3
   },
   "file_extension": ".py",
   "mimetype": "text/x-python",
   "name": "python",
   "nbconvert_exporter": "python",
   "pygments_lexer": "ipython3",
   "version": "3.7.4"
  },
  "latex_envs": {
   "LaTeX_envs_menu_present": true,
   "autoclose": false,
   "autocomplete": true,
   "bibliofile": "biblio.bib",
   "cite_by": "apalike",
   "current_citInitial": 1,
   "eqLabelWithNumbers": true,
   "eqNumInitial": 1,
   "hotkeys": {
    "equation": "Ctrl-E",
    "itemize": "Ctrl-I"
   },
   "labels_anchors": false,
   "latex_user_defs": false,
   "report_style_numbering": false,
   "user_envs_cfg": false
  },
  "toc": {
   "base_numbering": 1,
   "nav_menu": {},
   "number_sections": true,
   "sideBar": true,
   "skip_h1_title": false,
   "title_cell": "Table of Contents",
   "title_sidebar": "Contents",
   "toc_cell": false,
   "toc_position": {},
   "toc_section_display": true,
   "toc_window_display": false
  },
  "varInspector": {
   "cols": {
    "lenName": 16,
    "lenType": 16,
    "lenVar": 40
   },
   "kernels_config": {
    "python": {
     "delete_cmd_postfix": "",
     "delete_cmd_prefix": "del ",
     "library": "var_list.py",
     "varRefreshCmd": "print(var_dic_list())"
    },
    "r": {
     "delete_cmd_postfix": ") ",
     "delete_cmd_prefix": "rm(",
     "library": "var_list.r",
     "varRefreshCmd": "cat(var_dic_list()) "
    }
   },
   "types_to_exclude": [
    "module",
    "function",
    "builtin_function_or_method",
    "instance",
    "_Feature"
   ],
   "window_display": false
  }
 },
 "nbformat": 4,
 "nbformat_minor": 4
}
