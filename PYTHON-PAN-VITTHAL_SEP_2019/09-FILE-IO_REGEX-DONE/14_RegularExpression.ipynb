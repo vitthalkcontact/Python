{
 "cells": [
  {
   "cell_type": "markdown",
   "metadata": {},
   "source": [
    "# Regular Expressions\n",
    "- Definition\n",
    "- Match Vs Search\n",
    "- Substitute substrings\n",
    "- Find all\n",
    "- Meta Vs Literal characters\n",
    "- Various identifiers\n",
    "- Back referencing example\n",
    "- Exercise"
   ]
  },
  {
   "cell_type": "code",
   "execution_count": 1,
   "metadata": {
    "ExecuteTime": {
     "end_time": "2019-10-09T03:49:52.991735Z",
     "start_time": "2019-10-09T03:49:52.985795Z"
    }
   },
   "outputs": [],
   "source": [
    "import re"
   ]
  },
  {
   "cell_type": "code",
   "execution_count": 2,
   "metadata": {
    "ExecuteTime": {
     "end_time": "2019-10-09T04:03:15.977321Z",
     "start_time": "2019-10-09T04:03:15.972212Z"
    }
   },
   "outputs": [],
   "source": [
    "a = \"This is Learnbay class9\""
   ]
  },
  {
   "cell_type": "code",
   "execution_count": 3,
   "metadata": {
    "ExecuteTime": {
     "end_time": "2019-10-09T04:03:59.668751Z",
     "start_time": "2019-10-09T04:03:59.661448Z"
    }
   },
   "outputs": [
    {
     "name": "stdout",
     "output_type": "stream",
     "text": [
      "None\n"
     ]
    }
   ],
   "source": [
    "mObj = re.match(\"Learnbay\",a)\n",
    "print(mObj)"
   ]
  },
  {
   "cell_type": "code",
   "execution_count": 4,
   "metadata": {
    "ExecuteTime": {
     "end_time": "2019-10-09T04:04:32.700571Z",
     "start_time": "2019-10-09T04:04:32.693571Z"
    }
   },
   "outputs": [
    {
     "name": "stdout",
     "output_type": "stream",
     "text": [
      "<re.Match object; span=(0, 4), match='This'>\n"
     ]
    }
   ],
   "source": [
    "mObj = re.match(\"This\",a)\n",
    "print(mObj)"
   ]
  },
  {
   "cell_type": "code",
   "execution_count": 5,
   "metadata": {
    "ExecuteTime": {
     "end_time": "2019-10-09T04:04:32.700571Z",
     "start_time": "2019-10-09T04:04:32.693571Z"
    }
   },
   "outputs": [
    {
     "name": "stdout",
     "output_type": "stream",
     "text": [
      "<re.Match object; span=(0, 4), match='This'>\n"
     ]
    }
   ],
   "source": [
    "mObj = re.match(\"This\",a)\n",
    "print(mObj)"
   ]
  },
  {
   "cell_type": "code",
   "execution_count": 6,
   "metadata": {
    "ExecuteTime": {
     "end_time": "2019-10-09T04:07:09.484375Z",
     "start_time": "2019-10-09T04:07:09.475377Z"
    }
   },
   "outputs": [
    {
     "name": "stdout",
     "output_type": "stream",
     "text": [
      "This is\n",
      "This\n",
      "is\n",
      "('This', 'is')\n"
     ]
    }
   ],
   "source": [
    "mObj = re.match(\"(This) (is)\",a)\n",
    "if mObj:\n",
    "    print(mObj.group())\n",
    "    print(mObj.group(1))\n",
    "    print(mObj.group(2)) \n",
    "    print(mObj.groups())"
   ]
  },
  {
   "cell_type": "markdown",
   "metadata": {},
   "source": [
    "# Using Search"
   ]
  },
  {
   "cell_type": "code",
   "execution_count": 7,
   "metadata": {
    "ExecuteTime": {
     "end_time": "2019-10-09T04:03:15.977321Z",
     "start_time": "2019-10-09T04:03:15.972212Z"
    }
   },
   "outputs": [],
   "source": [
    "a = \"This is Learnbay class9\""
   ]
  },
  {
   "cell_type": "code",
   "execution_count": 8,
   "metadata": {
    "ExecuteTime": {
     "end_time": "2019-10-09T04:09:29.896517Z",
     "start_time": "2019-10-09T04:09:29.889481Z"
    }
   },
   "outputs": [
    {
     "name": "stdout",
     "output_type": "stream",
     "text": [
      "Learnbay\n"
     ]
    }
   ],
   "source": [
    "sObj = re.search(\"Learnbay\",a)\n",
    "if sObj:\n",
    "    print(sObj.group())"
   ]
  },
  {
   "cell_type": "markdown",
   "metadata": {},
   "source": [
    "#### use of flag "
   ]
  },
  {
   "cell_type": "code",
   "execution_count": 9,
   "metadata": {
    "ExecuteTime": {
     "end_time": "2019-10-09T04:13:45.085277Z",
     "start_time": "2019-10-09T04:13:45.081290Z"
    }
   },
   "outputs": [],
   "source": [
    "a = \"This is LeaRNBay class9\""
   ]
  },
  {
   "cell_type": "code",
   "execution_count": 10,
   "metadata": {
    "ExecuteTime": {
     "end_time": "2019-10-09T04:13:45.617954Z",
     "start_time": "2019-10-09T04:13:45.609551Z"
    }
   },
   "outputs": [
    {
     "name": "stdout",
     "output_type": "stream",
     "text": [
      "LeaRNBay\n"
     ]
    }
   ],
   "source": [
    "sObj = re.search(\"Learnbay\",a,re.I)\n",
    "if sObj:\n",
    "    print(sObj.group())"
   ]
  },
  {
   "cell_type": "code",
   "execution_count": 11,
   "metadata": {
    "ExecuteTime": {
     "end_time": "2019-10-09T04:13:46.978966Z",
     "start_time": "2019-10-09T04:13:46.972964Z"
    }
   },
   "outputs": [],
   "source": [
    "a = \"This is LexyNBay class9\""
   ]
  },
  {
   "cell_type": "code",
   "execution_count": 12,
   "metadata": {
    "ExecuteTime": {
     "end_time": "2019-10-09T04:13:47.844327Z",
     "start_time": "2019-10-09T04:13:47.836838Z"
    }
   },
   "outputs": [
    {
     "name": "stdout",
     "output_type": "stream",
     "text": [
      "LexyNBay\n"
     ]
    }
   ],
   "source": [
    "sObj = re.search(\"Le..nbay\",a,re.I)\n",
    "if sObj:\n",
    "    print(sObj.group())"
   ]
  },
  {
   "cell_type": "code",
   "execution_count": 13,
   "metadata": {
    "ExecuteTime": {
     "end_time": "2019-10-09T04:15:56.215258Z",
     "start_time": "2019-10-09T04:15:56.210729Z"
    }
   },
   "outputs": [],
   "source": [
    "a = \"This is Lea\\nNBay class9\""
   ]
  },
  {
   "cell_type": "code",
   "execution_count": 14,
   "metadata": {
    "ExecuteTime": {
     "end_time": "2019-10-09T04:15:58.469650Z",
     "start_time": "2019-10-09T04:15:58.463656Z"
    }
   },
   "outputs": [
    {
     "name": "stdout",
     "output_type": "stream",
     "text": [
      "Lea\n",
      "NBay\n"
     ]
    }
   ],
   "source": [
    "sObj = re.search(\"Lea.nbay\",a,re.I|re.S)\n",
    "if sObj:\n",
    "    print(sObj.group())"
   ]
  },
  {
   "cell_type": "markdown",
   "metadata": {},
   "source": [
    "# Use of findall"
   ]
  },
  {
   "cell_type": "code",
   "execution_count": 15,
   "metadata": {
    "ExecuteTime": {
     "end_time": "2019-10-09T04:23:30.621423Z",
     "start_time": "2019-10-09T04:23:30.616458Z"
    }
   },
   "outputs": [],
   "source": [
    "a = \"This is Learnbay LeARNbay LearnBAY LEArnbay class9\""
   ]
  },
  {
   "cell_type": "code",
   "execution_count": 16,
   "metadata": {
    "ExecuteTime": {
     "end_time": "2019-10-09T04:23:30.654347Z",
     "start_time": "2019-10-09T04:23:30.641504Z"
    }
   },
   "outputs": [
    {
     "data": {
      "text/plain": [
       "['Learnbay', 'LeARNbay', 'LearnBAY', 'LEArnbay']"
      ]
     },
     "execution_count": 16,
     "metadata": {},
     "output_type": "execute_result"
    }
   ],
   "source": [
    "re.findall(\"learnbay\",a,re.I)"
   ]
  },
  {
   "cell_type": "code",
   "execution_count": 17,
   "metadata": {
    "ExecuteTime": {
     "end_time": "2019-10-09T04:23:30.681168Z",
     "start_time": "2019-10-09T04:23:30.666243Z"
    }
   },
   "outputs": [
    {
     "data": {
      "text/plain": [
       "4"
      ]
     },
     "execution_count": 17,
     "metadata": {},
     "output_type": "execute_result"
    }
   ],
   "source": [
    "len(re.findall(\"learnbay\",a,re.I))"
   ]
  },
  {
   "cell_type": "markdown",
   "metadata": {},
   "source": [
    "# Use of substitute"
   ]
  },
  {
   "cell_type": "code",
   "execution_count": 18,
   "metadata": {
    "ExecuteTime": {
     "end_time": "2019-10-09T04:23:30.731798Z",
     "start_time": "2019-10-09T04:23:30.728145Z"
    }
   },
   "outputs": [],
   "source": [
    "a = \"This is Learnbay LeARNbay LearnBAY LEArnbay class9\""
   ]
  },
  {
   "cell_type": "code",
   "execution_count": 19,
   "metadata": {
    "ExecuteTime": {
     "end_time": "2019-10-09T04:23:30.760794Z",
     "start_time": "2019-10-09T04:23:30.749992Z"
    }
   },
   "outputs": [
    {
     "data": {
      "text/plain": [
       "'This is LB LB LB LB class9'"
      ]
     },
     "execution_count": 19,
     "metadata": {},
     "output_type": "execute_result"
    }
   ],
   "source": [
    "re.sub(\"learnbay\",\"LB\",a,flags=re.I)"
   ]
  },
  {
   "cell_type": "code",
   "execution_count": 20,
   "metadata": {
    "ExecuteTime": {
     "end_time": "2019-10-09T04:23:30.792548Z",
     "start_time": "2019-10-09T04:23:30.772651Z"
    }
   },
   "outputs": [
    {
     "data": {
      "text/plain": [
       "'This is LB LB LearnBAY LEArnbay class9'"
      ]
     },
     "execution_count": 20,
     "metadata": {},
     "output_type": "execute_result"
    }
   ],
   "source": [
    "re.sub(\"learnbay\",\"LB\",a,count=2,flags=re.I)"
   ]
  },
  {
   "cell_type": "markdown",
   "metadata": {},
   "source": [
    "# Use of all pattern descriptors"
   ]
  },
  {
   "cell_type": "code",
   "execution_count": 21,
   "metadata": {
    "ExecuteTime": {
     "end_time": "2019-10-09T04:24:00.092438Z",
     "start_time": "2019-10-09T04:24:00.087486Z"
    }
   },
   "outputs": [],
   "source": [
    "a = \"asdfasdfs37456347345#@$%^#&$@%$\""
   ]
  },
  {
   "cell_type": "code",
   "execution_count": 22,
   "metadata": {
    "ExecuteTime": {
     "end_time": "2019-10-09T04:24:58.428246Z",
     "start_time": "2019-10-09T04:24:58.421243Z"
    }
   },
   "outputs": [
    {
     "name": "stdout",
     "output_type": "stream",
     "text": [
      "asdfasdfs37456347345\n"
     ]
    }
   ],
   "source": [
    "sObj = re.search(\"\\w+\",a)\n",
    "if sObj:\n",
    "    print(sObj.group())"
   ]
  },
  {
   "cell_type": "code",
   "execution_count": 23,
   "metadata": {
    "ExecuteTime": {
     "end_time": "2019-10-09T04:26:18.179451Z",
     "start_time": "2019-10-09T04:26:18.173403Z"
    }
   },
   "outputs": [
    {
     "name": "stdout",
     "output_type": "stream",
     "text": [
      "#@$%^#&$@%$\n"
     ]
    }
   ],
   "source": [
    "sObj = re.search(\"\\W+\",a)\n",
    "if sObj:\n",
    "    print(sObj.group())"
   ]
  },
  {
   "cell_type": "code",
   "execution_count": 24,
   "metadata": {
    "ExecuteTime": {
     "end_time": "2019-10-09T04:28:11.159332Z",
     "start_time": "2019-10-09T04:28:11.152441Z"
    }
   },
   "outputs": [
    {
     "name": "stdout",
     "output_type": "stream",
     "text": [
      "asdfasdfs37456347345#@$%^#&$@%$\n",
      "('asdfasdfs', '37456347345', '#@$%^#&$@%$')\n"
     ]
    }
   ],
   "source": [
    "sObj = re.search(\"([aA-zZ]+)(\\d+)(\\W+)\",a) # [a-z],[A-Z],[aA-zZ],[0-9]\n",
    "if sObj:\n",
    "    print(sObj.group())\n",
    "    print(sObj.groups())"
   ]
  },
  {
   "cell_type": "code",
   "execution_count": 25,
   "metadata": {
    "ExecuteTime": {
     "end_time": "2019-10-09T04:31:13.011713Z",
     "start_time": "2019-10-09T04:31:13.007582Z"
    }
   },
   "outputs": [],
   "source": [
    "a = \"asdfasdfs37456347345#@$%^#&$@%$sdhfhs23642356\""
   ]
  },
  {
   "cell_type": "code",
   "execution_count": 26,
   "metadata": {
    "ExecuteTime": {
     "end_time": "2019-10-09T04:31:13.590190Z",
     "start_time": "2019-10-09T04:31:13.578636Z"
    }
   },
   "outputs": [
    {
     "name": "stdout",
     "output_type": "stream",
     "text": [
      "asdfasdfs37456347345#@$%^#&$@%$sdhfhs23642356\n",
      "('asdfasdfs', '37456347345', '#@$%^#&$@%$', 'sdhfhs23642356')\n"
     ]
    }
   ],
   "source": [
    "sObj = re.search(\"([aA-zZ]+)(\\d+)(\\W+)(\\w+)?\",a) # [a-z],[A-Z],[aA-zZ],[0-9]\n",
    "if sObj:\n",
    "    print(sObj.group())\n",
    "    print(sObj.groups())"
   ]
  },
  {
   "cell_type": "code",
   "execution_count": 27,
   "metadata": {
    "ExecuteTime": {
     "end_time": "2019-10-09T04:33:39.827255Z",
     "start_time": "2019-10-09T04:33:39.822253Z"
    }
   },
   "outputs": [],
   "source": [
    "bill = \"\"\"The 1994 State of the Union address was given by President Bill Clinton to a joint session of the 103rd United States Congress on Tuesday, January 25, 1994. The speech was Clinton's first official State of the Union address, although he had similarly addressed a joint session of Congress a year prior shortly after taking office.\n",
    "\n",
    "The president discussed the federal budget deficit, taxes, defense spending, crime, foreign affairs, education, the economy, free trade, the role of government, campaign finance reform, welfare reform, and promoting the Clinton health care plan. President Clinton threatened to veto any legislation that did not guarantee every American private health insurance. He proposed for policies to fight crime: a three strikes law for repeat violent offenders; 100,000 more police officers on the streets; expand gun control to further prevent criminals from being armed and ban assault weapons; additional support for drug treatment and education.\n",
    "\n",
    "The president began the speech with an acknowledgment of former Speaker Tip O'Neill, who died on January 5, 1994. While discussing additional community policing, the president honored Kevin Jett, a New York City cop attending the address who had been featured in a New York Times story in December 1993.[1]\n",
    "\n",
    "The speech lasted 63 minutes[2] and consisted of 7,432 words.[3] It was the longest State of the Union speech since Lyndon B. Johnson's 1967 State of the Union Address. Republican Representative Henry Hyde criticized the speech as \"interminable\".[4]\n",
    "\n",
    "The Republican Party response was delivered by Senator Bob Dole of Kansas.[5] Dole argued that health care in the United States was not in crisis, the Republican opposition to Clinton's plans in the previous year had been popular, and the deficit reduction was the temporary result of tax increases.[4]\n",
    "\n",
    "Mike Espy, the Secretary of Agriculture, served as the designated survivor.\n",
    "\n",
    "Contrary to common belief,[6] Clinton did not have to recite the speech from memory because the teleprompter was loaded with the wrong speech. This had happened the previous year: in a speech Clinton gave to Congress on 22 September 1993 detailing the Clinton health care plan, the teleprompter was loaded with the wrong speech. Specifically, the one he gave to a joint session of Congress shortly after he was sworn-in in 1993. Teleprompter operators practiced with the old speech and it was accidentally left in, forcing Clinton to ad-lib for almost ten minutes.[7][8][9][10] The two incidents are often conflated. What happened is that President Clinton simply referenced the September 1993 incident. \"\"\""
   ]
  },
  {
   "cell_type": "code",
   "execution_count": 28,
   "metadata": {
    "ExecuteTime": {
     "end_time": "2019-10-09T04:33:59.356350Z",
     "start_time": "2019-10-09T04:33:59.348240Z"
    }
   },
   "outputs": [
    {
     "name": "stdout",
     "output_type": "stream",
     "text": [
      "['1994', '103', '25', '1994', '100', '000', '5', '1994', '1993', '1', '63', '2', '7', '432', '3', '1967', '4', '5', '4', '6', '22', '1993', '1993', '7', '8', '9', '10', '1993']\n"
     ]
    }
   ],
   "source": [
    "print(re.findall(\"\\d+\",bill))"
   ]
  },
  {
   "cell_type": "code",
   "execution_count": 29,
   "metadata": {
    "ExecuteTime": {
     "end_time": "2019-10-09T04:34:16.834477Z",
     "start_time": "2019-10-09T04:34:16.827218Z"
    }
   },
   "outputs": [
    {
     "name": "stdout",
     "output_type": "stream",
     "text": [
      "['The', '1994', 'State', 'of', 'the', 'Union', 'address', 'was', 'given', 'by', 'President', 'Bill', 'Clinton', 'to', 'a', 'joint', 'session', 'of', 'the', '103rd', 'United', 'States', 'Congress', 'on', 'Tuesday', 'January', '25', '1994', 'The', 'speech', 'was', 'Clinton', 's', 'first', 'official', 'State', 'of', 'the', 'Union', 'address', 'although', 'he', 'had', 'similarly', 'addressed', 'a', 'joint', 'session', 'of', 'Congress', 'a', 'year', 'prior', 'shortly', 'after', 'taking', 'office', 'The', 'president', 'discussed', 'the', 'federal', 'budget', 'deficit', 'taxes', 'defense', 'spending', 'crime', 'foreign', 'affairs', 'education', 'the', 'economy', 'free', 'trade', 'the', 'role', 'of', 'government', 'campaign', 'finance', 'reform', 'welfare', 'reform', 'and', 'promoting', 'the', 'Clinton', 'health', 'care', 'plan', 'President', 'Clinton', 'threatened', 'to', 'veto', 'any', 'legislation', 'that', 'did', 'not', 'guarantee', 'every', 'American', 'private', 'health', 'insurance', 'He', 'proposed', 'for', 'policies', 'to', 'fight', 'crime', 'a', 'three', 'strikes', 'law', 'for', 'repeat', 'violent', 'offenders', '100', '000', 'more', 'police', 'officers', 'on', 'the', 'streets', 'expand', 'gun', 'control', 'to', 'further', 'prevent', 'criminals', 'from', 'being', 'armed', 'and', 'ban', 'assault', 'weapons', 'additional', 'support', 'for', 'drug', 'treatment', 'and', 'education', 'The', 'president', 'began', 'the', 'speech', 'with', 'an', 'acknowledgment', 'of', 'former', 'Speaker', 'Tip', 'O', 'Neill', 'who', 'died', 'on', 'January', '5', '1994', 'While', 'discussing', 'additional', 'community', 'policing', 'the', 'president', 'honored', 'Kevin', 'Jett', 'a', 'New', 'York', 'City', 'cop', 'attending', 'the', 'address', 'who', 'had', 'been', 'featured', 'in', 'a', 'New', 'York', 'Times', 'story', 'in', 'December', '1993', '1', 'The', 'speech', 'lasted', '63', 'minutes', '2', 'and', 'consisted', 'of', '7', '432', 'words', '3', 'It', 'was', 'the', 'longest', 'State', 'of', 'the', 'Union', 'speech', 'since', 'Lyndon', 'B', 'Johnson', 's', '1967', 'State', 'of', 'the', 'Union', 'Address', 'Republican', 'Representative', 'Henry', 'Hyde', 'criticized', 'the', 'speech', 'as', 'interminable', '4', 'The', 'Republican', 'Party', 'response', 'was', 'delivered', 'by', 'Senator', 'Bob', 'Dole', 'of', 'Kansas', '5', 'Dole', 'argued', 'that', 'health', 'care', 'in', 'the', 'United', 'States', 'was', 'not', 'in', 'crisis', 'the', 'Republican', 'opposition', 'to', 'Clinton', 's', 'plans', 'in', 'the', 'previous', 'year', 'had', 'been', 'popular', 'and', 'the', 'deficit', 'reduction', 'was', 'the', 'temporary', 'result', 'of', 'tax', 'increases', '4', 'Mike', 'Espy', 'the', 'Secretary', 'of', 'Agriculture', 'served', 'as', 'the', 'designated', 'survivor', 'Contrary', 'to', 'common', 'belief', '6', 'Clinton', 'did', 'not', 'have', 'to', 'recite', 'the', 'speech', 'from', 'memory', 'because', 'the', 'teleprompter', 'was', 'loaded', 'with', 'the', 'wrong', 'speech', 'This', 'had', 'happened', 'the', 'previous', 'year', 'in', 'a', 'speech', 'Clinton', 'gave', 'to', 'Congress', 'on', '22', 'September', '1993', 'detailing', 'the', 'Clinton', 'health', 'care', 'plan', 'the', 'teleprompter', 'was', 'loaded', 'with', 'the', 'wrong', 'speech', 'Specifically', 'the', 'one', 'he', 'gave', 'to', 'a', 'joint', 'session', 'of', 'Congress', 'shortly', 'after', 'he', 'was', 'sworn', 'in', 'in', '1993', 'Teleprompter', 'operators', 'practiced', 'with', 'the', 'old', 'speech', 'and', 'it', 'was', 'accidentally', 'left', 'in', 'forcing', 'Clinton', 'to', 'ad', 'lib', 'for', 'almost', 'ten', 'minutes', '7', '8', '9', '10', 'The', 'two', 'incidents', 'are', 'often', 'conflated', 'What', 'happened', 'is', 'that', 'President', 'Clinton', 'simply', 'referenced', 'the', 'September', '1993', 'incident']\n"
     ]
    }
   ],
   "source": [
    "print(re.findall(\"\\w+\",bill))"
   ]
  },
  {
   "cell_type": "code",
   "execution_count": 30,
   "metadata": {
    "ExecuteTime": {
     "end_time": "2019-10-09T04:35:18.432107Z",
     "start_time": "2019-10-09T04:35:18.424998Z"
    }
   },
   "outputs": [
    {
     "name": "stdout",
     "output_type": "stream",
     "text": [
      "[' 1994 ', ' Bill ', ' year ', ' free ', ' role ', ' care ', ' veto ', ' that ', ' more ', ' from ', ' drug ', ' with ', ' died ', ' York ', ' been ', ' York ', ' 1967 ', ' Hyde ', ' Dole ', ' Dole ', ' that ', ' care ', ' year ', ' been ', ' have ', ' from ', ' with ', ' This ', ' gave ', ' 1993 ', ' care ', ' with ', ' gave ', ' with ', ' left ', ' What ', ' that ', ' 1993 ']\n"
     ]
    }
   ],
   "source": [
    "print(re.findall(\" \\w\\w\\w\\w \",bill))"
   ]
  },
  {
   "cell_type": "code",
   "execution_count": 31,
   "metadata": {
    "ExecuteTime": {
     "end_time": "2019-10-09T04:36:23.978290Z",
     "start_time": "2019-10-09T04:36:23.971287Z"
    }
   },
   "outputs": [
    {
     "name": "stdout",
     "output_type": "stream",
     "text": [
      "[' the ', ' was ', ' the ', ' The ', ' was ', ' the ', ' had ', ' the ', ' the ', ' the ', ' and ', ' the ', ' any ', ' did ', ' for ', ' law ', ' the ', ' gun ', ' and ', ' for ', ' and ', ' the ', ' Tip ', ' who ', ' the ', ' New ', ' cop ', ' the ', ' who ', ' New ', ' and ', ' was ', ' the ', ' the ', ' the ', ' was ', ' Bob ', ' the ', ' was ', ' the ', ' the ', ' had ', ' and ', ' was ', ' tax ', ' the ', ' the ', ' did ', ' the ', ' the ', ' was ', ' the ', ' had ', ' the ', ' the ', ' the ', ' was ', ' the ', ' the ', ' was ', ' the ', ' and ', ' was ', ' for ', ' ten ', ' The ', ' are ', ' the ']\n"
     ]
    }
   ],
   "source": [
    "print(re.findall(\" \\w{3} \",bill))"
   ]
  },
  {
   "cell_type": "code",
   "execution_count": 32,
   "metadata": {
    "ExecuteTime": {
     "end_time": "2019-10-09T04:36:36.993830Z",
     "start_time": "2019-10-09T04:36:36.988333Z"
    }
   },
   "outputs": [
    {
     "name": "stdout",
     "output_type": "stream",
     "text": [
      "[' 1994 ', ' the ', ' was ', ' Bill ', ' joint ', ' the ', ' United ', ' The ', ' was ', ' first ', ' State ', ' the ', ' had ', ' joint ', ' year ', ' after ', ' the ', ' budget ', ' the ', ' free ', ' the ', ' and ', ' the ', ' health ', ' veto ', ' that ', ' not ', ' every ', ' health ', ' for ', ' fight ', ' three ', ' law ', ' repeat ', ' more ', ' the ', ' expand ', ' from ', ' armed ', ' ban ', ' for ', ' and ', ' began ', ' speech ', ' former ', ' Tip ', ' who ', ' While ', ' the ', ' Kevin ', ' New ', ' City ', ' the ', ' who ', ' been ', ' New ', ' Times ', ' speech ', ' and ', ' was ', ' State ', ' the ', ' speech ', ' Lyndon ', ' 1967 ', ' the ', ' Henry ', ' the ', ' Party ', ' was ', ' Bob ', ' Dole ', ' that ', ' care ', ' the ', ' States ', ' not ', ' the ', ' plans ', ' the ', ' year ', ' been ', ' and ', ' was ', ' result ', ' tax ', ' the ', ' served ', ' the ', ' common ', ' did ', ' have ', ' recite ', ' speech ', ' memory ', ' the ', ' was ', ' with ', ' wrong ', ' This ', ' the ', ' speech ', ' gave ', ' 1993 ', ' the ', ' health ', ' the ', ' was ', ' with ', ' wrong ', ' the ', ' gave ', ' joint ', ' after ', ' was ', ' with ', ' old ', ' and ', ' was ', ' left ', ' for ', ' ten ', ' The ', ' are ', ' What ', ' that ', ' simply ', ' the ', ' 1993 ']\n"
     ]
    }
   ],
   "source": [
    "print(re.findall(\" \\w{3,6} \",bill))"
   ]
  },
  {
   "cell_type": "code",
   "execution_count": 33,
   "metadata": {
    "ExecuteTime": {
     "end_time": "2019-10-09T04:37:04.984295Z",
     "start_time": "2019-10-09T04:37:04.977134Z"
    }
   },
   "outputs": [
    {
     "name": "stdout",
     "output_type": "stream",
     "text": [
      "[' 1994 ', ' 1967 ', ' 1993 ', ' 1993 ']\n"
     ]
    }
   ],
   "source": [
    "print(re.findall(\" \\d{4} \",bill))"
   ]
  },
  {
   "cell_type": "code",
   "execution_count": 34,
   "metadata": {
    "ExecuteTime": {
     "end_time": "2019-10-09T04:38:51.419034Z",
     "start_time": "2019-10-09T04:38:51.411492Z"
    }
   },
   "outputs": [
    {
     "name": "stdout",
     "output_type": "stream",
     "text": [
      "[' address ', ' President ', ' Clinton ', ' session ', ' United ', ' Congress ', ' January ', ' speech ', ' official ', ' although ', ' similarly ', ' session ', ' Congress ', ' shortly ', ' taking ', ' president ', ' federal ', ' defense ', ' foreign ', ' campaign ', ' welfare ', ' promoting ', ' Clinton ', ' President ', ' threatened ', ' legislation ', ' guarantee ', ' American ', ' health ', ' proposed ', ' policies ', ' strikes ', ' repeat ', ' police ', ' expand ', ' control ', ' further ', ' criminals ', ' assault ', ' additional ', ' treatment ', ' president ', ' speech ', ' acknowledgment ', ' former ', ' January ', ' discussing ', ' community ', ' president ', ' attending ', ' address ', ' featured ', ' December ', ' speech ', ' consisted ', ' longest ', ' speech ', ' Lyndon ', ' Republican ', ' criticized ', ' speech ', ' Republican ', ' response ', ' delivered ', ' Senator ', ' argued ', ' health ', ' United ', ' Republican ', ' previous ', ' deficit ', ' temporary ', ' Secretary ', ' served ', ' designated ', ' common ', ' Clinton ', ' recite ', ' speech ', ' memory ', ' teleprompter ', ' loaded ', ' happened ', ' previous ', ' speech ', ' Congress ', ' September ', ' detailing ', ' Clinton ', ' teleprompter ', ' loaded ', ' session ', ' Congress ', ' Teleprompter ', ' practiced ', ' speech ', ' accidentally ', ' forcing ', ' almost ', ' incidents ', ' happened ', ' President ', ' simply ', ' September ']\n"
     ]
    }
   ],
   "source": [
    "print(re.findall(\" \\w{6,} \",bill))"
   ]
  },
  {
   "cell_type": "code",
   "execution_count": 35,
   "metadata": {
    "ExecuteTime": {
     "end_time": "2019-10-09T04:38:56.681331Z",
     "start_time": "2019-10-09T04:38:56.674101Z"
    }
   },
   "outputs": [
    {
     "name": "stdout",
     "output_type": "stream",
     "text": [
      "[' United ', ' speech ', ' taking ', ' budget ', ' health ', ' health ', ' repeat ', ' police ', ' expand ', ' speech ', ' former ', ' speech ', ' speech ', ' Lyndon ', ' speech ', ' argued ', ' health ', ' United ', ' result ', ' served ', ' common ', ' recite ', ' speech ', ' memory ', ' loaded ', ' speech ', ' health ', ' loaded ', ' speech ', ' almost ', ' simply ']\n"
     ]
    }
   ],
   "source": [
    "print(re.findall(\" \\w{6} \",bill))"
   ]
  },
  {
   "cell_type": "markdown",
   "metadata": {},
   "source": [
    "# Multiple pattern searching"
   ]
  },
  {
   "cell_type": "code",
   "execution_count": 36,
   "metadata": {
    "ExecuteTime": {
     "end_time": "2019-10-09T04:40:34.151103Z",
     "start_time": "2019-10-09T04:40:34.147105Z"
    }
   },
   "outputs": [],
   "source": [
    "a = \"This is class CLASS cLass\""
   ]
  },
  {
   "cell_type": "code",
   "execution_count": 37,
   "metadata": {
    "ExecuteTime": {
     "end_time": "2019-10-09T04:41:57.501800Z",
     "start_time": "2019-10-09T04:41:57.494720Z"
    }
   },
   "outputs": [
    {
     "name": "stdout",
     "output_type": "stream",
     "text": [
      "['class', 'CLASS']\n"
     ]
    }
   ],
   "source": [
    "print(re.findall(\"(class|CLASS)\",a))"
   ]
  },
  {
   "cell_type": "code",
   "execution_count": 38,
   "metadata": {
    "ExecuteTime": {
     "end_time": "2019-10-09T04:41:58.969802Z",
     "start_time": "2019-10-09T04:41:58.962851Z"
    }
   },
   "outputs": [
    {
     "name": "stdout",
     "output_type": "stream",
     "text": [
      "['class', 'CLASS', 'cLass']\n"
     ]
    }
   ],
   "source": [
    "print(re.findall(\"(class|CLASS)\",a,flags=re.I))"
   ]
  },
  {
   "cell_type": "markdown",
   "metadata": {},
   "source": [
    "# Back referencing"
   ]
  },
  {
   "cell_type": "code",
   "execution_count": 39,
   "metadata": {
    "ExecuteTime": {
     "end_time": "2019-10-09T04:45:45.688270Z",
     "start_time": "2019-10-09T04:45:45.683229Z"
    }
   },
   "outputs": [],
   "source": [
    "a = \"111 222 111 222 222 \""
   ]
  },
  {
   "cell_type": "code",
   "execution_count": 40,
   "metadata": {
    "ExecuteTime": {
     "end_time": "2019-10-09T04:45:46.818180Z",
     "start_time": "2019-10-09T04:45:46.811127Z"
    }
   },
   "outputs": [
    {
     "name": "stdout",
     "output_type": "stream",
     "text": [
      "111 222 111 \n"
     ]
    }
   ],
   "source": [
    "sObj = re.search(\"111 222 111 \",a)\n",
    "if sObj:\n",
    "    print(sObj.group())"
   ]
  },
  {
   "cell_type": "code",
   "execution_count": 41,
   "metadata": {
    "ExecuteTime": {
     "end_time": "2019-10-09T04:45:59.769465Z",
     "start_time": "2019-10-09T04:45:59.762464Z"
    }
   },
   "outputs": [
    {
     "name": "stdout",
     "output_type": "stream",
     "text": [
      "111 222 111 222 \n"
     ]
    }
   ],
   "source": [
    "sObj = re.search(\"(111 )(222 )\\\\1(222 )\",a)\n",
    "if sObj:\n",
    "    print(sObj.group())"
   ]
  },
  {
   "cell_type": "code",
   "execution_count": 42,
   "metadata": {
    "ExecuteTime": {
     "end_time": "2019-10-09T04:46:17.132981Z",
     "start_time": "2019-10-09T04:46:17.125446Z"
    }
   },
   "outputs": [
    {
     "name": "stdout",
     "output_type": "stream",
     "text": [
      "111 222 111 222 \n"
     ]
    }
   ],
   "source": [
    "sObj = re.search(\"(111 )(222 )\\\\1\\\\2\",a)\n",
    "if sObj:\n",
    "    print(sObj.group())"
   ]
  },
  {
   "cell_type": "markdown",
   "metadata": {},
   "source": [
    "# Exercise"
   ]
  },
  {
   "cell_type": "markdown",
   "metadata": {},
   "source": [
    "###### Open the test5.txt file and print all the non-empty lines. Then later print only those lines which is ending with even numbers. Do this with or without regex"
   ]
  },
  {
   "cell_type": "code",
   "execution_count": 43,
   "metadata": {
    "ExecuteTime": {
     "end_time": "2019-10-09T05:04:12.067066Z",
     "start_time": "2019-10-09T05:04:12.052064Z"
    }
   },
   "outputs": [
    {
     "name": "stdout",
     "output_type": "stream",
     "text": [
      "This is Line1\n",
      "\n",
      "This is Line2\n",
      "\n",
      "This is Line3\n",
      "\n",
      "This is Line4\n",
      "\n",
      "This is Line5\n",
      "\n",
      "This is Line6\n",
      "\n",
      "This is Line7\n",
      "\n",
      "This is Line8\n",
      "\n",
      "This is Line9\n",
      "\n"
     ]
    }
   ],
   "source": [
    "fh = open(\"test5.txt\")\n",
    "\n",
    "for line in fh:\n",
    "    if line != \"\\n\":\n",
    "        print(line)"
   ]
  },
  {
   "cell_type": "code",
   "execution_count": 44,
   "metadata": {
    "ExecuteTime": {
     "end_time": "2019-10-09T05:06:12.064798Z",
     "start_time": "2019-10-09T05:06:12.052796Z"
    }
   },
   "outputs": [
    {
     "name": "stdout",
     "output_type": "stream",
     "text": [
      "This is Line2\n",
      "\n",
      "This is Line4\n",
      "\n",
      "This is Line6\n",
      "\n",
      "This is Line8\n",
      "\n"
     ]
    }
   ],
   "source": [
    "fh = open(\"test5.txt\")\n",
    "\n",
    "for line in fh:\n",
    "    if line != \"\\n\" and int(line[-2])%2 == 0:\n",
    "        print(line)"
   ]
  },
  {
   "cell_type": "markdown",
   "metadata": {},
   "source": [
    "# Using regular expression"
   ]
  },
  {
   "cell_type": "code",
   "execution_count": 45,
   "metadata": {
    "ExecuteTime": {
     "end_time": "2019-10-09T05:08:35.305079Z",
     "start_time": "2019-10-09T05:08:35.295075Z"
    }
   },
   "outputs": [
    {
     "name": "stdout",
     "output_type": "stream",
     "text": [
      "This is Line2\n",
      "\n",
      "This is Line4\n",
      "\n",
      "This is Line6\n",
      "\n",
      "This is Line8\n",
      "\n"
     ]
    }
   ],
   "source": [
    "fh = open(\"test5.txt\")\n",
    "for line in fh:\n",
    "    sObj = re.search(\"[02468]$\",line)\n",
    "    if sObj:\n",
    "        print(line)"
   ]
  },
  {
   "cell_type": "code",
   "execution_count": null,
   "metadata": {},
   "outputs": [],
   "source": []
  }
 ],
 "metadata": {
  "kernelspec": {
   "display_name": "Python 3",
   "language": "python",
   "name": "python3"
  },
  "language_info": {
   "codemirror_mode": {
    "name": "ipython",
    "version": 3
   },
   "file_extension": ".py",
   "mimetype": "text/x-python",
   "name": "python",
   "nbconvert_exporter": "python",
   "pygments_lexer": "ipython3",
   "version": "3.7.4"
  },
  "latex_envs": {
   "LaTeX_envs_menu_present": true,
   "autoclose": false,
   "autocomplete": true,
   "bibliofile": "biblio.bib",
   "cite_by": "apalike",
   "current_citInitial": 1,
   "eqLabelWithNumbers": true,
   "eqNumInitial": 1,
   "hotkeys": {
    "equation": "Ctrl-E",
    "itemize": "Ctrl-I"
   },
   "labels_anchors": false,
   "latex_user_defs": false,
   "report_style_numbering": false,
   "user_envs_cfg": false
  },
  "toc": {
   "base_numbering": 1,
   "nav_menu": {},
   "number_sections": true,
   "sideBar": true,
   "skip_h1_title": false,
   "title_cell": "Table of Contents",
   "title_sidebar": "Contents",
   "toc_cell": false,
   "toc_position": {},
   "toc_section_display": true,
   "toc_window_display": false
  },
  "varInspector": {
   "cols": {
    "lenName": 16,
    "lenType": 16,
    "lenVar": 40
   },
   "kernels_config": {
    "python": {
     "delete_cmd_postfix": "",
     "delete_cmd_prefix": "del ",
     "library": "var_list.py",
     "varRefreshCmd": "print(var_dic_list())"
    },
    "r": {
     "delete_cmd_postfix": ") ",
     "delete_cmd_prefix": "rm(",
     "library": "var_list.r",
     "varRefreshCmd": "cat(var_dic_list()) "
    }
   },
   "types_to_exclude": [
    "module",
    "function",
    "builtin_function_or_method",
    "instance",
    "_Feature"
   ],
   "window_display": false
  }
 },
 "nbformat": 4,
 "nbformat_minor": 4
}
