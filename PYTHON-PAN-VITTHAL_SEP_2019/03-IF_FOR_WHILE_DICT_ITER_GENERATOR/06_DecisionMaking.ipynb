{
 "cells": [
  {
   "cell_type": "markdown",
   "metadata": {},
   "source": [
    "# Decision Making\n",
    "- Definition\n",
    "- if else statement\n",
    "- nested if else statement"
   ]
  },
  {
   "cell_type": "code",
   "execution_count": 1,
   "metadata": {},
   "outputs": [],
   "source": [
    "# syntax:\n",
    "# if <condition1> and/or <condition2>... :\n",
    "#     <statement1>\n",
    "#     <statement2>\n",
    "#     .\n",
    "#     .\n",
    "# else: # This is optional\n",
    "#     <statement1>\n",
    "#     <statement2>\n",
    "#     .\n",
    "#     ."
   ]
  },
  {
   "cell_type": "code",
   "execution_count": 2,
   "metadata": {},
   "outputs": [],
   "source": [
    "# if <condition1> and/or <condition2>... :\n",
    "#     <statement1>\n",
    "#     <statement2>\n",
    "#     .\n",
    "#     .\n",
    "# elif <condition>:\n",
    "#     <statement1>\n",
    "#     <statement2>\n",
    "#     .\n",
    "#     .\n",
    "# else: # This is optional\n",
    "#     <statement1>\n",
    "#     <statement2>\n",
    "#     .\n",
    "#     ."
   ]
  },
  {
   "cell_type": "code",
   "execution_count": 3,
   "metadata": {},
   "outputs": [
    {
     "name": "stdout",
     "output_type": "stream",
     "text": [
      "t is present in:: python\n"
     ]
    }
   ],
   "source": [
    "a = \"python\"\n",
    "if \"t\" in a:\n",
    "    print(\"t is present in::\",a)\n",
    "else:\n",
    "    print(\"t is NOT present in::\",a)"
   ]
  },
  {
   "cell_type": "code",
   "execution_count": 4,
   "metadata": {},
   "outputs": [
    {
     "name": "stdout",
     "output_type": "stream",
     "text": [
      "x is NOT present in:: python\n"
     ]
    }
   ],
   "source": [
    "a = \"python\"\n",
    "if \"x\" in a:\n",
    "    print(\"x is present in::\",a)\n",
    "else:\n",
    "    print(\"x is NOT present in::\",a)"
   ]
  },
  {
   "cell_type": "code",
   "execution_count": 5,
   "metadata": {},
   "outputs": [
    {
     "name": "stdout",
     "output_type": "stream",
     "text": [
      "o is present in:: python\n"
     ]
    }
   ],
   "source": [
    "a = \"python\"\n",
    "if \"x\" in a:\n",
    "    print(\"x is present in::\",a)\n",
    "elif \"o\" in a:\n",
    "    print(\"o is present in::\",a)\n",
    "else:\n",
    "    print(\"x is NOT present in::\",a)"
   ]
  },
  {
   "cell_type": "code",
   "execution_count": null,
   "metadata": {},
   "outputs": [],
   "source": []
  }
 ],
 "metadata": {
  "kernelspec": {
   "display_name": "Python 3",
   "language": "python",
   "name": "python3"
  },
  "language_info": {
   "codemirror_mode": {
    "name": "ipython",
    "version": 3
   },
   "file_extension": ".py",
   "mimetype": "text/x-python",
   "name": "python",
   "nbconvert_exporter": "python",
   "pygments_lexer": "ipython3",
   "version": "3.7.4"
  }
 },
 "nbformat": 4,
 "nbformat_minor": 4
}
