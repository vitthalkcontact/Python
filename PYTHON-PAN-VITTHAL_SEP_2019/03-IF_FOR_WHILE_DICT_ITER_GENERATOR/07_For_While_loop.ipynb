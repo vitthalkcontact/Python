{
 "cells": [
  {
   "cell_type": "markdown",
   "metadata": {},
   "source": [
    "# For loop\n",
    "- Definition\n",
    "- For loop \n",
    "- While loop\n",
    "- break \n",
    "- continue"
   ]
  },
  {
   "cell_type": "code",
   "execution_count": 1,
   "metadata": {},
   "outputs": [],
   "source": [
    "# for loop synatx:\n",
    "# for <variable_name> in <any_sequence>:\n",
    "#     <statements>\n",
    "#     .\n",
    "#     .\n",
    "    "
   ]
  },
  {
   "cell_type": "code",
   "execution_count": 2,
   "metadata": {},
   "outputs": [
    {
     "name": "stdout",
     "output_type": "stream",
     "text": [
      "p\n",
      "y\n",
      "t\n",
      "h\n",
      "o\n",
      "n\n"
     ]
    }
   ],
   "source": [
    "a = \"python\"\n",
    "for Chars in a:\n",
    "    print(Chars)"
   ]
  },
  {
   "cell_type": "code",
   "execution_count": 3,
   "metadata": {},
   "outputs": [
    {
     "name": "stdout",
     "output_type": "stream",
     "text": [
      "p1\n",
      "p2\n",
      "p3\n",
      "p4\n",
      "p5\n",
      "y1\n",
      "y2\n",
      "y3\n",
      "y4\n",
      "y5\n",
      "t1\n",
      "t2\n",
      "t3\n",
      "t4\n",
      "t5\n",
      "h1\n",
      "h2\n",
      "h3\n",
      "h4\n",
      "h5\n",
      "o1\n",
      "o2\n",
      "o3\n",
      "o4\n",
      "o5\n",
      "n1\n",
      "n2\n",
      "n3\n",
      "n4\n",
      "n5\n"
     ]
    }
   ],
   "source": [
    "a = \"python\"\n",
    "for Chars in a:\n",
    "    for num in range(1,6):\n",
    "        print(Chars+str(num))"
   ]
  },
  {
   "cell_type": "markdown",
   "metadata": {},
   "source": [
    "# While loop"
   ]
  },
  {
   "cell_type": "code",
   "execution_count": 4,
   "metadata": {},
   "outputs": [],
   "source": [
    "# Syntax:\n",
    "# while <any condition>:\n",
    "#     <statements>\n",
    "#     .\n",
    "#     .\n"
   ]
  },
  {
   "cell_type": "code",
   "execution_count": 5,
   "metadata": {},
   "outputs": [
    {
     "name": "stdout",
     "output_type": "stream",
     "text": [
      "10\n",
      "9\n",
      "8\n",
      "7\n",
      "6\n",
      "5\n",
      "4\n",
      "3\n",
      "2\n",
      "1\n"
     ]
    }
   ],
   "source": [
    "cnt = 10\n",
    "while cnt:\n",
    "    print(cnt)\n",
    "    cnt = cnt-1 # cnt -= 1"
   ]
  },
  {
   "cell_type": "markdown",
   "metadata": {},
   "source": [
    "# Break "
   ]
  },
  {
   "cell_type": "code",
   "execution_count": 6,
   "metadata": {},
   "outputs": [
    {
     "name": "stdout",
     "output_type": "stream",
     "text": [
      "p\n",
      "y\n",
      "t\n"
     ]
    }
   ],
   "source": [
    "a = \"python\"\n",
    "for Char in a:\n",
    "    if Char == \"h\":\n",
    "        break\n",
    "    else:\n",
    "        print(Char)"
   ]
  },
  {
   "cell_type": "markdown",
   "metadata": {},
   "source": [
    "# Continue"
   ]
  },
  {
   "cell_type": "code",
   "execution_count": 7,
   "metadata": {},
   "outputs": [
    {
     "name": "stdout",
     "output_type": "stream",
     "text": [
      "p\n",
      "y\n",
      "t\n",
      "o\n",
      "n\n"
     ]
    }
   ],
   "source": [
    "a = \"python\"\n",
    "for Char in a:\n",
    "    if Char == \"h\":\n",
    "        continue\n",
    "    else:\n",
    "        print(Char)"
   ]
  },
  {
   "cell_type": "markdown",
   "metadata": {},
   "source": [
    "# pass\n",
    "we use it just tomake our code syntactically correct but dont want to perform any operation"
   ]
  },
  {
   "cell_type": "code",
   "execution_count": 8,
   "metadata": {},
   "outputs": [],
   "source": [
    "if True:\n",
    "    pass\n",
    "else:\n",
    "    pass"
   ]
  },
  {
   "cell_type": "markdown",
   "metadata": {},
   "source": [
    "# Write a code which takes input number from user then generate a list of numbers from 0 till the entered number and then filter even and odd numbers. Print them separately"
   ]
  },
  {
   "cell_type": "code",
   "execution_count": 9,
   "metadata": {},
   "outputs": [
    {
     "name": "stdin",
     "output_type": "stream",
     "text": [
      "Enter a number.. 20\n"
     ]
    },
    {
     "name": "stdout",
     "output_type": "stream",
     "text": [
      "Even numbers are: [0, 2, 4, 6, 8, 10, 12, 14, 16, 18, 20]\n",
      "Odd numbers are: [1, 3, 5, 7, 9, 11, 13, 15, 17, 19]\n"
     ]
    }
   ],
   "source": [
    "num = int(input(\"Enter a number..\"))\n",
    "# print(num)\n",
    "# print(type(num))\n",
    "even = []\n",
    "odd = []\n",
    "for x in range(num+1):\n",
    "    if x%2 == 0:\n",
    "        even.append(x)\n",
    "    else:\n",
    "        odd.append(x)\n",
    "print(\"Even numbers are:\",even)\n",
    "print(\"Odd numbers are:\",odd)"
   ]
  },
  {
   "cell_type": "markdown",
   "metadata": {},
   "source": [
    "# Write a encoder, which take a sentence from user and encode to new sentence by adding +3 to each characters. Print the final encoded sentence, encode only aplhabets.\n",
    "use this sentence to encode: This is learnbay class"
   ]
  },
  {
   "cell_type": "code",
   "execution_count": 10,
   "metadata": {},
   "outputs": [
    {
     "name": "stdout",
     "output_type": "stream",
     "text": [
      "Wklv#lv#Ohduqed|#Fodvv\n"
     ]
    }
   ],
   "source": [
    "sent = \"This is Learnbay Class\"\n",
    "tmp = \"\"\n",
    "for Char in sent:\n",
    "    tmp += chr(ord(Char)+3)\n",
    "print(tmp)"
   ]
  },
  {
   "cell_type": "code",
   "execution_count": 11,
   "metadata": {},
   "outputs": [
    {
     "name": "stdout",
     "output_type": "stream",
     "text": [
      "This is Learnbay Class\n"
     ]
    }
   ],
   "source": [
    "sent = \"Wklv#lv#Ohduqed|#Fodvv\"\n",
    "tmp = \"\"\n",
    "for Char in sent:\n",
    "    tmp += chr(ord(Char)-3)\n",
    "print(tmp)"
   ]
  },
  {
   "cell_type": "code",
   "execution_count": 12,
   "metadata": {},
   "outputs": [
    {
     "name": "stdin",
     "output_type": "stream",
     "text": [
      "Enter a sentence: This is Learnbay Class\n"
     ]
    },
    {
     "name": "stdout",
     "output_type": "stream",
     "text": [
      "Wklv#lv#Ohduqed|#Fodvv\n"
     ]
    }
   ],
   "source": [
    "a= input(\"Enter a sentence:\")\n",
    "b=\"\"\n",
    "for x in a:\n",
    "    b += chr(ord(x)+3)\n",
    "print(b)"
   ]
  },
  {
   "cell_type": "code",
   "execution_count": 13,
   "metadata": {},
   "outputs": [
    {
     "name": "stdout",
     "output_type": "stream",
     "text": [
      "This is Learnbay Class\n"
     ]
    }
   ],
   "source": [
    "a= \"Wklv#lv#Ohduqed|#Fodvv\"\n",
    "b=\"\"\n",
    "for x in a:\n",
    "    b += chr(ord(x)-3)\n",
    "print(b)"
   ]
  }
 ],
 "metadata": {
  "kernelspec": {
   "display_name": "Python 3",
   "language": "python",
   "name": "python3"
  },
  "language_info": {
   "codemirror_mode": {
    "name": "ipython",
    "version": 3
   },
   "file_extension": ".py",
   "mimetype": "text/x-python",
   "name": "python",
   "nbconvert_exporter": "python",
   "pygments_lexer": "ipython3",
   "version": "3.7.4"
  }
 },
 "nbformat": 4,
 "nbformat_minor": 4
}
